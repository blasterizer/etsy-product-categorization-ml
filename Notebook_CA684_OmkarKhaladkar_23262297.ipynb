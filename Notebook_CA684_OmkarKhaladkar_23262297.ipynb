{
 "cells": [
  {
   "cell_type": "code",
   "execution_count": 1,
   "id": "56581a43-e17c-448a-83ef-6e374604c14a",
   "metadata": {},
   "outputs": [
    {
     "name": "stdout",
     "output_type": "stream",
     "text": [
      "Requirement already satisfied: pandas in c:\\users\\omkar\\appdata\\local\\programs\\python\\python311\\lib\\site-packages (2.0.3)\n",
      "Requirement already satisfied: python-dateutil>=2.8.2 in c:\\users\\omkar\\appdata\\local\\programs\\python\\python311\\lib\\site-packages (from pandas) (2.8.2)\n",
      "Requirement already satisfied: pytz>=2020.1 in c:\\users\\omkar\\appdata\\local\\programs\\python\\python311\\lib\\site-packages (from pandas) (2023.3)\n",
      "Requirement already satisfied: tzdata>=2022.1 in c:\\users\\omkar\\appdata\\local\\programs\\python\\python311\\lib\\site-packages (from pandas) (2023.3)\n",
      "Requirement already satisfied: numpy>=1.21.0 in c:\\users\\omkar\\appdata\\local\\programs\\python\\python311\\lib\\site-packages (from pandas) (1.25.2)\n",
      "Requirement already satisfied: six>=1.5 in c:\\users\\omkar\\appdata\\local\\programs\\python\\python311\\lib\\site-packages (from python-dateutil>=2.8.2->pandas) (1.16.0)\n",
      "Requirement already satisfied: numpy in c:\\users\\omkar\\appdata\\local\\programs\\python\\python311\\lib\\site-packages (1.25.2)\n",
      "Requirement already satisfied: pyarrow in c:\\users\\omkar\\appdata\\local\\programs\\python\\python311\\lib\\site-packages (15.0.2)\n",
      "Requirement already satisfied: numpy<2,>=1.16.6 in c:\\users\\omkar\\appdata\\local\\programs\\python\\python311\\lib\\site-packages (from pyarrow) (1.25.2)\n",
      "Requirement already satisfied: fastparquet in c:\\users\\omkar\\appdata\\local\\programs\\python\\python311\\lib\\site-packages (2024.2.0)\n",
      "Requirement already satisfied: pandas>=1.5.0 in c:\\users\\omkar\\appdata\\local\\programs\\python\\python311\\lib\\site-packages (from fastparquet) (2.0.3)\n",
      "Requirement already satisfied: numpy>=1.20.3 in c:\\users\\omkar\\appdata\\local\\programs\\python\\python311\\lib\\site-packages (from fastparquet) (1.25.2)\n",
      "Requirement already satisfied: cramjam>=2.3 in c:\\users\\omkar\\appdata\\local\\programs\\python\\python311\\lib\\site-packages (from fastparquet) (2.8.3)\n",
      "Requirement already satisfied: fsspec in c:\\users\\omkar\\appdata\\local\\programs\\python\\python311\\lib\\site-packages (from fastparquet) (2024.3.1)\n",
      "Requirement already satisfied: packaging in c:\\users\\omkar\\appdata\\local\\programs\\python\\python311\\lib\\site-packages (from fastparquet) (23.1)\n",
      "Requirement already satisfied: python-dateutil>=2.8.2 in c:\\users\\omkar\\appdata\\local\\programs\\python\\python311\\lib\\site-packages (from pandas>=1.5.0->fastparquet) (2.8.2)\n",
      "Requirement already satisfied: pytz>=2020.1 in c:\\users\\omkar\\appdata\\local\\programs\\python\\python311\\lib\\site-packages (from pandas>=1.5.0->fastparquet) (2023.3)\n",
      "Requirement already satisfied: tzdata>=2022.1 in c:\\users\\omkar\\appdata\\local\\programs\\python\\python311\\lib\\site-packages (from pandas>=1.5.0->fastparquet) (2023.3)\n",
      "Requirement already satisfied: six>=1.5 in c:\\users\\omkar\\appdata\\local\\programs\\python\\python311\\lib\\site-packages (from python-dateutil>=2.8.2->pandas>=1.5.0->fastparquet) (1.16.0)\n",
      "Requirement already satisfied: matplotlib in c:\\users\\omkar\\appdata\\local\\programs\\python\\python311\\lib\\site-packages (3.7.2)\n",
      "Requirement already satisfied: contourpy>=1.0.1 in c:\\users\\omkar\\appdata\\local\\programs\\python\\python311\\lib\\site-packages (from matplotlib) (1.1.0)\n",
      "Requirement already satisfied: cycler>=0.10 in c:\\users\\omkar\\appdata\\local\\programs\\python\\python311\\lib\\site-packages (from matplotlib) (0.11.0)\n",
      "Requirement already satisfied: fonttools>=4.22.0 in c:\\users\\omkar\\appdata\\local\\programs\\python\\python311\\lib\\site-packages (from matplotlib) (4.42.0)\n",
      "Requirement already satisfied: kiwisolver>=1.0.1 in c:\\users\\omkar\\appdata\\local\\programs\\python\\python311\\lib\\site-packages (from matplotlib) (1.4.4)\n",
      "Requirement already satisfied: numpy>=1.20 in c:\\users\\omkar\\appdata\\local\\programs\\python\\python311\\lib\\site-packages (from matplotlib) (1.25.2)\n",
      "Requirement already satisfied: packaging>=20.0 in c:\\users\\omkar\\appdata\\local\\programs\\python\\python311\\lib\\site-packages (from matplotlib) (23.1)\n",
      "Requirement already satisfied: pillow>=6.2.0 in c:\\users\\omkar\\appdata\\local\\programs\\python\\python311\\lib\\site-packages (from matplotlib) (10.0.0)\n",
      "Requirement already satisfied: pyparsing<3.1,>=2.3.1 in c:\\users\\omkar\\appdata\\local\\programs\\python\\python311\\lib\\site-packages (from matplotlib) (3.0.9)\n",
      "Requirement already satisfied: python-dateutil>=2.7 in c:\\users\\omkar\\appdata\\local\\programs\\python\\python311\\lib\\site-packages (from matplotlib) (2.8.2)\n",
      "Requirement already satisfied: six>=1.5 in c:\\users\\omkar\\appdata\\local\\programs\\python\\python311\\lib\\site-packages (from python-dateutil>=2.7->matplotlib) (1.16.0)\n",
      "Requirement already satisfied: Pillow in c:\\users\\omkar\\appdata\\local\\programs\\python\\python311\\lib\\site-packages (10.0.0)\n",
      "Requirement already satisfied: scikit-learn in c:\\users\\omkar\\appdata\\local\\programs\\python\\python311\\lib\\site-packages (1.4.1.post1)\n",
      "Requirement already satisfied: numpy<2.0,>=1.19.5 in c:\\users\\omkar\\appdata\\local\\programs\\python\\python311\\lib\\site-packages (from scikit-learn) (1.25.2)\n",
      "Requirement already satisfied: scipy>=1.6.0 in c:\\users\\omkar\\appdata\\local\\programs\\python\\python311\\lib\\site-packages (from scikit-learn) (1.13.0)\n",
      "Requirement already satisfied: joblib>=1.2.0 in c:\\users\\omkar\\appdata\\local\\programs\\python\\python311\\lib\\site-packages (from scikit-learn) (1.3.2)\n",
      "Requirement already satisfied: threadpoolctl>=2.0.0 in c:\\users\\omkar\\appdata\\local\\programs\\python\\python311\\lib\\site-packages (from scikit-learn) (3.4.0)\n"
     ]
    }
   ],
   "source": [
    "# Install pandas\n",
    "!pip install pandas\n",
    "\n",
    "# Install numpy\n",
    "!pip install numpy\n",
    "\n",
    "\n",
    "!pip install pyarrow\n",
    "\n",
    "!pip install fastparquet\n",
    "# Install matplotlib\n",
    "!pip install matplotlib\n",
    "\n",
    "# Install Pillow for image processing\n",
    "!pip install Pillow\n",
    "\n",
    "# Install scikit-learn for machine learning algorithms\n",
    "!pip install scikit-learn\n"
   ]
  },
  {
   "cell_type": "code",
   "execution_count": 1,
   "id": "c3c66f78-0edc-4fdb-ba98-3e93abf38dd4",
   "metadata": {},
   "outputs": [],
   "source": [
    "# libraries\n",
    "import io\n",
    "import os\n",
    "from datetime import datetime\n",
    "import pandas as pd\n",
    "import numpy as np\n",
    "import matplotlib.pyplot as plt\n",
    "import matplotlib.image as mpimg\n",
    "from PIL import Image\n",
    "from sklearn import metrics\n",
    "\n",
    "# Matplotlib configuration\n",
    "font = { 'family': 'DejaVu Sans', 'weight': 'bold', 'size': 16 }\n",
    "plt.rc('font', **font)"
   ]
  },
  {
   "cell_type": "code",
   "execution_count": 3,
   "id": "6e28c6cc-edac-4b03-b088-de5ff5e815e8",
   "metadata": {},
   "outputs": [],
   "source": [
    "# set random seed\n",
    "np.random.seed(seed=42)"
   ]
  },
  {
   "cell_type": "code",
   "execution_count": 4,
   "id": "ffbe7a6d-5589-458a-9ec6-96c4f34cc4e3",
   "metadata": {},
   "outputs": [],
   "source": [
    "par_train_folder_path = \"D:\\\\MLEtsyAssignment\\\\data\\\\data\\\\2024\\\\train\"\n",
    "par_test_folder_path = \"D:\\\\MLEtsyAssignment\\\\data\\\\data\\\\2024\\\\test\""
   ]
  },
  {
   "cell_type": "markdown",
   "id": "93387765-40cb-44b5-a9a6-889003cfc8aa",
   "metadata": {},
   "source": [
    "# Training Dataset"
   ]
  },
  {
   "cell_type": "code",
   "execution_count": 5,
   "id": "281a0c95-1587-4329-b2cf-55add2b981ce",
   "metadata": {},
   "outputs": [
    {
     "name": "stdout",
     "output_type": "stream",
     "text": [
      "Found files: ['part-00000-of-00362.parquet', 'part-00001-of-00362.parquet', 'part-00002-of-00362.parquet', 'part-00003-of-00362.parquet', 'part-00004-of-00362.parquet', 'part-00005-of-00362.parquet', 'part-00006-of-00362.parquet', 'part-00007-of-00362.parquet', 'part-00008-of-00362.parquet', 'part-00009-of-00362.parquet', 'part-00010-of-00362.parquet', 'part-00011-of-00362.parquet', 'part-00012-of-00362.parquet', 'part-00013-of-00362.parquet', 'part-00014-of-00362.parquet', 'part-00015-of-00362.parquet', 'part-00016-of-00362.parquet', 'part-00017-of-00362.parquet', 'part-00018-of-00362.parquet', 'part-00019-of-00362.parquet', 'part-00020-of-00362.parquet', 'part-00021-of-00362.parquet', 'part-00022-of-00362.parquet', 'part-00023-of-00362.parquet', 'part-00024-of-00362.parquet', 'part-00025-of-00362.parquet', 'part-00026-of-00362.parquet', 'part-00027-of-00362.parquet', 'part-00028-of-00362.parquet', 'part-00029-of-00362.parquet', 'part-00030-of-00362.parquet', 'part-00031-of-00362.parquet', 'part-00032-of-00362.parquet', 'part-00033-of-00362.parquet', 'part-00034-of-00362.parquet', 'part-00035-of-00362.parquet', 'part-00036-of-00362.parquet', 'part-00037-of-00362.parquet', 'part-00038-of-00362.parquet', 'part-00039-of-00362.parquet', 'part-00040-of-00362.parquet', 'part-00041-of-00362.parquet', 'part-00042-of-00362.parquet', 'part-00043-of-00362.parquet', 'part-00044-of-00362.parquet', 'part-00045-of-00362.parquet', 'part-00046-of-00362.parquet', 'part-00047-of-00362.parquet', 'part-00048-of-00362.parquet', 'part-00049-of-00362.parquet', 'part-00050-of-00362.parquet', 'part-00051-of-00362.parquet', 'part-00052-of-00362.parquet', 'part-00053-of-00362.parquet', 'part-00054-of-00362.parquet', 'part-00055-of-00362.parquet', 'part-00056-of-00362.parquet', 'part-00057-of-00362.parquet', 'part-00058-of-00362.parquet', 'part-00059-of-00362.parquet', 'part-00060-of-00362.parquet', 'part-00061-of-00362.parquet', 'part-00062-of-00362.parquet', 'part-00063-of-00362.parquet', 'part-00064-of-00362.parquet', 'part-00065-of-00362.parquet', 'part-00066-of-00362.parquet', 'part-00067-of-00362.parquet', 'part-00068-of-00362.parquet', 'part-00069-of-00362.parquet', 'part-00070-of-00362.parquet', 'part-00071-of-00362.parquet', 'part-00072-of-00362.parquet', 'part-00073-of-00362.parquet', 'part-00074-of-00362.parquet', 'part-00075-of-00362.parquet', 'part-00076-of-00362.parquet', 'part-00077-of-00362.parquet', 'part-00078-of-00362.parquet', 'part-00079-of-00362.parquet', 'part-00080-of-00362.parquet', 'part-00081-of-00362.parquet', 'part-00082-of-00362.parquet', 'part-00083-of-00362.parquet', 'part-00084-of-00362.parquet', 'part-00085-of-00362.parquet', 'part-00086-of-00362.parquet', 'part-00087-of-00362.parquet', 'part-00088-of-00362.parquet', 'part-00089-of-00362.parquet', 'part-00090-of-00362.parquet', 'part-00091-of-00362.parquet', 'part-00092-of-00362.parquet', 'part-00093-of-00362.parquet', 'part-00094-of-00362.parquet', 'part-00095-of-00362.parquet', 'part-00096-of-00362.parquet', 'part-00097-of-00362.parquet', 'part-00098-of-00362.parquet', 'part-00099-of-00362.parquet', 'part-00100-of-00362.parquet', 'part-00101-of-00362.parquet', 'part-00102-of-00362.parquet', 'part-00103-of-00362.parquet', 'part-00104-of-00362.parquet', 'part-00105-of-00362.parquet', 'part-00106-of-00362.parquet', 'part-00107-of-00362.parquet', 'part-00108-of-00362.parquet', 'part-00109-of-00362.parquet', 'part-00110-of-00362.parquet', 'part-00111-of-00362.parquet', 'part-00112-of-00362.parquet', 'part-00113-of-00362.parquet', 'part-00114-of-00362.parquet', 'part-00115-of-00362.parquet', 'part-00116-of-00362.parquet', 'part-00117-of-00362.parquet', 'part-00118-of-00362.parquet', 'part-00119-of-00362.parquet', 'part-00120-of-00362.parquet', 'part-00121-of-00362.parquet', 'part-00122-of-00362.parquet', 'part-00123-of-00362.parquet', 'part-00124-of-00362.parquet', 'part-00125-of-00362.parquet', 'part-00126-of-00362.parquet', 'part-00127-of-00362.parquet', 'part-00128-of-00362.parquet', 'part-00129-of-00362.parquet', 'part-00130-of-00362.parquet', 'part-00131-of-00362.parquet', 'part-00132-of-00362.parquet', 'part-00133-of-00362.parquet', 'part-00134-of-00362.parquet', 'part-00135-of-00362.parquet', 'part-00136-of-00362.parquet', 'part-00137-of-00362.parquet', 'part-00138-of-00362.parquet', 'part-00139-of-00362.parquet', 'part-00140-of-00362.parquet', 'part-00141-of-00362.parquet', 'part-00142-of-00362.parquet', 'part-00143-of-00362.parquet', 'part-00144-of-00362.parquet', 'part-00145-of-00362.parquet', 'part-00146-of-00362.parquet', 'part-00147-of-00362.parquet', 'part-00148-of-00362.parquet', 'part-00149-of-00362.parquet', 'part-00150-of-00362.parquet', 'part-00151-of-00362.parquet', 'part-00152-of-00362.parquet', 'part-00153-of-00362.parquet', 'part-00154-of-00362.parquet', 'part-00155-of-00362.parquet', 'part-00156-of-00362.parquet', 'part-00157-of-00362.parquet', 'part-00158-of-00362.parquet', 'part-00159-of-00362.parquet', 'part-00160-of-00362.parquet', 'part-00161-of-00362.parquet', 'part-00162-of-00362.parquet', 'part-00163-of-00362.parquet', 'part-00164-of-00362.parquet', 'part-00165-of-00362.parquet', 'part-00166-of-00362.parquet', 'part-00167-of-00362.parquet', 'part-00168-of-00362.parquet', 'part-00169-of-00362.parquet', 'part-00170-of-00362.parquet', 'part-00171-of-00362.parquet', 'part-00172-of-00362.parquet', 'part-00173-of-00362.parquet', 'part-00174-of-00362.parquet', 'part-00175-of-00362.parquet', 'part-00176-of-00362.parquet', 'part-00177-of-00362.parquet', 'part-00178-of-00362.parquet', 'part-00179-of-00362.parquet', 'part-00180-of-00362.parquet', 'part-00181-of-00362.parquet', 'part-00182-of-00362.parquet', 'part-00183-of-00362.parquet', 'part-00184-of-00362.parquet', 'part-00185-of-00362.parquet', 'part-00186-of-00362.parquet', 'part-00187-of-00362.parquet', 'part-00188-of-00362.parquet', 'part-00189-of-00362.parquet', 'part-00190-of-00362.parquet', 'part-00191-of-00362.parquet', 'part-00192-of-00362.parquet', 'part-00193-of-00362.parquet', 'part-00194-of-00362.parquet', 'part-00195-of-00362.parquet', 'part-00196-of-00362.parquet', 'part-00197-of-00362.parquet', 'part-00198-of-00362.parquet', 'part-00199-of-00362.parquet', 'part-00200-of-00362.parquet', 'part-00201-of-00362.parquet', 'part-00202-of-00362.parquet', 'part-00203-of-00362.parquet', 'part-00204-of-00362.parquet', 'part-00205-of-00362.parquet', 'part-00206-of-00362.parquet', 'part-00207-of-00362.parquet', 'part-00208-of-00362.parquet', 'part-00209-of-00362.parquet', 'part-00210-of-00362.parquet', 'part-00211-of-00362.parquet', 'part-00212-of-00362.parquet', 'part-00213-of-00362.parquet', 'part-00214-of-00362.parquet', 'part-00215-of-00362.parquet', 'part-00216-of-00362.parquet', 'part-00217-of-00362.parquet', 'part-00218-of-00362.parquet', 'part-00219-of-00362.parquet', 'part-00220-of-00362.parquet', 'part-00221-of-00362.parquet', 'part-00222-of-00362.parquet', 'part-00223-of-00362.parquet', 'part-00224-of-00362.parquet', 'part-00225-of-00362.parquet', 'part-00226-of-00362.parquet', 'part-00227-of-00362.parquet', 'part-00228-of-00362.parquet', 'part-00229-of-00362.parquet', 'part-00230-of-00362.parquet', 'part-00231-of-00362.parquet', 'part-00232-of-00362.parquet', 'part-00233-of-00362.parquet', 'part-00234-of-00362.parquet', 'part-00235-of-00362.parquet', 'part-00236-of-00362.parquet', 'part-00237-of-00362.parquet', 'part-00238-of-00362.parquet', 'part-00239-of-00362.parquet', 'part-00240-of-00362.parquet', 'part-00241-of-00362.parquet', 'part-00242-of-00362.parquet', 'part-00243-of-00362.parquet', 'part-00244-of-00362.parquet', 'part-00245-of-00362.parquet', 'part-00246-of-00362.parquet', 'part-00247-of-00362.parquet', 'part-00248-of-00362.parquet', 'part-00249-of-00362.parquet', 'part-00250-of-00362.parquet', 'part-00251-of-00362.parquet', 'part-00252-of-00362.parquet', 'part-00253-of-00362.parquet', 'part-00254-of-00362.parquet', 'part-00255-of-00362.parquet', 'part-00256-of-00362.parquet', 'part-00257-of-00362.parquet', 'part-00258-of-00362.parquet', 'part-00259-of-00362.parquet', 'part-00260-of-00362.parquet', 'part-00261-of-00362.parquet', 'part-00262-of-00362.parquet', 'part-00263-of-00362.parquet', 'part-00264-of-00362.parquet', 'part-00265-of-00362.parquet', 'part-00266-of-00362.parquet', 'part-00267-of-00362.parquet', 'part-00268-of-00362.parquet', 'part-00269-of-00362.parquet', 'part-00270-of-00362.parquet', 'part-00271-of-00362.parquet', 'part-00272-of-00362.parquet', 'part-00273-of-00362.parquet', 'part-00274-of-00362.parquet', 'part-00275-of-00362.parquet', 'part-00276-of-00362.parquet', 'part-00277-of-00362.parquet', 'part-00278-of-00362.parquet', 'part-00279-of-00362.parquet', 'part-00280-of-00362.parquet', 'part-00281-of-00362.parquet', 'part-00282-of-00362.parquet', 'part-00283-of-00362.parquet', 'part-00284-of-00362.parquet', 'part-00285-of-00362.parquet', 'part-00286-of-00362.parquet', 'part-00287-of-00362.parquet', 'part-00288-of-00362.parquet', 'part-00289-of-00362.parquet', 'part-00290-of-00362.parquet', 'part-00291-of-00362.parquet', 'part-00292-of-00362.parquet', 'part-00293-of-00362.parquet', 'part-00294-of-00362.parquet', 'part-00295-of-00362.parquet', 'part-00296-of-00362.parquet', 'part-00297-of-00362.parquet', 'part-00298-of-00362.parquet', 'part-00299-of-00362.parquet', 'part-00300-of-00362.parquet', 'part-00301-of-00362.parquet', 'part-00302-of-00362.parquet', 'part-00303-of-00362.parquet', 'part-00304-of-00362.parquet', 'part-00305-of-00362.parquet', 'part-00306-of-00362.parquet', 'part-00307-of-00362.parquet', 'part-00308-of-00362.parquet', 'part-00309-of-00362.parquet', 'part-00310-of-00362.parquet', 'part-00311-of-00362.parquet', 'part-00312-of-00362.parquet', 'part-00313-of-00362.parquet', 'part-00314-of-00362.parquet', 'part-00315-of-00362.parquet', 'part-00316-of-00362.parquet', 'part-00317-of-00362.parquet', 'part-00318-of-00362.parquet', 'part-00319-of-00362.parquet', 'part-00320-of-00362.parquet', 'part-00321-of-00362.parquet', 'part-00322-of-00362.parquet', 'part-00323-of-00362.parquet', 'part-00324-of-00362.parquet', 'part-00325-of-00362.parquet', 'part-00326-of-00362.parquet', 'part-00327-of-00362.parquet', 'part-00328-of-00362.parquet', 'part-00329-of-00362.parquet', 'part-00330-of-00362.parquet', 'part-00331-of-00362.parquet', 'part-00332-of-00362.parquet', 'part-00333-of-00362.parquet', 'part-00334-of-00362.parquet', 'part-00335-of-00362.parquet', 'part-00336-of-00362.parquet', 'part-00337-of-00362.parquet', 'part-00338-of-00362.parquet', 'part-00339-of-00362.parquet', 'part-00340-of-00362.parquet', 'part-00341-of-00362.parquet', 'part-00342-of-00362.parquet', 'part-00343-of-00362.parquet', 'part-00344-of-00362.parquet', 'part-00345-of-00362.parquet', 'part-00346-of-00362.parquet', 'part-00347-of-00362.parquet', 'part-00348-of-00362.parquet', 'part-00349-of-00362.parquet', 'part-00350-of-00362.parquet', 'part-00351-of-00362.parquet', 'part-00352-of-00362.parquet', 'part-00353-of-00362.parquet', 'part-00354-of-00362.parquet', 'part-00355-of-00362.parquet', 'part-00356-of-00362.parquet', 'part-00357-of-00362.parquet', 'part-00358-of-00362.parquet', 'part-00359-of-00362.parquet', 'part-00360-of-00362.parquet', 'part-00361-of-00362.parquet']\n",
      "Successfully concatenated DataFrames.\n",
      "   product_id                                              title  \\\n",
      "0   699437355  Children&#39;s circle skirt BLUE GALAXY made o...   \n",
      "1  1323699538  Cow Birthday Tutu for kids, Farm Theme Bday Ou...   \n",
      "2  1142910558  Zebra print tutu, animal print Skirt, World bo...   \n",
      "3  1320296928  Lilac Tutu Rainbow Dots // Girl&#39;s Tutu, Tu...   \n",
      "4   854901795  Bumblebee tutu yellow and black tutu halloween...   \n",
      "\n",
      "                                         description  \\\n",
      "0  The fuxandfriends children&#39;s full circle s...   \n",
      "1  💄This listing is for the TUTU ONLY (double rib...   \n",
      "2  All tutus are handmade to order with two layer...   \n",
      "3  Step aside because the princess pop star is he...   \n",
      "4  Sparkle, shimmer, twirl and spin,\\nThis tutu&#...   \n",
      "\n",
      "                                                tags      type room  \\\n",
      "0                                                     physical        \n",
      "1  birthday outfit,girls birthday shirt,Tutu outf...  physical        \n",
      "2  black and white tutu,striped skirt,zebra tutu,...  physical        \n",
      "3  tutu,girls skirt,sparkling tutu,fun skirt,ball...  physical        \n",
      "4  dog tutu,fluffy tutu,dance tutu,skirt,flower g...  physical        \n",
      "\n",
      "  craft_type recipient material  occasion  ...  \\\n",
      "0                                          ...   \n",
      "1                                birthday  ...   \n",
      "2                                          ...   \n",
      "3                                birthday  ...   \n",
      "4                                birthday  ...   \n",
      "\n",
      "             bottom_category_text top_category_id top_category_text  \\\n",
      "0  clothing.girls_clothing.skirts               5          clothing   \n",
      "1  clothing.girls_clothing.skirts               5          clothing   \n",
      "2  clothing.girls_clothing.skirts               5          clothing   \n",
      "3  clothing.girls_clothing.skirts               5          clothing   \n",
      "4  clothing.girls_clothing.skirts               5          clothing   \n",
      "\n",
      "  primary_color_id primary_color_text  secondary_color_id  \\\n",
      "0                2               blue                   2   \n",
      "1               11               pink                   1   \n",
      "2               17              white                   1   \n",
      "3               12             purple                  13   \n",
      "4               18             yellow                   1   \n",
      "\n",
      "  secondary_color_text                                      image/encoded  \\\n",
      "0                 blue  b'\\xff\\xd8\\xff\\xe0\\x00\\x10JFIF\\x00\\x01\\x01\\x00...   \n",
      "1                black  b'\\xff\\xd8\\xff\\xe0\\x00\\x10JFIF\\x00\\x01\\x01\\x00...   \n",
      "2                black  b'\\xff\\xd8\\xff\\xe0\\x00\\x10JFIF\\x00\\x01\\x01\\x00...   \n",
      "3              rainbow  b'\\xff\\xd8\\xff\\xe0\\x00\\x10JFIF\\x00\\x01\\x01\\x00...   \n",
      "4                black  b'\\xff\\xd8\\xff\\xe0\\x00\\x10JFIF\\x00\\x01\\x01\\x00...   \n",
      "\n",
      "  image/width  image/height  \n",
      "0         570           426  \n",
      "1         570           475  \n",
      "2         570           396  \n",
      "3         570           570  \n",
      "4         570           570  \n",
      "\n",
      "[5 rows x 26 columns]\n"
     ]
    }
   ],
   "source": [
    "# Get a list of all Train Parquet files in the folder\n",
    "train_parquet_files = [file for file in os.listdir(par_train_folder_path) if file.endswith(\".parquet\")]\n",
    "print(\"Found files:\", train_parquet_files)  # Debug: print the files found\n",
    "\n",
    "# Loop through the Train Parquet files and read them into individual DataFrames\n",
    "par_train_df = []\n",
    "for file in train_parquet_files:\n",
    "    file_path = os.path.join(par_train_folder_path, file)\n",
    "    df = pd.read_parquet(file_path)\n",
    "    par_train_df.append(df)\n",
    "\n",
    "# Concatenate the individual DataFrames into a single DataFrame\n",
    "if par_train_df:  # Check if the list is not empty\n",
    "    train_parquet_df = pd.concat(par_train_df, ignore_index=True)\n",
    "    print(\"Successfully concatenated DataFrames.\")  # Debug: Confirm concatenation\n",
    "else:\n",
    "    print(\"No DataFrames to concatenate.\")  # Error handling: No files were read\n",
    "\n",
    "# Now, train_parquet_df is a DataFrame containing all the data\n",
    "print(train_parquet_df.head())  # Display the first few rows of the final DataFrame\n"
   ]
  },
  {
   "cell_type": "code",
   "execution_count": 9,
   "id": "f4a63b25-2ac6-4c01-b9d7-0af9788c761b",
   "metadata": {},
   "outputs": [
    {
     "name": "stdout",
     "output_type": "stream",
     "text": [
      "train_parquet_df is a DataFrame.\n"
     ]
    }
   ],
   "source": [
    "if isinstance(train_parquet_df, pd.DataFrame):\n",
    "    print(\"train_parquet_df is a DataFrame.\")\n",
    "else:\n",
    "    print(\"train_parquet_df is not a DataFrame; it is a\", type(train_parquet_df))"
   ]
  },
  {
   "cell_type": "code",
   "execution_count": 10,
   "id": "2dc7065e-4a11-44c5-a0f1-ef5cf48c5d85",
   "metadata": {},
   "outputs": [
    {
     "name": "stdout",
     "output_type": "stream",
     "text": [
      "<class 'pandas.core.frame.DataFrame'>\n"
     ]
    }
   ],
   "source": [
    "print(type(train_parquet_df))"
   ]
  },
  {
   "cell_type": "code",
   "execution_count": 11,
   "id": "a9b92de9-607f-4f4a-9def-5a5502403644",
   "metadata": {},
   "outputs": [
    {
     "data": {
      "text/plain": [
       "'Number of rows in train: 229,624'"
      ]
     },
     "execution_count": 11,
     "metadata": {},
     "output_type": "execute_result"
    }
   ],
   "source": [
    "f\"Number of rows in train: {len(train_parquet_df):,}\""
   ]
  },
  {
   "cell_type": "code",
   "execution_count": 12,
   "id": "0a992c7a-76cf-4f7e-a8e3-688421a32a68",
   "metadata": {},
   "outputs": [
    {
     "data": {
      "text/plain": [
       "'Number of unique products in train: 229,624'"
      ]
     },
     "execution_count": 12,
     "metadata": {},
     "output_type": "execute_result"
    }
   ],
   "source": [
    "f\"Number of unique products in train: {len(train_parquet_df['product_id'].unique()):,}\""
   ]
  },
  {
   "cell_type": "code",
   "execution_count": 13,
   "id": "d821596e-eebb-4edf-b11d-da41e258124c",
   "metadata": {},
   "outputs": [
    {
     "data": {
      "text/plain": [
       "'Number of columns in train: 26'"
      ]
     },
     "execution_count": 13,
     "metadata": {},
     "output_type": "execute_result"
    }
   ],
   "source": [
    "f\"Number of columns in train: {len(train_parquet_df.columns):,}\""
   ]
  },
  {
   "cell_type": "code",
   "execution_count": 14,
   "id": "ad12ae6f-2ed6-4ece-8474-c528ede7ec0b",
   "metadata": {},
   "outputs": [
    {
     "data": {
      "text/plain": [
       "product_id                                                      699437355\n",
       "title                   Children&#39;s circle skirt BLUE GALAXY made o...\n",
       "description             The fuxandfriends children&#39;s full circle s...\n",
       "tags                                                                     \n",
       "type                                                             physical\n",
       "room                                                                     \n",
       "craft_type                                                               \n",
       "recipient                                                                \n",
       "material                                                                 \n",
       "occasion                                                                 \n",
       "holiday                                                                  \n",
       "art_subject                                                              \n",
       "style                                                                    \n",
       "shape                                                                    \n",
       "pattern                                                                  \n",
       "bottom_category_id                                                    426\n",
       "bottom_category_text                       clothing.girls_clothing.skirts\n",
       "top_category_id                                                         5\n",
       "top_category_text                                                clothing\n",
       "primary_color_id                                                        2\n",
       "primary_color_text                                                   blue\n",
       "secondary_color_id                                                      2\n",
       "secondary_color_text                                                 blue\n",
       "image/encoded           b'\\xff\\xd8\\xff\\xe0\\x00\\x10JFIF\\x00\\x01\\x01\\x00...\n",
       "image/width                                                           570\n",
       "image/height                                                          426\n",
       "Name: 0, dtype: object"
      ]
     },
     "execution_count": 14,
     "metadata": {},
     "output_type": "execute_result"
    }
   ],
   "source": [
    "train_parquet_df.iloc[0]"
   ]
  },
  {
   "cell_type": "code",
   "execution_count": 15,
   "id": "9a533055-c6f6-4e19-a73f-3dd76d158786",
   "metadata": {},
   "outputs": [
    {
     "data": {
      "text/html": [
       "<div>\n",
       "<style scoped>\n",
       "    .dataframe tbody tr th:only-of-type {\n",
       "        vertical-align: middle;\n",
       "    }\n",
       "\n",
       "    .dataframe tbody tr th {\n",
       "        vertical-align: top;\n",
       "    }\n",
       "\n",
       "    .dataframe thead th {\n",
       "        text-align: right;\n",
       "    }\n",
       "</style>\n",
       "<table border=\"1\" class=\"dataframe\">\n",
       "  <thead>\n",
       "    <tr style=\"text-align: right;\">\n",
       "      <th></th>\n",
       "      <th>product_id</th>\n",
       "      <th>title</th>\n",
       "      <th>description</th>\n",
       "      <th>tags</th>\n",
       "      <th>type</th>\n",
       "      <th>room</th>\n",
       "      <th>craft_type</th>\n",
       "      <th>recipient</th>\n",
       "      <th>material</th>\n",
       "      <th>occasion</th>\n",
       "      <th>...</th>\n",
       "      <th>bottom_category_text</th>\n",
       "      <th>top_category_id</th>\n",
       "      <th>top_category_text</th>\n",
       "      <th>primary_color_id</th>\n",
       "      <th>primary_color_text</th>\n",
       "      <th>secondary_color_id</th>\n",
       "      <th>secondary_color_text</th>\n",
       "      <th>image/encoded</th>\n",
       "      <th>image/width</th>\n",
       "      <th>image/height</th>\n",
       "    </tr>\n",
       "  </thead>\n",
       "  <tbody>\n",
       "    <tr>\n",
       "      <th>0</th>\n",
       "      <td>699437355</td>\n",
       "      <td>Children&amp;#39;s circle skirt BLUE GALAXY made o...</td>\n",
       "      <td>The fuxandfriends children&amp;#39;s full circle s...</td>\n",
       "      <td></td>\n",
       "      <td>physical</td>\n",
       "      <td></td>\n",
       "      <td></td>\n",
       "      <td></td>\n",
       "      <td></td>\n",
       "      <td></td>\n",
       "      <td>...</td>\n",
       "      <td>clothing.girls_clothing.skirts</td>\n",
       "      <td>5</td>\n",
       "      <td>clothing</td>\n",
       "      <td>2</td>\n",
       "      <td>blue</td>\n",
       "      <td>2</td>\n",
       "      <td>blue</td>\n",
       "      <td>b'\\xff\\xd8\\xff\\xe0\\x00\\x10JFIF\\x00\\x01\\x01\\x00...</td>\n",
       "      <td>570</td>\n",
       "      <td>426</td>\n",
       "    </tr>\n",
       "    <tr>\n",
       "      <th>1</th>\n",
       "      <td>1323699538</td>\n",
       "      <td>Cow Birthday Tutu for kids, Farm Theme Bday Ou...</td>\n",
       "      <td>💄This listing is for the TUTU ONLY (double rib...</td>\n",
       "      <td>birthday outfit,girls birthday shirt,Tutu outf...</td>\n",
       "      <td>physical</td>\n",
       "      <td></td>\n",
       "      <td></td>\n",
       "      <td></td>\n",
       "      <td></td>\n",
       "      <td>birthday</td>\n",
       "      <td>...</td>\n",
       "      <td>clothing.girls_clothing.skirts</td>\n",
       "      <td>5</td>\n",
       "      <td>clothing</td>\n",
       "      <td>11</td>\n",
       "      <td>pink</td>\n",
       "      <td>1</td>\n",
       "      <td>black</td>\n",
       "      <td>b'\\xff\\xd8\\xff\\xe0\\x00\\x10JFIF\\x00\\x01\\x01\\x00...</td>\n",
       "      <td>570</td>\n",
       "      <td>475</td>\n",
       "    </tr>\n",
       "  </tbody>\n",
       "</table>\n",
       "<p>2 rows × 26 columns</p>\n",
       "</div>"
      ],
      "text/plain": [
       "   product_id                                              title  \\\n",
       "0   699437355  Children&#39;s circle skirt BLUE GALAXY made o...   \n",
       "1  1323699538  Cow Birthday Tutu for kids, Farm Theme Bday Ou...   \n",
       "\n",
       "                                         description  \\\n",
       "0  The fuxandfriends children&#39;s full circle s...   \n",
       "1  💄This listing is for the TUTU ONLY (double rib...   \n",
       "\n",
       "                                                tags      type room  \\\n",
       "0                                                     physical        \n",
       "1  birthday outfit,girls birthday shirt,Tutu outf...  physical        \n",
       "\n",
       "  craft_type recipient material  occasion  ...  \\\n",
       "0                                          ...   \n",
       "1                                birthday  ...   \n",
       "\n",
       "             bottom_category_text top_category_id top_category_text  \\\n",
       "0  clothing.girls_clothing.skirts               5          clothing   \n",
       "1  clothing.girls_clothing.skirts               5          clothing   \n",
       "\n",
       "  primary_color_id primary_color_text  secondary_color_id  \\\n",
       "0                2               blue                   2   \n",
       "1               11               pink                   1   \n",
       "\n",
       "  secondary_color_text                                      image/encoded  \\\n",
       "0                 blue  b'\\xff\\xd8\\xff\\xe0\\x00\\x10JFIF\\x00\\x01\\x01\\x00...   \n",
       "1                black  b'\\xff\\xd8\\xff\\xe0\\x00\\x10JFIF\\x00\\x01\\x01\\x00...   \n",
       "\n",
       "  image/width  image/height  \n",
       "0         570           426  \n",
       "1         570           475  \n",
       "\n",
       "[2 rows x 26 columns]"
      ]
     },
     "execution_count": 15,
     "metadata": {},
     "output_type": "execute_result"
    }
   ],
   "source": [
    "train_parquet_df.head(2)"
   ]
  },
  {
   "cell_type": "code",
   "execution_count": 109,
   "id": "c88f8184-09f8-4fef-8e07-2a3d1520b696",
   "metadata": {},
   "outputs": [
    {
     "name": "stdout",
     "output_type": "stream",
     "text": [
      "Requirement already satisfied: webcolors in c:\\users\\omkar\\appdata\\local\\programs\\python\\python311\\lib\\site-packages (1.13)\n"
     ]
    }
   ],
   "source": [
    "!pip install webcolors"
   ]
  },
  {
   "cell_type": "code",
   "execution_count": 112,
   "id": "f02dcb5d-4f2b-4711-9eb6-227f8e6ce78c",
   "metadata": {},
   "outputs": [
    {
     "name": "stdout",
     "output_type": "stream",
     "text": [
      "The RGB value of the center pixel is: (186, 166, 191)\n",
      "The hexadecimal value of the center pixel is: #baa6bf\n",
      "The closest CSS color name is: silver\n"
     ]
    }
   ],
   "source": [
    "import pandas as pd\n",
    "from PIL import Image\n",
    "import io\n",
    "import webcolors\n",
    "\n",
    "# Assuming train_parquet_df is your DataFrame and is already loaded\n",
    "\n",
    "# Access the third row in the 'image/encoded' column\n",
    "image_data = train_parquet_df['image/encoded'].iloc[1]\n",
    "\n",
    "# Convert binary data to an image\n",
    "image = Image.open(io.BytesIO(image_data))\n",
    "image = image.convert('RGB')\n",
    "\n",
    "# Calculate the center pixel\n",
    "width, height = image.size\n",
    "center_x, center_y = width // 2, height // 2\n",
    "\n",
    "# Get the RGB value of the center pixel\n",
    "center_pixel_color = image.getpixel((center_x, center_y))\n",
    "\n",
    "# Convert RGB to Hex\n",
    "def rgb_to_hex(rgb):\n",
    "    return \"#{:02x}{:02x}{:02x}\".format(rgb[0], rgb[1], rgb[2])\n",
    "\n",
    "hex_color = rgb_to_hex(center_pixel_color)\n",
    "\n",
    "# Function to find closest color name\n",
    "def closest_color(rgb):\n",
    "    min_colors = {}\n",
    "    for key, name in webcolors.CSS3_HEX_TO_NAMES.items():\n",
    "        r_c, g_c, b_c = webcolors.hex_to_rgb(key)\n",
    "        rd = (r_c - rgb[0]) ** 2\n",
    "        gd = (g_c - rgb[1]) ** 2\n",
    "        bd = (b_c - rgb[2]) ** 2\n",
    "        min_colors[(rd + gd + bd)] = name\n",
    "    return min_colors[min(min_colors.keys())]\n",
    "\n",
    "color_description = closest_color(center_pixel_color)\n",
    "\n",
    "# Display the results\n",
    "print(f\"The RGB value of the center pixel is: {center_pixel_color}\")\n",
    "print(f\"The hexadecimal value of the center pixel is: {hex_color}\")\n",
    "print(f\"The closest CSS color name is: {color_description}\")\n"
   ]
  },
  {
   "cell_type": "code",
   "execution_count": 16,
   "id": "b3929ce9-7a7d-4f47-9151-163d24ace9be",
   "metadata": {},
   "outputs": [
    {
     "name": "stdout",
     "output_type": "stream",
     "text": [
      "<class 'pandas.core.frame.DataFrame'>\n"
     ]
    }
   ],
   "source": [
    "print(type(train_parquet_df))"
   ]
  },
  {
   "cell_type": "code",
   "execution_count": 17,
   "id": "ddf8525b-376c-4859-a6f1-4108d80c65d1",
   "metadata": {},
   "outputs": [
    {
     "data": {
      "text/plain": [
       "array(['physical', 'download', ''], dtype=object)"
      ]
     },
     "execution_count": 17,
     "metadata": {},
     "output_type": "execute_result"
    }
   ],
   "source": [
    "train_parquet_df['type'].unique()"
   ]
  },
  {
   "cell_type": "code",
   "execution_count": 18,
   "id": "5f79ef4f-3e1d-4074-8680-e47e3be0c325",
   "metadata": {},
   "outputs": [
    {
     "name": "stdout",
     "output_type": "stream",
     "text": [
      "<class 'pandas.core.frame.DataFrame'>\n"
     ]
    }
   ],
   "source": [
    "print(type(train_parquet_df))"
   ]
  },
  {
   "cell_type": "code",
   "execution_count": 19,
   "id": "708c872b-7bd8-4359-82e4-97240db2ca81",
   "metadata": {},
   "outputs": [
    {
     "data": {
      "text/plain": [
       "type\n",
       "physical    218568\n",
       "download     10708\n",
       "               348\n",
       "Name: count, dtype: int64"
      ]
     },
     "execution_count": 19,
     "metadata": {},
     "output_type": "execute_result"
    }
   ],
   "source": [
    "train_parquet_df['type'].value_counts(dropna=False)"
   ]
  },
  {
   "cell_type": "code",
   "execution_count": 20,
   "id": "0fbd3a4d-2cef-4803-b3b2-f2aadd3475df",
   "metadata": {},
   "outputs": [
    {
     "data": {
      "text/plain": [
       "'Number of primary colors in train: 19'"
      ]
     },
     "execution_count": 20,
     "metadata": {},
     "output_type": "execute_result"
    }
   ],
   "source": [
    "COLORS = train_parquet_df['primary_color_id'].unique()\n",
    "NUM_COLORS = len(COLORS)\n",
    "f\"Number of primary colors in train: {NUM_COLORS:,}\""
   ]
  },
  {
   "cell_type": "code",
   "execution_count": 21,
   "id": "4e282a67-58da-4bcd-8c66-74c17dc6537b",
   "metadata": {},
   "outputs": [
    {
     "data": {
      "text/plain": [
       "'Number of top categories in train: 15'"
      ]
     },
     "execution_count": 21,
     "metadata": {},
     "output_type": "execute_result"
    }
   ],
   "source": [
    "f\"Number of top categories in train: {len(train_parquet_df['top_category_text'].unique()):,}\""
   ]
  },
  {
   "cell_type": "code",
   "execution_count": 22,
   "id": "6acea41d-a612-4757-9113-3bf7b47d943f",
   "metadata": {},
   "outputs": [
    {
     "data": {
      "text/plain": [
       "top_category_text\n",
       "home_and_living                54600\n",
       "craft_supplies_and_tools       33393\n",
       "clothing                       30143\n",
       "toys_and_games                 13835\n",
       "accessories                    12416\n",
       "paper_and_party_supplies       12207\n",
       "bath_and_beauty                11327\n",
       "weddings                       10143\n",
       "shoes                           8892\n",
       "art_and_collectibles            8716\n",
       "jewelry                         7822\n",
       "electronics_and_accessories     7474\n",
       "bags_and_purses                 6650\n",
       "books_movies_and_music          6262\n",
       "pet_supplies                    5744\n",
       "Name: count, dtype: int64"
      ]
     },
     "execution_count": 22,
     "metadata": {},
     "output_type": "execute_result"
    }
   ],
   "source": [
    "pd.value_counts(train_parquet_df['top_category_text'], sort=True, ascending=False)"
   ]
  },
  {
   "cell_type": "code",
   "execution_count": 23,
   "id": "6207bba5-c2a1-438a-b9b1-2370d0c2cab3",
   "metadata": {},
   "outputs": [
    {
     "name": "stdout",
     "output_type": "stream",
     "text": [
      "<class 'pandas.core.frame.DataFrame'>\n"
     ]
    }
   ],
   "source": [
    "print(type(train_parquet_df))"
   ]
  },
  {
   "cell_type": "code",
   "execution_count": 24,
   "id": "ce567e12-71c6-4a58-92ea-928ccb256089",
   "metadata": {},
   "outputs": [
    {
     "data": {
      "image/png": "[encoded data removed]",
      "text/plain": [
       "<Figure size 1500x600 with 1 Axes>"
      ]
     },
     "metadata": {},
     "output_type": "display_data"
    }
   ],
   "source": [
    "figsize = (15, 6)\n",
    "column = 'top_category_text'\n",
    "x_limit = 60000\n",
    "x_step = 10000\n",
    "color = 'darkcyan'\n",
    "\n",
    "figure, ax = plt.subplots(figsize=figsize)\n",
    "pd.value_counts(\n",
    "    train_parquet_df[column],\n",
    "    sort=True, ascending=False).plot.barh(color=color)\n",
    "plt.title(f\"Number of Products per Category\")\n",
    "xlabels = [f'{x // 1000:,}K' for x in range(0, x_limit, x_step)]\n",
    "plt.xticks(range(0, x_limit, x_step), xlabels)\n",
    "plt.xlabel('Number of products')\n",
    "plt.setp(ax.get_xticklabels()[0], visible=False)\n",
    "plt.show()"
   ]
  },
  {
   "cell_type": "code",
   "execution_count": 25,
   "id": "8c6617e0-b053-4b34-8591-086ab6e836d3",
   "metadata": {},
   "outputs": [
    {
     "data": {
      "text/plain": [
       "'Number of bottom categories in train: 2,609'"
      ]
     },
     "execution_count": 25,
     "metadata": {},
     "output_type": "execute_result"
    }
   ],
   "source": [
    "f\"Number of bottom categories in train: {len(train_parquet_df['bottom_category_text'].unique()):,}\""
   ]
  },
  {
   "cell_type": "markdown",
   "id": "afb3c3bd-d881-4f2e-bfda-6e27c01c5fb6",
   "metadata": {},
   "source": [
    "## Cleaning and Data Processing"
   ]
  },
  {
   "cell_type": "code",
   "execution_count": 51,
   "id": "3821c325-6dfb-4ead-bb36-91796cf7e206",
   "metadata": {},
   "outputs": [],
   "source": [
    "df_train = train_parquet_df.copy()"
   ]
  },
  {
   "cell_type": "code",
   "execution_count": 52,
   "id": "aa12852b-d59c-4f4a-a6bc-7ad27358652a",
   "metadata": {},
   "outputs": [
    {
     "name": "stdout",
     "output_type": "stream",
     "text": [
      "<class 'pandas.core.frame.DataFrame'>\n"
     ]
    }
   ],
   "source": [
    "print(type(df_train))"
   ]
  },
  {
   "cell_type": "code",
   "execution_count": 53,
   "id": "06342edf-6c03-4f43-8603-0200ff2cb5a8",
   "metadata": {},
   "outputs": [
    {
     "name": "stdout",
     "output_type": "stream",
     "text": [
      "Index(['product_id', 'title', 'description', 'tags', 'type', 'room',\n",
      "       'craft_type', 'recipient', 'material', 'occasion', 'holiday',\n",
      "       'art_subject', 'style', 'shape', 'pattern', 'bottom_category_id',\n",
      "       'bottom_category_text', 'top_category_id', 'top_category_text',\n",
      "       'primary_color_id', 'primary_color_text', 'secondary_color_id',\n",
      "       'secondary_color_text', 'image/encoded', 'image/width', 'image/height'],\n",
      "      dtype='object')\n"
     ]
    }
   ],
   "source": [
    "print(df_train.columns)"
   ]
  },
  {
   "cell_type": "code",
   "execution_count": 54,
   "id": "4877f6a5-2d42-41d4-a09f-d05c14a4175e",
   "metadata": {},
   "outputs": [
    {
     "data": {
      "text/html": [
       "<div>\n",
       "<style scoped>\n",
       "    .dataframe tbody tr th:only-of-type {\n",
       "        vertical-align: middle;\n",
       "    }\n",
       "\n",
       "    .dataframe tbody tr th {\n",
       "        vertical-align: top;\n",
       "    }\n",
       "\n",
       "    .dataframe thead th {\n",
       "        text-align: right;\n",
       "    }\n",
       "</style>\n",
       "<table border=\"1\" class=\"dataframe\">\n",
       "  <thead>\n",
       "    <tr style=\"text-align: right;\">\n",
       "      <th></th>\n",
       "      <th>product_id</th>\n",
       "      <th>title</th>\n",
       "      <th>description</th>\n",
       "      <th>tags</th>\n",
       "      <th>type</th>\n",
       "      <th>room</th>\n",
       "      <th>craft_type</th>\n",
       "      <th>recipient</th>\n",
       "      <th>material</th>\n",
       "      <th>occasion</th>\n",
       "      <th>...</th>\n",
       "      <th>bottom_category_text</th>\n",
       "      <th>top_category_id</th>\n",
       "      <th>top_category_text</th>\n",
       "      <th>primary_color_id</th>\n",
       "      <th>primary_color_text</th>\n",
       "      <th>secondary_color_id</th>\n",
       "      <th>secondary_color_text</th>\n",
       "      <th>image/encoded</th>\n",
       "      <th>image/width</th>\n",
       "      <th>image/height</th>\n",
       "    </tr>\n",
       "  </thead>\n",
       "  <tbody>\n",
       "    <tr>\n",
       "      <th>0</th>\n",
       "      <td>699437355</td>\n",
       "      <td>Children&amp;#39;s circle skirt BLUE GALAXY made o...</td>\n",
       "      <td>The fuxandfriends children&amp;#39;s full circle s...</td>\n",
       "      <td></td>\n",
       "      <td>physical</td>\n",
       "      <td></td>\n",
       "      <td></td>\n",
       "      <td></td>\n",
       "      <td></td>\n",
       "      <td></td>\n",
       "      <td>...</td>\n",
       "      <td>clothing.girls_clothing.skirts</td>\n",
       "      <td>5</td>\n",
       "      <td>clothing</td>\n",
       "      <td>2</td>\n",
       "      <td>blue</td>\n",
       "      <td>2</td>\n",
       "      <td>blue</td>\n",
       "      <td>b'\\xff\\xd8\\xff\\xe0\\x00\\x10JFIF\\x00\\x01\\x01\\x00...</td>\n",
       "      <td>570</td>\n",
       "      <td>426</td>\n",
       "    </tr>\n",
       "    <tr>\n",
       "      <th>1</th>\n",
       "      <td>1323699538</td>\n",
       "      <td>Cow Birthday Tutu for kids, Farm Theme Bday Ou...</td>\n",
       "      <td>💄This listing is for the TUTU ONLY (double rib...</td>\n",
       "      <td>birthday outfit,girls birthday shirt,Tutu outf...</td>\n",
       "      <td>physical</td>\n",
       "      <td></td>\n",
       "      <td></td>\n",
       "      <td></td>\n",
       "      <td></td>\n",
       "      <td>birthday</td>\n",
       "      <td>...</td>\n",
       "      <td>clothing.girls_clothing.skirts</td>\n",
       "      <td>5</td>\n",
       "      <td>clothing</td>\n",
       "      <td>11</td>\n",
       "      <td>pink</td>\n",
       "      <td>1</td>\n",
       "      <td>black</td>\n",
       "      <td>b'\\xff\\xd8\\xff\\xe0\\x00\\x10JFIF\\x00\\x01\\x01\\x00...</td>\n",
       "      <td>570</td>\n",
       "      <td>475</td>\n",
       "    </tr>\n",
       "    <tr>\n",
       "      <th>2</th>\n",
       "      <td>1142910558</td>\n",
       "      <td>Zebra print tutu, animal print Skirt, World bo...</td>\n",
       "      <td>All tutus are handmade to order with two layer...</td>\n",
       "      <td>black and white tutu,striped skirt,zebra tutu,...</td>\n",
       "      <td>physical</td>\n",
       "      <td></td>\n",
       "      <td></td>\n",
       "      <td></td>\n",
       "      <td></td>\n",
       "      <td></td>\n",
       "      <td>...</td>\n",
       "      <td>clothing.girls_clothing.skirts</td>\n",
       "      <td>5</td>\n",
       "      <td>clothing</td>\n",
       "      <td>17</td>\n",
       "      <td>white</td>\n",
       "      <td>1</td>\n",
       "      <td>black</td>\n",
       "      <td>b'\\xff\\xd8\\xff\\xe0\\x00\\x10JFIF\\x00\\x01\\x01\\x00...</td>\n",
       "      <td>570</td>\n",
       "      <td>396</td>\n",
       "    </tr>\n",
       "    <tr>\n",
       "      <th>3</th>\n",
       "      <td>1320296928</td>\n",
       "      <td>Lilac Tutu Rainbow Dots // Girl&amp;#39;s Tutu, Tu...</td>\n",
       "      <td>Step aside because the princess pop star is he...</td>\n",
       "      <td>tutu,girls skirt,sparkling tutu,fun skirt,ball...</td>\n",
       "      <td>physical</td>\n",
       "      <td></td>\n",
       "      <td></td>\n",
       "      <td></td>\n",
       "      <td></td>\n",
       "      <td>birthday</td>\n",
       "      <td>...</td>\n",
       "      <td>clothing.girls_clothing.skirts</td>\n",
       "      <td>5</td>\n",
       "      <td>clothing</td>\n",
       "      <td>12</td>\n",
       "      <td>purple</td>\n",
       "      <td>13</td>\n",
       "      <td>rainbow</td>\n",
       "      <td>b'\\xff\\xd8\\xff\\xe0\\x00\\x10JFIF\\x00\\x01\\x01\\x00...</td>\n",
       "      <td>570</td>\n",
       "      <td>570</td>\n",
       "    </tr>\n",
       "  </tbody>\n",
       "</table>\n",
       "<p>4 rows × 26 columns</p>\n",
       "</div>"
      ],
      "text/plain": [
       "   product_id                                              title  \\\n",
       "0   699437355  Children&#39;s circle skirt BLUE GALAXY made o...   \n",
       "1  1323699538  Cow Birthday Tutu for kids, Farm Theme Bday Ou...   \n",
       "2  1142910558  Zebra print tutu, animal print Skirt, World bo...   \n",
       "3  1320296928  Lilac Tutu Rainbow Dots // Girl&#39;s Tutu, Tu...   \n",
       "\n",
       "                                         description  \\\n",
       "0  The fuxandfriends children&#39;s full circle s...   \n",
       "1  💄This listing is for the TUTU ONLY (double rib...   \n",
       "2  All tutus are handmade to order with two layer...   \n",
       "3  Step aside because the princess pop star is he...   \n",
       "\n",
       "                                                tags      type room  \\\n",
       "0                                                     physical        \n",
       "1  birthday outfit,girls birthday shirt,Tutu outf...  physical        \n",
       "2  black and white tutu,striped skirt,zebra tutu,...  physical        \n",
       "3  tutu,girls skirt,sparkling tutu,fun skirt,ball...  physical        \n",
       "\n",
       "  craft_type recipient material  occasion  ...  \\\n",
       "0                                          ...   \n",
       "1                                birthday  ...   \n",
       "2                                          ...   \n",
       "3                                birthday  ...   \n",
       "\n",
       "             bottom_category_text top_category_id top_category_text  \\\n",
       "0  clothing.girls_clothing.skirts               5          clothing   \n",
       "1  clothing.girls_clothing.skirts               5          clothing   \n",
       "2  clothing.girls_clothing.skirts               5          clothing   \n",
       "3  clothing.girls_clothing.skirts               5          clothing   \n",
       "\n",
       "  primary_color_id primary_color_text  secondary_color_id  \\\n",
       "0                2               blue                   2   \n",
       "1               11               pink                   1   \n",
       "2               17              white                   1   \n",
       "3               12             purple                  13   \n",
       "\n",
       "  secondary_color_text                                      image/encoded  \\\n",
       "0                 blue  b'\\xff\\xd8\\xff\\xe0\\x00\\x10JFIF\\x00\\x01\\x01\\x00...   \n",
       "1                black  b'\\xff\\xd8\\xff\\xe0\\x00\\x10JFIF\\x00\\x01\\x01\\x00...   \n",
       "2                black  b'\\xff\\xd8\\xff\\xe0\\x00\\x10JFIF\\x00\\x01\\x01\\x00...   \n",
       "3              rainbow  b'\\xff\\xd8\\xff\\xe0\\x00\\x10JFIF\\x00\\x01\\x01\\x00...   \n",
       "\n",
       "  image/width  image/height  \n",
       "0         570           426  \n",
       "1         570           475  \n",
       "2         570           396  \n",
       "3         570           570  \n",
       "\n",
       "[4 rows x 26 columns]"
      ]
     },
     "execution_count": 54,
     "metadata": {},
     "output_type": "execute_result"
    }
   ],
   "source": [
    "df_train.head(4)"
   ]
  },
  {
   "cell_type": "code",
   "execution_count": 55,
   "id": "d0c004a8-ceea-4cde-b323-5899c087ac37",
   "metadata": {},
   "outputs": [
    {
     "name": "stdout",
     "output_type": "stream",
     "text": [
      "title has 224252 values\n",
      "description has 216129 values\n",
      "tags has 185370 values\n",
      "type has 3 values\n",
      "room has 19 values\n",
      "craft_type has 78 values\n",
      "recipient has 26 values\n",
      "material has 77 values\n",
      "occasion has 63 values\n",
      "holiday has 21 values\n",
      "art_subject has 40 values\n",
      "style has 93 values\n",
      "shape has 49 values\n",
      "pattern has 41 values\n",
      "bottom_category_text has 2609 values\n",
      "top_category_text has 15 values\n",
      "primary_color_text has 19 values\n",
      "secondary_color_text has 19 values\n",
      "image/encoded has 228155 values\n"
     ]
    }
   ],
   "source": [
    "#to check unique values in columns \n",
    "for index in list(df_train.select_dtypes(include='object').columns):\n",
    "  print(f'{index} has {len(pd.unique(df_train[index]))} values')"
   ]
  },
  {
   "cell_type": "code",
   "execution_count": 56,
   "id": "029ed3b4-e4a2-4b5d-98a4-5036ef348979",
   "metadata": {},
   "outputs": [
    {
     "data": {
      "text/plain": [
       "product_id              0.0\n",
       "title                   0.0\n",
       "description             0.0\n",
       "tags                    0.0\n",
       "type                    0.0\n",
       "room                    0.0\n",
       "craft_type              0.0\n",
       "recipient               0.0\n",
       "material                0.0\n",
       "occasion                0.0\n",
       "holiday                 0.0\n",
       "art_subject             0.0\n",
       "style                   0.0\n",
       "shape                   0.0\n",
       "pattern                 0.0\n",
       "bottom_category_id      0.0\n",
       "bottom_category_text    0.0\n",
       "top_category_id         0.0\n",
       "top_category_text       0.0\n",
       "primary_color_id        0.0\n",
       "primary_color_text      0.0\n",
       "secondary_color_id      0.0\n",
       "secondary_color_text    0.0\n",
       "image/encoded           0.0\n",
       "image/width             0.0\n",
       "image/height            0.0\n",
       "dtype: float64"
      ]
     },
     "execution_count": 56,
     "metadata": {},
     "output_type": "execute_result"
    }
   ],
   "source": [
    "##checking the percentage of missing records\n",
    "df_train.isna().mean()*100"
   ]
  },
  {
   "cell_type": "code",
   "execution_count": 57,
   "id": "58015eb5-6992-439c-b4c0-11a1dfe3d6f8",
   "metadata": {},
   "outputs": [],
   "source": [
    "columns_to_drop = [\"type\", \"room\", \"craft_type\", \"recipient\", \"material\", \"occasion\", \"holiday\", \"art_subject\", \"style\", \"shape\", \"pattern\", \"image/encoded\", \"image/width\", \"image/height\"]"
   ]
  },
  {
   "cell_type": "code",
   "execution_count": 58,
   "id": "cba6e234-fb49-49fe-8f00-d68412362646",
   "metadata": {},
   "outputs": [],
   "source": [
    "df_train = df_train.drop(columns=columns_to_drop, errors='ignore')"
   ]
  },
  {
   "cell_type": "code",
   "execution_count": 59,
   "id": "6c9bfb8b-48af-4fb6-acad-5fd597815a28",
   "metadata": {},
   "outputs": [
    {
     "data": {
      "text/html": [
       "<div>\n",
       "<style scoped>\n",
       "    .dataframe tbody tr th:only-of-type {\n",
       "        vertical-align: middle;\n",
       "    }\n",
       "\n",
       "    .dataframe tbody tr th {\n",
       "        vertical-align: top;\n",
       "    }\n",
       "\n",
       "    .dataframe thead th {\n",
       "        text-align: right;\n",
       "    }\n",
       "</style>\n",
       "<table border=\"1\" class=\"dataframe\">\n",
       "  <thead>\n",
       "    <tr style=\"text-align: right;\">\n",
       "      <th></th>\n",
       "      <th>product_id</th>\n",
       "      <th>title</th>\n",
       "      <th>description</th>\n",
       "      <th>tags</th>\n",
       "      <th>bottom_category_id</th>\n",
       "      <th>bottom_category_text</th>\n",
       "      <th>top_category_id</th>\n",
       "      <th>top_category_text</th>\n",
       "      <th>primary_color_id</th>\n",
       "      <th>primary_color_text</th>\n",
       "      <th>secondary_color_id</th>\n",
       "      <th>secondary_color_text</th>\n",
       "    </tr>\n",
       "  </thead>\n",
       "  <tbody>\n",
       "    <tr>\n",
       "      <th>0</th>\n",
       "      <td>699437355</td>\n",
       "      <td>Children&amp;#39;s circle skirt BLUE GALAXY made o...</td>\n",
       "      <td>The fuxandfriends children&amp;#39;s full circle s...</td>\n",
       "      <td></td>\n",
       "      <td>426</td>\n",
       "      <td>clothing.girls_clothing.skirts</td>\n",
       "      <td>5</td>\n",
       "      <td>clothing</td>\n",
       "      <td>2</td>\n",
       "      <td>blue</td>\n",
       "      <td>2</td>\n",
       "      <td>blue</td>\n",
       "    </tr>\n",
       "    <tr>\n",
       "      <th>1</th>\n",
       "      <td>1323699538</td>\n",
       "      <td>Cow Birthday Tutu for kids, Farm Theme Bday Ou...</td>\n",
       "      <td>💄This listing is for the TUTU ONLY (double rib...</td>\n",
       "      <td>birthday outfit,girls birthday shirt,Tutu outf...</td>\n",
       "      <td>426</td>\n",
       "      <td>clothing.girls_clothing.skirts</td>\n",
       "      <td>5</td>\n",
       "      <td>clothing</td>\n",
       "      <td>11</td>\n",
       "      <td>pink</td>\n",
       "      <td>1</td>\n",
       "      <td>black</td>\n",
       "    </tr>\n",
       "    <tr>\n",
       "      <th>2</th>\n",
       "      <td>1142910558</td>\n",
       "      <td>Zebra print tutu, animal print Skirt, World bo...</td>\n",
       "      <td>All tutus are handmade to order with two layer...</td>\n",
       "      <td>black and white tutu,striped skirt,zebra tutu,...</td>\n",
       "      <td>426</td>\n",
       "      <td>clothing.girls_clothing.skirts</td>\n",
       "      <td>5</td>\n",
       "      <td>clothing</td>\n",
       "      <td>17</td>\n",
       "      <td>white</td>\n",
       "      <td>1</td>\n",
       "      <td>black</td>\n",
       "    </tr>\n",
       "    <tr>\n",
       "      <th>3</th>\n",
       "      <td>1320296928</td>\n",
       "      <td>Lilac Tutu Rainbow Dots // Girl&amp;#39;s Tutu, Tu...</td>\n",
       "      <td>Step aside because the princess pop star is he...</td>\n",
       "      <td>tutu,girls skirt,sparkling tutu,fun skirt,ball...</td>\n",
       "      <td>426</td>\n",
       "      <td>clothing.girls_clothing.skirts</td>\n",
       "      <td>5</td>\n",
       "      <td>clothing</td>\n",
       "      <td>12</td>\n",
       "      <td>purple</td>\n",
       "      <td>13</td>\n",
       "      <td>rainbow</td>\n",
       "    </tr>\n",
       "    <tr>\n",
       "      <th>4</th>\n",
       "      <td>854901795</td>\n",
       "      <td>Bumblebee tutu yellow and black tutu halloween...</td>\n",
       "      <td>Sparkle, shimmer, twirl and spin,\\nThis tutu&amp;#...</td>\n",
       "      <td>dog tutu,fluffy tutu,dance tutu,skirt,flower g...</td>\n",
       "      <td>426</td>\n",
       "      <td>clothing.girls_clothing.skirts</td>\n",
       "      <td>5</td>\n",
       "      <td>clothing</td>\n",
       "      <td>18</td>\n",
       "      <td>yellow</td>\n",
       "      <td>1</td>\n",
       "      <td>black</td>\n",
       "    </tr>\n",
       "  </tbody>\n",
       "</table>\n",
       "</div>"
      ],
      "text/plain": [
       "   product_id                                              title  \\\n",
       "0   699437355  Children&#39;s circle skirt BLUE GALAXY made o...   \n",
       "1  1323699538  Cow Birthday Tutu for kids, Farm Theme Bday Ou...   \n",
       "2  1142910558  Zebra print tutu, animal print Skirt, World bo...   \n",
       "3  1320296928  Lilac Tutu Rainbow Dots // Girl&#39;s Tutu, Tu...   \n",
       "4   854901795  Bumblebee tutu yellow and black tutu halloween...   \n",
       "\n",
       "                                         description  \\\n",
       "0  The fuxandfriends children&#39;s full circle s...   \n",
       "1  💄This listing is for the TUTU ONLY (double rib...   \n",
       "2  All tutus are handmade to order with two layer...   \n",
       "3  Step aside because the princess pop star is he...   \n",
       "4  Sparkle, shimmer, twirl and spin,\\nThis tutu&#...   \n",
       "\n",
       "                                                tags  bottom_category_id  \\\n",
       "0                                                                    426   \n",
       "1  birthday outfit,girls birthday shirt,Tutu outf...                 426   \n",
       "2  black and white tutu,striped skirt,zebra tutu,...                 426   \n",
       "3  tutu,girls skirt,sparkling tutu,fun skirt,ball...                 426   \n",
       "4  dog tutu,fluffy tutu,dance tutu,skirt,flower g...                 426   \n",
       "\n",
       "             bottom_category_text  top_category_id top_category_text  \\\n",
       "0  clothing.girls_clothing.skirts                5          clothing   \n",
       "1  clothing.girls_clothing.skirts                5          clothing   \n",
       "2  clothing.girls_clothing.skirts                5          clothing   \n",
       "3  clothing.girls_clothing.skirts                5          clothing   \n",
       "4  clothing.girls_clothing.skirts                5          clothing   \n",
       "\n",
       "   primary_color_id primary_color_text  secondary_color_id  \\\n",
       "0                 2               blue                   2   \n",
       "1                11               pink                   1   \n",
       "2                17              white                   1   \n",
       "3                12             purple                  13   \n",
       "4                18             yellow                   1   \n",
       "\n",
       "  secondary_color_text  \n",
       "0                 blue  \n",
       "1                black  \n",
       "2                black  \n",
       "3              rainbow  \n",
       "4                black  "
      ]
     },
     "execution_count": 59,
     "metadata": {},
     "output_type": "execute_result"
    }
   ],
   "source": [
    "df_train.head(5)"
   ]
  },
  {
   "cell_type": "code",
   "execution_count": 60,
   "id": "4395656f-72af-454e-bd94-888f67082861",
   "metadata": {},
   "outputs": [
    {
     "name": "stdout",
     "output_type": "stream",
     "text": [
      "Index(['product_id', 'title', 'description', 'tags', 'bottom_category_id',\n",
      "       'bottom_category_text', 'top_category_id', 'top_category_text',\n",
      "       'primary_color_id', 'primary_color_text', 'secondary_color_id',\n",
      "       'secondary_color_text'],\n",
      "      dtype='object')\n"
     ]
    }
   ],
   "source": [
    "print(df_train.columns)"
   ]
  },
  {
   "cell_type": "code",
   "execution_count": 61,
   "id": "70f03171-b882-4734-abe5-03f1c1f4896a",
   "metadata": {},
   "outputs": [],
   "source": [
    "df_train.to_csv(\"PotentialTrainingData.csv\", index = False)"
   ]
  },
  {
   "cell_type": "code",
   "execution_count": 62,
   "id": "983d0c0f-0849-484d-82f1-6e215d17b583",
   "metadata": {},
   "outputs": [
    {
     "name": "stdout",
     "output_type": "stream",
     "text": [
      "Requirement already satisfied: nltk in c:\\users\\omkar\\appdata\\local\\programs\\python\\python311\\lib\\site-packages (3.8.1)\n",
      "Requirement already satisfied: click in c:\\users\\omkar\\appdata\\local\\programs\\python\\python311\\lib\\site-packages (from nltk) (8.1.7)\n",
      "Requirement already satisfied: joblib in c:\\users\\omkar\\appdata\\local\\programs\\python\\python311\\lib\\site-packages (from nltk) (1.3.2)\n",
      "Requirement already satisfied: regex>=2021.8.3 in c:\\users\\omkar\\appdata\\local\\programs\\python\\python311\\lib\\site-packages (from nltk) (2023.8.8)\n",
      "Requirement already satisfied: tqdm in c:\\users\\omkar\\appdata\\local\\programs\\python\\python311\\lib\\site-packages (from nltk) (4.66.1)\n",
      "Requirement already satisfied: colorama in c:\\users\\omkar\\appdata\\local\\programs\\python\\python311\\lib\\site-packages (from click->nltk) (0.4.6)\n"
     ]
    }
   ],
   "source": [
    "!pip install nltk\n"
   ]
  },
  {
   "cell_type": "code",
   "execution_count": 63,
   "id": "e88c9c44-77c2-44d2-9444-fa9fd420e23b",
   "metadata": {},
   "outputs": [
    {
     "name": "stderr",
     "output_type": "stream",
     "text": [
      "[nltk_data] Downloading package stopwords to\n",
      "[nltk_data]     C:\\Users\\OMKAR\\AppData\\Roaming\\nltk_data...\n",
      "[nltk_data]   Package stopwords is already up-to-date!\n",
      "[nltk_data] Downloading package wordnet to\n",
      "[nltk_data]     C:\\Users\\OMKAR\\AppData\\Roaming\\nltk_data...\n",
      "[nltk_data]   Package wordnet is already up-to-date!\n",
      "[nltk_data] Downloading package omw-1.4 to\n",
      "[nltk_data]     C:\\Users\\OMKAR\\AppData\\Roaming\\nltk_data...\n",
      "[nltk_data]   Package omw-1.4 is already up-to-date!\n"
     ]
    },
    {
     "data": {
      "text/plain": [
       "True"
      ]
     },
     "execution_count": 63,
     "metadata": {},
     "output_type": "execute_result"
    }
   ],
   "source": [
    "import pandas as pd\n",
    "import nltk\n",
    "from nltk.corpus import stopwords\n",
    "from nltk.stem import WordNetLemmatizer\n",
    "import re\n",
    "\n",
    "# Download necessary NLTK resources\n",
    "nltk.download('stopwords')\n",
    "nltk.download('wordnet')\n",
    "nltk.download('omw-1.4')"
   ]
  },
  {
   "cell_type": "code",
   "execution_count": 64,
   "id": "1dd1b189-affd-40c6-892b-4d1240e507fc",
   "metadata": {},
   "outputs": [
    {
     "name": "stderr",
     "output_type": "stream",
     "text": [
      "[nltk_data] Downloading package stopwords to\n",
      "[nltk_data]     C:\\Users\\OMKAR\\AppData\\Roaming\\nltk_data...\n",
      "[nltk_data]   Package stopwords is already up-to-date!\n",
      "[nltk_data] Downloading package wordnet to\n",
      "[nltk_data]     C:\\Users\\OMKAR\\AppData\\Roaming\\nltk_data...\n",
      "[nltk_data]   Package wordnet is already up-to-date!\n",
      "[nltk_data] Downloading package omw-1.4 to\n",
      "[nltk_data]     C:\\Users\\OMKAR\\AppData\\Roaming\\nltk_data...\n",
      "[nltk_data]   Package omw-1.4 is already up-to-date!\n"
     ]
    }
   ],
   "source": [
    "import pandas as pd\n",
    "import nltk\n",
    "from nltk.corpus import stopwords\n",
    "from nltk.stem import WordNetLemmatizer\n",
    "import re\n",
    "\n",
    "# Ensure you have the necessary nltk resources\n",
    "nltk.download('stopwords')\n",
    "nltk.download('wordnet')\n",
    "nltk.download('omw-1.4')\n",
    "\n",
    "# Function to clean text data\n",
    "def clean_text(text):\n",
    "    # Remove URLs\n",
    "    text = re.sub(r'https?://\\S+|www\\.\\S+', '', text)\n",
    "    # Remove emojis and special characters\n",
    "    text = re.sub(r'[^\\w\\s]', '', text)\n",
    "    # Remove digits\n",
    "    text = re.sub(r'\\d+', '', text)\n",
    "    # Remove extra spaces\n",
    "    text = re.sub(r'\\s+', ' ', text).strip()\n",
    "    return text\n",
    "\n",
    "# Function to remove stopwords and apply lemmatization\n",
    "def process_text(text):\n",
    "    stop_words = set(stopwords.words('english'))\n",
    "    lemmatizer = WordNetLemmatizer()\n",
    "    \n",
    "    # Tokenization (splitting text into words)\n",
    "    words = text.split()\n",
    "    # Remove stopwords and lemmatize\n",
    "    filtered_words = [lemmatizer.lemmatize(word) for word in words if word.lower() not in stop_words]\n",
    "    \n",
    "    return ' '.join(filtered_words)\n"
   ]
  },
  {
   "cell_type": "code",
   "execution_count": 65,
   "id": "15237ef2-e2f2-49cc-96d9-1552c7559453",
   "metadata": {},
   "outputs": [],
   "source": [
    "# List of columns to preprocess\n",
    "text_columns = ['title', 'description', 'tags',\n",
    "       'bottom_category_text', 'top_category_text', 'primary_color_text',\n",
    "       'secondary_color_text']\n",
    "\n",
    "for column in text_columns:\n",
    "    df_train[column] = df_train[column].astype(str).apply(clean_text).apply(process_text)"
   ]
  },
  {
   "cell_type": "code",
   "execution_count": 67,
   "id": "ccc9d5ba-d72d-4859-9d96-081c5a17ab42",
   "metadata": {},
   "outputs": [
    {
     "data": {
      "text/html": [
       "<div>\n",
       "<style scoped>\n",
       "    .dataframe tbody tr th:only-of-type {\n",
       "        vertical-align: middle;\n",
       "    }\n",
       "\n",
       "    .dataframe tbody tr th {\n",
       "        vertical-align: top;\n",
       "    }\n",
       "\n",
       "    .dataframe thead th {\n",
       "        text-align: right;\n",
       "    }\n",
       "</style>\n",
       "<table border=\"1\" class=\"dataframe\">\n",
       "  <thead>\n",
       "    <tr style=\"text-align: right;\">\n",
       "      <th></th>\n",
       "      <th>product_id</th>\n",
       "      <th>title</th>\n",
       "      <th>description</th>\n",
       "      <th>tags</th>\n",
       "      <th>bottom_category_id</th>\n",
       "      <th>bottom_category_text</th>\n",
       "      <th>top_category_id</th>\n",
       "      <th>top_category_text</th>\n",
       "      <th>primary_color_id</th>\n",
       "      <th>primary_color_text</th>\n",
       "      <th>secondary_color_id</th>\n",
       "      <th>secondary_color_text</th>\n",
       "    </tr>\n",
       "  </thead>\n",
       "  <tbody>\n",
       "    <tr>\n",
       "      <th>0</th>\n",
       "      <td>699437355</td>\n",
       "      <td>Childrens circle skirt BLUE GALAXY made light ...</td>\n",
       "      <td>fuxandfriends childrens full circle skirt exhi...</td>\n",
       "      <td></td>\n",
       "      <td>426</td>\n",
       "      <td>clothinggirls_clothingskirts</td>\n",
       "      <td>5</td>\n",
       "      <td>clothing</td>\n",
       "      <td>2</td>\n",
       "      <td>blue</td>\n",
       "      <td>2</td>\n",
       "      <td>blue</td>\n",
       "    </tr>\n",
       "    <tr>\n",
       "      <th>1</th>\n",
       "      <td>1323699538</td>\n",
       "      <td>Cow Birthday Tutu kid Farm Theme Bday Outfit P...</td>\n",
       "      <td>listing TUTU double ribbion include shirtany p...</td>\n",
       "      <td>birthday outfitgirls birthday shirtTutu outfit...</td>\n",
       "      <td>426</td>\n",
       "      <td>clothinggirls_clothingskirts</td>\n",
       "      <td>5</td>\n",
       "      <td>clothing</td>\n",
       "      <td>11</td>\n",
       "      <td>pink</td>\n",
       "      <td>1</td>\n",
       "      <td>black</td>\n",
       "    </tr>\n",
       "    <tr>\n",
       "      <th>2</th>\n",
       "      <td>1142910558</td>\n",
       "      <td>Zebra print tutu animal print Skirt World book...</td>\n",
       "      <td>tutu handmade order two layer tulle strip fabr...</td>\n",
       "      <td>black white tutustriped skirtzebra tutusafaris...</td>\n",
       "      <td>426</td>\n",
       "      <td>clothinggirls_clothingskirts</td>\n",
       "      <td>5</td>\n",
       "      <td>clothing</td>\n",
       "      <td>17</td>\n",
       "      <td>white</td>\n",
       "      <td>1</td>\n",
       "      <td>black</td>\n",
       "    </tr>\n",
       "    <tr>\n",
       "      <th>3</th>\n",
       "      <td>1320296928</td>\n",
       "      <td>Lilac Tutu Rainbow Dots Girls Tutu Tulle Skirt...</td>\n",
       "      <td>Step aside princess pop star win heart Made hi...</td>\n",
       "      <td>tutugirls skirtsparkling tutufun skirtballet t...</td>\n",
       "      <td>426</td>\n",
       "      <td>clothinggirls_clothingskirts</td>\n",
       "      <td>5</td>\n",
       "      <td>clothing</td>\n",
       "      <td>12</td>\n",
       "      <td>purple</td>\n",
       "      <td>13</td>\n",
       "      <td>rainbow</td>\n",
       "    </tr>\n",
       "    <tr>\n",
       "      <th>4</th>\n",
       "      <td>854901795</td>\n",
       "      <td>Bumblebee tutu yellow black tutu halloween tut...</td>\n",
       "      <td>Sparkle shimmer twirl spinnThis tutu fun begin...</td>\n",
       "      <td>dog tutufluffy tutudance tutuskirtflower girl ...</td>\n",
       "      <td>426</td>\n",
       "      <td>clothinggirls_clothingskirts</td>\n",
       "      <td>5</td>\n",
       "      <td>clothing</td>\n",
       "      <td>18</td>\n",
       "      <td>yellow</td>\n",
       "      <td>1</td>\n",
       "      <td>black</td>\n",
       "    </tr>\n",
       "  </tbody>\n",
       "</table>\n",
       "</div>"
      ],
      "text/plain": [
       "   product_id                                              title  \\\n",
       "0   699437355  Childrens circle skirt BLUE GALAXY made light ...   \n",
       "1  1323699538  Cow Birthday Tutu kid Farm Theme Bday Outfit P...   \n",
       "2  1142910558  Zebra print tutu animal print Skirt World book...   \n",
       "3  1320296928  Lilac Tutu Rainbow Dots Girls Tutu Tulle Skirt...   \n",
       "4   854901795  Bumblebee tutu yellow black tutu halloween tut...   \n",
       "\n",
       "                                         description  \\\n",
       "0  fuxandfriends childrens full circle skirt exhi...   \n",
       "1  listing TUTU double ribbion include shirtany p...   \n",
       "2  tutu handmade order two layer tulle strip fabr...   \n",
       "3  Step aside princess pop star win heart Made hi...   \n",
       "4  Sparkle shimmer twirl spinnThis tutu fun begin...   \n",
       "\n",
       "                                                tags  bottom_category_id  \\\n",
       "0                                                                    426   \n",
       "1  birthday outfitgirls birthday shirtTutu outfit...                 426   \n",
       "2  black white tutustriped skirtzebra tutusafaris...                 426   \n",
       "3  tutugirls skirtsparkling tutufun skirtballet t...                 426   \n",
       "4  dog tutufluffy tutudance tutuskirtflower girl ...                 426   \n",
       "\n",
       "           bottom_category_text  top_category_id top_category_text  \\\n",
       "0  clothinggirls_clothingskirts                5          clothing   \n",
       "1  clothinggirls_clothingskirts                5          clothing   \n",
       "2  clothinggirls_clothingskirts                5          clothing   \n",
       "3  clothinggirls_clothingskirts                5          clothing   \n",
       "4  clothinggirls_clothingskirts                5          clothing   \n",
       "\n",
       "   primary_color_id primary_color_text  secondary_color_id  \\\n",
       "0                 2               blue                   2   \n",
       "1                11               pink                   1   \n",
       "2                17              white                   1   \n",
       "3                12             purple                  13   \n",
       "4                18             yellow                   1   \n",
       "\n",
       "  secondary_color_text  \n",
       "0                 blue  \n",
       "1                black  \n",
       "2                black  \n",
       "3              rainbow  \n",
       "4                black  "
      ]
     },
     "execution_count": 67,
     "metadata": {},
     "output_type": "execute_result"
    }
   ],
   "source": [
    "df_train.head(5)"
   ]
  },
  {
   "cell_type": "code",
   "execution_count": 68,
   "id": "936c1a64-f971-4e0c-82f1-b7f52c41d80b",
   "metadata": {},
   "outputs": [],
   "source": [
    "df_train.to_csv(\"CleanedTextDF.csv\", index = False)"
   ]
  },
  {
   "cell_type": "code",
   "execution_count": null,
   "id": "cf6c1170-a0c5-47ce-a9f5-0bd5ff4950c7",
   "metadata": {},
   "outputs": [],
   "source": [
    "df_train = pd.read_csv"
   ]
  },
  {
   "cell_type": "code",
   "execution_count": 69,
   "id": "2a75d33c-32ea-4e63-a3da-556fd440dad4",
   "metadata": {},
   "outputs": [
    {
     "name": "stdout",
     "output_type": "stream",
     "text": [
      "Index(['product_id', 'title', 'description', 'tags', 'bottom_category_id',\n",
      "       'bottom_category_text', 'top_category_id', 'top_category_text',\n",
      "       'primary_color_id', 'primary_color_text', 'secondary_color_id',\n",
      "       'secondary_color_text'],\n",
      "      dtype='object')\n"
     ]
    }
   ],
   "source": [
    "print(df_train.columns)"
   ]
  },
  {
   "cell_type": "code",
   "execution_count": 70,
   "id": "54de58c8-a0b0-4e20-b16b-7bb9c80bd258",
   "metadata": {},
   "outputs": [],
   "source": [
    "df_train['combine'] = df_train['title'] + ' ' + df_train['description'] + ' ' + df_train['tags']"
   ]
  },
  {
   "cell_type": "code",
   "execution_count": 71,
   "id": "07f66add-516e-4dfb-87d2-8c122b06e494",
   "metadata": {},
   "outputs": [
    {
     "name": "stdout",
     "output_type": "stream",
     "text": [
      "Index(['product_id', 'title', 'description', 'tags', 'bottom_category_id',\n",
      "       'bottom_category_text', 'top_category_id', 'top_category_text',\n",
      "       'primary_color_id', 'primary_color_text', 'secondary_color_id',\n",
      "       'secondary_color_text', 'combine'],\n",
      "      dtype='object')\n"
     ]
    }
   ],
   "source": [
    "print(df_train.columns)"
   ]
  },
  {
   "cell_type": "markdown",
   "id": "33941984-6efc-42f1-a091-70902f418c1f",
   "metadata": {},
   "source": [
    "# Logistic Regression "
   ]
  },
  {
   "cell_type": "markdown",
   "id": "d0830e4f-3271-4e25-bbe5-3b654f74d5bc",
   "metadata": {},
   "source": [
    "### top_category_id"
   ]
  },
  {
   "cell_type": "code",
   "execution_count": 73,
   "id": "61462f17-04c6-49d8-a730-145a807cb402",
   "metadata": {},
   "outputs": [
    {
     "name": "stderr",
     "output_type": "stream",
     "text": [
      "Training Progress: 100%|█████████████████████| 12/12 [00:53<00:00,  4.48s/it, Train F1 Score=0.997, Val F1 Score=0.903]"
     ]
    },
    {
     "name": "stdout",
     "output_type": "stream",
     "text": [
      "Final Metrics:\n",
      "Train - Recall: 0.9972, F1 Score: 0.9972, Accuracy: 0.9972\n",
      "Val - Recall: 0.9030, F1 Score: 0.9026, Accuracy: 0.9030\n"
     ]
    },
    {
     "name": "stderr",
     "output_type": "stream",
     "text": [
      "\n"
     ]
    }
   ],
   "source": [
    "from sklearn.feature_extraction.text import CountVectorizer\n",
    "from sklearn.model_selection import train_test_split\n",
    "from sklearn.linear_model import LogisticRegression\n",
    "from sklearn.metrics import f1_score, recall_score, accuracy_score\n",
    "from tqdm import tqdm\n",
    "\n",
    "# Define batch size and calculate the number of batches\n",
    "batch_size = 20000\n",
    "num_batches = len(df_train) // batch_size + int(len(df_train) % batch_size > 0)\n",
    "\n",
    "# Initialize logistic regression model\n",
    "model_top = LogisticRegression(max_iter=1000)\n",
    "\n",
    "# Initialize CountVectorizer\n",
    "vectorizer = CountVectorizer(max_features=10000)\n",
    "\n",
    "# Initialize lists to store true and predicted values\n",
    "y_true_train = []\n",
    "y_pred_train = []\n",
    "y_true_val = []\n",
    "y_pred_val = []\n",
    "\n",
    "# Initialize progress bar\n",
    "pbar = tqdm(total=num_batches, desc=\"Training Progress\")\n",
    "\n",
    "# Iterate over batches\n",
    "for i in range(num_batches):\n",
    "    start_idx = i * batch_size\n",
    "    end_idx = min(start_idx + batch_size, len(df_train))\n",
    "    \n",
    "    # Extract features and target for this batch\n",
    "    X_text = df_train['combine'][start_idx:end_idx]\n",
    "    y = df_train['top_category_id'][start_idx:end_idx]\n",
    "\n",
    "    # Vectorize text data\n",
    "    X = vectorizer.fit_transform(X_text)\n",
    "    \n",
    "    # Split data into train and test sets\n",
    "    X_train, X_test, y_train, y_test = train_test_split(X, y, test_size=0.2, random_state=42)\n",
    "\n",
    "    # Fit the model\n",
    "    model_top.fit(X_train, y_train)\n",
    "\n",
    "    # Predict on train and validation sets\n",
    "    y_pred_train_batch = model_top.predict(X_train)\n",
    "    y_true_train.extend(y_train)\n",
    "    y_pred_train.extend(y_pred_train_batch)\n",
    "\n",
    "    y_pred_val_batch = model_top.predict(X_test)\n",
    "    y_true_val.extend(y_test)\n",
    "    y_pred_val.extend(y_pred_val_batch)\n",
    "\n",
    "    # Calculate evaluation metrics\n",
    "    train_recall = recall_score(y_true_train, y_pred_train, average='weighted')\n",
    "    train_f1_score = f1_score(y_true_train, y_pred_train, average='weighted')\n",
    "    train_accuracy = accuracy_score(y_true_train, y_pred_train)\n",
    "\n",
    "    val_recall = recall_score(y_true_val, y_pred_val, average='weighted')\n",
    "    val_f1_score = f1_score(y_true_val, y_pred_val, average='weighted')\n",
    "    val_accuracy = accuracy_score(y_true_val, y_pred_val)\n",
    "    \n",
    "    # Update progress bar\n",
    "    pbar.update(1)\n",
    "    pbar.set_postfix({\"Train F1 Score\": train_f1_score, \"Val F1 Score\": val_f1_score})\n",
    "\n",
    "# Close the progress bar\n",
    "pbar.close()\n",
    "\n",
    "# Print final evaluation metrics\n",
    "print(\"Final Metrics:\")\n",
    "print(\"Train - Recall: {:.4f}, F1 Score: {:.4f}, Accuracy: {:.4f}\".format(train_recall, train_f1_score, train_accuracy))\n",
    "print(\"Val - Recall: {:.4f}, F1 Score: {:.4f}, Accuracy: {:.4f}\".format(val_recall, val_f1_score, val_accuracy))"
   ]
  },
  {
   "cell_type": "markdown",
   "id": "946aafe2-fb1b-4cf2-8bae-1a9e4101fa8d",
   "metadata": {},
   "source": [
    "### bottom_category_id"
   ]
  },
  {
   "cell_type": "code",
   "execution_count": 75,
   "id": "0e9aca67-cfd5-4f77-bb01-21c876f6ba90",
   "metadata": {},
   "outputs": [
    {
     "name": "stderr",
     "output_type": "stream",
     "text": [
      "Training Progress: 100%|█████████████████████| 12/12 [08:18<00:00, 41.53s/it, Train F1 Score=0.997, Val F1 Score=0.828]"
     ]
    },
    {
     "name": "stdout",
     "output_type": "stream",
     "text": [
      "Final Metrics:\n",
      "Train - Recall: 0.9968, F1 Score: 0.9972, Accuracy: 0.9968\n",
      "Val - Recall: 0.8250, F1 Score: 0.8280, Accuracy: 0.8250\n"
     ]
    },
    {
     "name": "stderr",
     "output_type": "stream",
     "text": [
      "\n"
     ]
    }
   ],
   "source": [
    "from sklearn.feature_extraction.text import CountVectorizer\n",
    "from sklearn.model_selection import train_test_split\n",
    "from sklearn.linear_model import LogisticRegression\n",
    "from sklearn.metrics import f1_score, recall_score, accuracy_score\n",
    "from tqdm import tqdm\n",
    "\n",
    "# Define batch size and calculate the number of batches\n",
    "batch_size = 20000\n",
    "num_batches = len(df_train) // batch_size + int(len(df_train) % batch_size > 0)\n",
    "\n",
    "# Initialize logistic regression model\n",
    "model_top = LogisticRegression(max_iter=1000)\n",
    "\n",
    "# Initialize CountVectorizer\n",
    "vectorizer = CountVectorizer(max_features=10000)\n",
    "\n",
    "# Initialize lists to store true and predicted values\n",
    "y_true_train = []\n",
    "y_pred_train = []\n",
    "y_true_val = []\n",
    "y_pred_val = []\n",
    "\n",
    "# Initialize progress bar\n",
    "pbar = tqdm(total=num_batches, desc=\"Training Progress\")\n",
    "\n",
    "# Iterate over batches\n",
    "for i in range(num_batches):\n",
    "    start_idx = i * batch_size\n",
    "    end_idx = min(start_idx + batch_size, len(df_train))\n",
    "    \n",
    "    # Extract features and target for this batch\n",
    "    X_text = df_train['combine'][start_idx:end_idx]\n",
    "    y = df_train['bottom_category_id'][start_idx:end_idx]\n",
    "\n",
    "    # Vectorize text data\n",
    "    X = vectorizer.fit_transform(X_text)\n",
    "    \n",
    "    # Split data into train and test sets\n",
    "    X_train, X_test, y_train, y_test = train_test_split(X, y, test_size=0.2, random_state=42)\n",
    "\n",
    "    # Fit the model\n",
    "    model_top.fit(X_train, y_train)\n",
    "\n",
    "    # Predict on train and validation sets\n",
    "    y_pred_train_batch = model_top.predict(X_train)\n",
    "    y_true_train.extend(y_train)\n",
    "    y_pred_train.extend(y_pred_train_batch)\n",
    "\n",
    "    y_pred_val_batch = model_top.predict(X_test)\n",
    "    y_true_val.extend(y_test)\n",
    "    y_pred_val.extend(y_pred_val_batch)\n",
    "\n",
    "    # Calculate evaluation metrics\n",
    "    train_recall = recall_score(y_true_train, y_pred_train, average='weighted')\n",
    "    train_f1_score = f1_score(y_true_train, y_pred_train, average='weighted')\n",
    "    train_accuracy = accuracy_score(y_true_train, y_pred_train)\n",
    "\n",
    "    val_recall = recall_score(y_true_val, y_pred_val, average='weighted')\n",
    "    val_f1_score = f1_score(y_true_val, y_pred_val, average='weighted')\n",
    "    val_accuracy = accuracy_score(y_true_val, y_pred_val)\n",
    "    \n",
    "    # Update progress bar\n",
    "    pbar.update(1)\n",
    "    pbar.set_postfix({\"Train F1 Score\": train_f1_score, \"Val F1 Score\": val_f1_score})\n",
    "\n",
    "# Close the progress bar\n",
    "pbar.close()\n",
    "\n",
    "# Print final evaluation metrics\n",
    "print(\"Final Metrics:\")\n",
    "print(\"Train - Recall: {:.4f}, F1 Score: {:.4f}, Accuracy: {:.4f}\".format(train_recall, train_f1_score, train_accuracy))\n",
    "print(\"Val - Recall: {:.4f}, F1 Score: {:.4f}, Accuracy: {:.4f}\".format(val_recall, val_f1_score, val_accuracy))"
   ]
  },
  {
   "cell_type": "markdown",
   "id": "fa9d5c34-eb6c-4c6d-afe6-115eb350f27f",
   "metadata": {},
   "source": [
    "### primary_color_id"
   ]
  },
  {
   "cell_type": "code",
   "execution_count": 76,
   "id": "8dc87ecf-0152-43cd-989b-ada16c57a32a",
   "metadata": {},
   "outputs": [
    {
     "name": "stderr",
     "output_type": "stream",
     "text": [
      "Training Progress: 100%|█████████████████████| 12/12 [03:10<00:00, 15.91s/it, Train F1 Score=0.983, Val F1 Score=0.415]"
     ]
    },
    {
     "name": "stdout",
     "output_type": "stream",
     "text": [
      "Final Metrics:\n",
      "Train - Recall: 0.9831, F1 Score: 0.9832, Accuracy: 0.9831\n",
      "Val - Recall: 0.4174, F1 Score: 0.4152, Accuracy: 0.4174\n"
     ]
    },
    {
     "name": "stderr",
     "output_type": "stream",
     "text": [
      "\n"
     ]
    }
   ],
   "source": [
    "from sklearn.feature_extraction.text import CountVectorizer\n",
    "from sklearn.model_selection import train_test_split\n",
    "from sklearn.linear_model import LogisticRegression\n",
    "from sklearn.metrics import f1_score, recall_score, accuracy_score\n",
    "from tqdm import tqdm\n",
    "\n",
    "# Define batch size and calculate the number of batches\n",
    "batch_size = 20000\n",
    "num_batches = len(df_train) // batch_size + int(len(df_train) % batch_size > 0)\n",
    "\n",
    "# Initialize logistic regression model\n",
    "model_top = LogisticRegression(max_iter=1000)\n",
    "\n",
    "# Initialize CountVectorizer\n",
    "vectorizer = CountVectorizer(max_features=10000)\n",
    "\n",
    "# Initialize lists to store true and predicted values\n",
    "y_true_train = []\n",
    "y_pred_train = []\n",
    "y_true_val = []\n",
    "y_pred_val = []\n",
    "\n",
    "# Initialize progress bar\n",
    "pbar = tqdm(total=num_batches, desc=\"Training Progress\")\n",
    "\n",
    "# Iterate over batches\n",
    "for i in range(num_batches):\n",
    "    start_idx = i * batch_size\n",
    "    end_idx = min(start_idx + batch_size, len(df_train))\n",
    "    \n",
    "    # Extract features and target for this batch\n",
    "    X_text = df_train['combine'][start_idx:end_idx]\n",
    "    y = df_train['primary_color_id'][start_idx:end_idx]\n",
    "\n",
    "    # Vectorize text data\n",
    "    X = vectorizer.fit_transform(X_text)\n",
    "    \n",
    "    # Split data into train and test sets\n",
    "    X_train, X_test, y_train, y_test = train_test_split(X, y, test_size=0.2, random_state=42)\n",
    "\n",
    "    # Fit the model\n",
    "    model_top.fit(X_train, y_train)\n",
    "\n",
    "    # Predict on train and validation sets\n",
    "    y_pred_train_batch = model_top.predict(X_train)\n",
    "    y_true_train.extend(y_train)\n",
    "    y_pred_train.extend(y_pred_train_batch)\n",
    "\n",
    "    y_pred_val_batch = model_top.predict(X_test)\n",
    "    y_true_val.extend(y_test)\n",
    "    y_pred_val.extend(y_pred_val_batch)\n",
    "\n",
    "    # Calculate evaluation metrics\n",
    "    train_recall = recall_score(y_true_train, y_pred_train, average='weighted')\n",
    "    train_f1_score = f1_score(y_true_train, y_pred_train, average='weighted')\n",
    "    train_accuracy = accuracy_score(y_true_train, y_pred_train)\n",
    "\n",
    "    val_recall = recall_score(y_true_val, y_pred_val, average='weighted')\n",
    "    val_f1_score = f1_score(y_true_val, y_pred_val, average='weighted')\n",
    "    val_accuracy = accuracy_score(y_true_val, y_pred_val)\n",
    "    \n",
    "    # Update progress bar\n",
    "    pbar.update(1)\n",
    "    pbar.set_postfix({\"Train F1 Score\": train_f1_score, \"Val F1 Score\": val_f1_score})\n",
    "\n",
    "# Close the progress bar\n",
    "pbar.close()\n",
    "\n",
    "# Print final evaluation metrics\n",
    "print(\"Final Metrics:\")\n",
    "print(\"Train - Recall: {:.4f}, F1 Score: {:.4f}, Accuracy: {:.4f}\".format(train_recall, train_f1_score, train_accuracy))\n",
    "print(\"Val - Recall: {:.4f}, F1 Score: {:.4f}, Accuracy: {:.4f}\".format(val_recall, val_f1_score, val_accuracy))"
   ]
  },
  {
   "cell_type": "markdown",
   "id": "8d923550-c44d-44c6-b1c9-56fe7d4fb3b9",
   "metadata": {},
   "source": [
    "### secondary_color_id"
   ]
  },
  {
   "cell_type": "code",
   "execution_count": 77,
   "id": "0689b59c-6afd-43c8-a9ec-a634a46713cf",
   "metadata": {},
   "outputs": [
    {
     "name": "stderr",
     "output_type": "stream",
     "text": [
      "Training Progress: 100%|█████████████████████| 12/12 [03:32<00:00, 17.70s/it, Train F1 Score=0.978, Val F1 Score=0.297]"
     ]
    },
    {
     "name": "stdout",
     "output_type": "stream",
     "text": [
      "Final Metrics:\n",
      "Train - Recall: 0.9777, F1 Score: 0.9777, Accuracy: 0.9777\n",
      "Val - Recall: 0.2997, F1 Score: 0.2970, Accuracy: 0.2997\n"
     ]
    },
    {
     "name": "stderr",
     "output_type": "stream",
     "text": [
      "\n"
     ]
    }
   ],
   "source": [
    "from sklearn.feature_extraction.text import CountVectorizer\n",
    "from sklearn.model_selection import train_test_split\n",
    "from sklearn.linear_model import LogisticRegression\n",
    "from sklearn.metrics import f1_score, recall_score, accuracy_score\n",
    "from tqdm import tqdm\n",
    "\n",
    "# Define batch size and calculate the number of batches\n",
    "batch_size = 20000\n",
    "num_batches = len(df_train) // batch_size + int(len(df_train) % batch_size > 0)\n",
    "\n",
    "# Initialize logistic regression model\n",
    "model_top = LogisticRegression(max_iter=1000)\n",
    "\n",
    "# Initialize CountVectorizer\n",
    "vectorizer = CountVectorizer(max_features=10000)\n",
    "\n",
    "# Initialize lists to store true and predicted values\n",
    "y_true_train = []\n",
    "y_pred_train = []\n",
    "y_true_val = []\n",
    "y_pred_val = []\n",
    "\n",
    "# Initialize progress bar\n",
    "pbar = tqdm(total=num_batches, desc=\"Training Progress\")\n",
    "\n",
    "# Iterate over batches\n",
    "for i in range(num_batches):\n",
    "    start_idx = i * batch_size\n",
    "    end_idx = min(start_idx + batch_size, len(df_train))\n",
    "    \n",
    "    # Extract features and target for this batch\n",
    "    X_text = df_train['combine'][start_idx:end_idx]\n",
    "    y = df_train['secondary_color_id'][start_idx:end_idx]\n",
    "\n",
    "    # Vectorize text data\n",
    "    X = vectorizer.fit_transform(X_text)\n",
    "    \n",
    "    # Split data into train and test sets\n",
    "    X_train, X_test, y_train, y_test = train_test_split(X, y, test_size=0.2, random_state=42)\n",
    "\n",
    "    # Fit the model\n",
    "    model_top.fit(X_train, y_train)\n",
    "\n",
    "    # Predict on train and validation sets\n",
    "    y_pred_train_batch = model_top.predict(X_train)\n",
    "    y_true_train.extend(y_train)\n",
    "    y_pred_train.extend(y_pred_train_batch)\n",
    "\n",
    "    y_pred_val_batch = model_top.predict(X_test)\n",
    "    y_true_val.extend(y_test)\n",
    "    y_pred_val.extend(y_pred_val_batch)\n",
    "\n",
    "    # Calculate evaluation metrics\n",
    "    train_recall = recall_score(y_true_train, y_pred_train, average='weighted')\n",
    "    train_f1_score = f1_score(y_true_train, y_pred_train, average='weighted')\n",
    "    train_accuracy = accuracy_score(y_true_train, y_pred_train)\n",
    "\n",
    "    val_recall = recall_score(y_true_val, y_pred_val, average='weighted')\n",
    "    val_f1_score = f1_score(y_true_val, y_pred_val, average='weighted')\n",
    "    val_accuracy = accuracy_score(y_true_val, y_pred_val)\n",
    "    \n",
    "    # Update progress bar\n",
    "    pbar.update(1)\n",
    "    pbar.set_postfix({\"Train F1 Score\": train_f1_score, \"Val F1 Score\": val_f1_score})\n",
    "\n",
    "# Close the progress bar\n",
    "pbar.close()\n",
    "\n",
    "# Print final evaluation metrics\n",
    "print(\"Final Metrics:\")\n",
    "print(\"Train - Recall: {:.4f}, F1 Score: {:.4f}, Accuracy: {:.4f}\".format(train_recall, train_f1_score, train_accuracy))\n",
    "print(\"Val - Recall: {:.4f}, F1 Score: {:.4f}, Accuracy: {:.4f}\".format(val_recall, val_f1_score, val_accuracy))"
   ]
  },
  {
   "cell_type": "markdown",
   "id": "6730749e-f051-4a7d-a72f-e7462e708584",
   "metadata": {},
   "source": [
    "# SGDClassifier"
   ]
  },
  {
   "cell_type": "markdown",
   "id": "222810b5-e971-49a1-ad92-360599b876b2",
   "metadata": {},
   "source": [
    "### top_category_id"
   ]
  },
  {
   "cell_type": "code",
   "execution_count": 78,
   "id": "a313d4da-1318-418b-b316-610c35d231e8",
   "metadata": {},
   "outputs": [
    {
     "name": "stderr",
     "output_type": "stream",
     "text": [
      "Training Progress: 100%|███████████████████████| 12/12 [00:34<00:00,  2.85s/it, Train F1 Score=0.995, Val F1 Score=0.9]"
     ]
    },
    {
     "name": "stdout",
     "output_type": "stream",
     "text": [
      "Final Metrics:\n",
      "Train - Recall: 0.9952, F1 Score: 0.9952, Accuracy: 0.9952\n",
      "Val - Recall: 0.9001, F1 Score: 0.8998, Accuracy: 0.9001\n"
     ]
    },
    {
     "name": "stderr",
     "output_type": "stream",
     "text": [
      "\n"
     ]
    }
   ],
   "source": [
    "from sklearn.feature_extraction.text import CountVectorizer\n",
    "from sklearn.model_selection import train_test_split\n",
    "from sklearn.linear_model import SGDClassifier\n",
    "from sklearn.metrics import f1_score, recall_score, accuracy_score\n",
    "from tqdm import tqdm\n",
    "\n",
    "# Define batch size and calculate the number of batches\n",
    "batch_size = 20000\n",
    "num_batches = len(df_train) // batch_size + int(len(df_train) % batch_size > 0)\n",
    "\n",
    "# Initialize logistic regression model\n",
    "model_top = SGDClassifier(max_iter=1000)\n",
    "\n",
    "# Initialize CountVectorizer\n",
    "vectorizer = CountVectorizer(max_features=10000)\n",
    "\n",
    "# Initialize lists to store true and predicted values\n",
    "y_true_train = []\n",
    "y_pred_train = []\n",
    "y_true_val = []\n",
    "y_pred_val = []\n",
    "\n",
    "# Initialize progress bar\n",
    "pbar = tqdm(total=num_batches, desc=\"Training Progress\")\n",
    "\n",
    "# Iterate over batches\n",
    "for i in range(num_batches):\n",
    "    start_idx = i * batch_size\n",
    "    end_idx = min(start_idx + batch_size, len(df_train))\n",
    "    \n",
    "    # Extract features and target for this batch\n",
    "    X_text = df_train['combine'][start_idx:end_idx]\n",
    "    y = df_train['top_category_id'][start_idx:end_idx]\n",
    "\n",
    "    # Vectorize text data\n",
    "    X = vectorizer.fit_transform(X_text)\n",
    "    \n",
    "    # Split data into train and test sets\n",
    "    X_train, X_test, y_train, y_test = train_test_split(X, y, test_size=0.2, random_state=42)\n",
    "\n",
    "    # Fit the model\n",
    "    model_top.fit(X_train, y_train)\n",
    "\n",
    "    # Predict on train and validation sets\n",
    "    y_pred_train_batch = model_top.predict(X_train)\n",
    "    y_true_train.extend(y_train)\n",
    "    y_pred_train.extend(y_pred_train_batch)\n",
    "\n",
    "    y_pred_val_batch = model_top.predict(X_test)\n",
    "    y_true_val.extend(y_test)\n",
    "    y_pred_val.extend(y_pred_val_batch)\n",
    "\n",
    "    # Calculate evaluation metrics\n",
    "    train_recall = recall_score(y_true_train, y_pred_train, average='weighted')\n",
    "    train_f1_score = f1_score(y_true_train, y_pred_train, average='weighted')\n",
    "    train_accuracy = accuracy_score(y_true_train, y_pred_train)\n",
    "\n",
    "    val_recall = recall_score(y_true_val, y_pred_val, average='weighted')\n",
    "    val_f1_score = f1_score(y_true_val, y_pred_val, average='weighted')\n",
    "    val_accuracy = accuracy_score(y_true_val, y_pred_val)\n",
    "    \n",
    "    # Update progress bar\n",
    "    pbar.update(1)\n",
    "    pbar.set_postfix({\"Train F1 Score\": train_f1_score, \"Val F1 Score\": val_f1_score})\n",
    "\n",
    "# Close the progress bar\n",
    "pbar.close()\n",
    "\n",
    "# Print final evaluation metrics\n",
    "print(\"Final Metrics:\")\n",
    "print(\"Train - Recall: {:.4f}, F1 Score: {:.4f}, Accuracy: {:.4f}\".format(train_recall, train_f1_score, train_accuracy))\n",
    "print(\"Val - Recall: {:.4f}, F1 Score: {:.4f}, Accuracy: {:.4f}\".format(val_recall, val_f1_score, val_accuracy))"
   ]
  },
  {
   "cell_type": "markdown",
   "id": "f6bbb27a-6833-4e79-b3a4-6126a21b56c5",
   "metadata": {},
   "source": [
    "### bottom_category_id"
   ]
  },
  {
   "cell_type": "code",
   "execution_count": 79,
   "id": "016710a2-4c30-4940-97ee-43699950f41b",
   "metadata": {},
   "outputs": [
    {
     "name": "stderr",
     "output_type": "stream",
     "text": [
      "Training Progress: 100%|█████████████████████| 12/12 [01:40<00:00,  8.35s/it, Train F1 Score=0.995, Val F1 Score=0.801]"
     ]
    },
    {
     "name": "stdout",
     "output_type": "stream",
     "text": [
      "Final Metrics:\n",
      "Train - Recall: 0.9947, F1 Score: 0.9951, Accuracy: 0.9947\n",
      "Val - Recall: 0.8025, F1 Score: 0.8014, Accuracy: 0.8025\n"
     ]
    },
    {
     "name": "stderr",
     "output_type": "stream",
     "text": [
      "\n"
     ]
    }
   ],
   "source": [
    "from sklearn.feature_extraction.text import CountVectorizer\n",
    "from sklearn.model_selection import train_test_split\n",
    "from sklearn.linear_model import SGDClassifier\n",
    "from sklearn.metrics import f1_score, recall_score, accuracy_score\n",
    "from tqdm import tqdm\n",
    "\n",
    "# Define batch size and calculate the number of batches\n",
    "batch_size = 20000\n",
    "num_batches = len(df_train) // batch_size + int(len(df_train) % batch_size > 0)\n",
    "\n",
    "# Initialize logistic regression model\n",
    "model_top = SGDClassifier(max_iter=1000)\n",
    "\n",
    "# Initialize CountVectorizer\n",
    "vectorizer = CountVectorizer(max_features=10000)\n",
    "\n",
    "# Initialize lists to store true and predicted values\n",
    "y_true_train = []\n",
    "y_pred_train = []\n",
    "y_true_val = []\n",
    "y_pred_val = []\n",
    "\n",
    "# Initialize progress bar\n",
    "pbar = tqdm(total=num_batches, desc=\"Training Progress\")\n",
    "\n",
    "# Iterate over batches\n",
    "for i in range(num_batches):\n",
    "    start_idx = i * batch_size\n",
    "    end_idx = min(start_idx + batch_size, len(df_train))\n",
    "    \n",
    "    # Extract features and target for this batch\n",
    "    X_text = df_train['combine'][start_idx:end_idx]\n",
    "    y = df_train['bottom_category_id'][start_idx:end_idx]\n",
    "\n",
    "    # Vectorize text data\n",
    "    X = vectorizer.fit_transform(X_text)\n",
    "    \n",
    "    # Split data into train and test sets\n",
    "    X_train, X_test, y_train, y_test = train_test_split(X, y, test_size=0.2, random_state=42)\n",
    "\n",
    "    # Fit the model\n",
    "    model_top.fit(X_train, y_train)\n",
    "\n",
    "    # Predict on train and validation sets\n",
    "    y_pred_train_batch = model_top.predict(X_train)\n",
    "    y_true_train.extend(y_train)\n",
    "    y_pred_train.extend(y_pred_train_batch)\n",
    "\n",
    "    y_pred_val_batch = model_top.predict(X_test)\n",
    "    y_true_val.extend(y_test)\n",
    "    y_pred_val.extend(y_pred_val_batch)\n",
    "\n",
    "    # Calculate evaluation metrics\n",
    "    train_recall = recall_score(y_true_train, y_pred_train, average='weighted')\n",
    "    train_f1_score = f1_score(y_true_train, y_pred_train, average='weighted')\n",
    "    train_accuracy = accuracy_score(y_true_train, y_pred_train)\n",
    "\n",
    "    val_recall = recall_score(y_true_val, y_pred_val, average='weighted')\n",
    "    val_f1_score = f1_score(y_true_val, y_pred_val, average='weighted')\n",
    "    val_accuracy = accuracy_score(y_true_val, y_pred_val)\n",
    "    \n",
    "    # Update progress bar\n",
    "    pbar.update(1)\n",
    "    pbar.set_postfix({\"Train F1 Score\": train_f1_score, \"Val F1 Score\": val_f1_score})\n",
    "\n",
    "# Close the progress bar\n",
    "pbar.close()\n",
    "\n",
    "# Print final evaluation metrics\n",
    "print(\"Final Metrics:\")\n",
    "print(\"Train - Recall: {:.4f}, F1 Score: {:.4f}, Accuracy: {:.4f}\".format(train_recall, train_f1_score, train_accuracy))\n",
    "print(\"Val - Recall: {:.4f}, F1 Score: {:.4f}, Accuracy: {:.4f}\".format(val_recall, val_f1_score, val_accuracy))"
   ]
  },
  {
   "cell_type": "markdown",
   "id": "1e4c8c16-0d00-404e-acdc-3cd83c2313be",
   "metadata": {},
   "source": [
    "### primary_color_id"
   ]
  },
  {
   "cell_type": "code",
   "execution_count": 80,
   "id": "ab49855a-e802-4edb-a1e9-aa7122fb0bd0",
   "metadata": {},
   "outputs": [
    {
     "name": "stderr",
     "output_type": "stream",
     "text": [
      "Training Progress: 100%|██████████████████████| 12/12 [00:50<00:00,  4.19s/it, Train F1 Score=0.94, Val F1 Score=0.392]"
     ]
    },
    {
     "name": "stdout",
     "output_type": "stream",
     "text": [
      "Final Metrics:\n",
      "Train - Recall: 0.9397, F1 Score: 0.9402, Accuracy: 0.9397\n",
      "Val - Recall: 0.3934, F1 Score: 0.3925, Accuracy: 0.3934\n"
     ]
    },
    {
     "name": "stderr",
     "output_type": "stream",
     "text": [
      "\n"
     ]
    }
   ],
   "source": [
    "from sklearn.feature_extraction.text import CountVectorizer\n",
    "from sklearn.model_selection import train_test_split\n",
    "from sklearn.linear_model import SGDClassifier\n",
    "from sklearn.metrics import f1_score, recall_score, accuracy_score\n",
    "from tqdm import tqdm\n",
    "\n",
    "# Define batch size and calculate the number of batches\n",
    "batch_size = 20000\n",
    "num_batches = len(df_train) // batch_size + int(len(df_train) % batch_size > 0)\n",
    "\n",
    "# Initialize logistic regression model\n",
    "model_top = SGDClassifier(max_iter=1000)\n",
    "\n",
    "# Initialize CountVectorizer\n",
    "vectorizer = CountVectorizer(max_features=10000)\n",
    "\n",
    "# Initialize lists to store true and predicted values\n",
    "y_true_train = []\n",
    "y_pred_train = []\n",
    "y_true_val = []\n",
    "y_pred_val = []\n",
    "\n",
    "# Initialize progress bar\n",
    "pbar = tqdm(total=num_batches, desc=\"Training Progress\")\n",
    "\n",
    "# Iterate over batches\n",
    "for i in range(num_batches):\n",
    "    start_idx = i * batch_size\n",
    "    end_idx = min(start_idx + batch_size, len(df_train))\n",
    "    \n",
    "    # Extract features and target for this batch\n",
    "    X_text = df_train['combine'][start_idx:end_idx]\n",
    "    y = df_train['primary_color_id'][start_idx:end_idx]\n",
    "\n",
    "    # Vectorize text data\n",
    "    X = vectorizer.fit_transform(X_text)\n",
    "    \n",
    "    # Split data into train and test sets\n",
    "    X_train, X_test, y_train, y_test = train_test_split(X, y, test_size=0.2, random_state=42)\n",
    "\n",
    "    # Fit the model\n",
    "    model_top.fit(X_train, y_train)\n",
    "\n",
    "    # Predict on train and validation sets\n",
    "    y_pred_train_batch = model_top.predict(X_train)\n",
    "    y_true_train.extend(y_train)\n",
    "    y_pred_train.extend(y_pred_train_batch)\n",
    "\n",
    "    y_pred_val_batch = model_top.predict(X_test)\n",
    "    y_true_val.extend(y_test)\n",
    "    y_pred_val.extend(y_pred_val_batch)\n",
    "\n",
    "    # Calculate evaluation metrics\n",
    "    train_recall = recall_score(y_true_train, y_pred_train, average='weighted')\n",
    "    train_f1_score = f1_score(y_true_train, y_pred_train, average='weighted')\n",
    "    train_accuracy = accuracy_score(y_true_train, y_pred_train)\n",
    "\n",
    "    val_recall = recall_score(y_true_val, y_pred_val, average='weighted')\n",
    "    val_f1_score = f1_score(y_true_val, y_pred_val, average='weighted')\n",
    "    val_accuracy = accuracy_score(y_true_val, y_pred_val)\n",
    "    \n",
    "    # Update progress bar\n",
    "    pbar.update(1)\n",
    "    pbar.set_postfix({\"Train F1 Score\": train_f1_score, \"Val F1 Score\": val_f1_score})\n",
    "\n",
    "# Close the progress bar\n",
    "pbar.close()\n",
    "\n",
    "# Print final evaluation metrics\n",
    "print(\"Final Metrics:\")\n",
    "print(\"Train - Recall: {:.4f}, F1 Score: {:.4f}, Accuracy: {:.4f}\".format(train_recall, train_f1_score, train_accuracy))\n",
    "print(\"Val - Recall: {:.4f}, F1 Score: {:.4f}, Accuracy: {:.4f}\".format(val_recall, val_f1_score, val_accuracy))"
   ]
  },
  {
   "cell_type": "markdown",
   "id": "bf4fdcb4-82ab-43e9-9fad-f0939b7768db",
   "metadata": {},
   "source": [
    "### secondary_color_id"
   ]
  },
  {
   "cell_type": "code",
   "execution_count": 81,
   "id": "868afdf2-ca50-4f36-8ba9-7069a3f74784",
   "metadata": {},
   "outputs": [
    {
     "name": "stderr",
     "output_type": "stream",
     "text": [
      "Training Progress: 100%|██████████████████████| 12/12 [00:54<00:00,  4.54s/it, Train F1 Score=0.922, Val F1 Score=0.28]"
     ]
    },
    {
     "name": "stdout",
     "output_type": "stream",
     "text": [
      "Final Metrics:\n",
      "Train - Recall: 0.9220, F1 Score: 0.9222, Accuracy: 0.9220\n",
      "Val - Recall: 0.2821, F1 Score: 0.2796, Accuracy: 0.2821\n"
     ]
    },
    {
     "name": "stderr",
     "output_type": "stream",
     "text": [
      "\n"
     ]
    }
   ],
   "source": [
    "from sklearn.feature_extraction.text import CountVectorizer\n",
    "from sklearn.model_selection import train_test_split\n",
    "from sklearn.linear_model import SGDClassifier\n",
    "from sklearn.metrics import f1_score, recall_score, accuracy_score\n",
    "from tqdm import tqdm\n",
    "\n",
    "# Define batch size and calculate the number of batches\n",
    "batch_size = 20000\n",
    "num_batches = len(df_train) // batch_size + int(len(df_train) % batch_size > 0)\n",
    "\n",
    "# Initialize logistic regression model\n",
    "model_top = SGDClassifier(max_iter=1000)\n",
    "\n",
    "# Initialize CountVectorizer\n",
    "vectorizer = CountVectorizer(max_features=10000)\n",
    "\n",
    "# Initialize lists to store true and predicted values\n",
    "y_true_train = []\n",
    "y_pred_train = []\n",
    "y_true_val = []\n",
    "y_pred_val = []\n",
    "\n",
    "# Initialize progress bar\n",
    "pbar = tqdm(total=num_batches, desc=\"Training Progress\")\n",
    "\n",
    "# Iterate over batches\n",
    "for i in range(num_batches):\n",
    "    start_idx = i * batch_size\n",
    "    end_idx = min(start_idx + batch_size, len(df_train))\n",
    "    \n",
    "    # Extract features and target for this batch\n",
    "    X_text = df_train['combine'][start_idx:end_idx]\n",
    "    y = df_train['secondary_color_id'][start_idx:end_idx]\n",
    "\n",
    "    # Vectorize text data\n",
    "    X = vectorizer.fit_transform(X_text)\n",
    "    \n",
    "    # Split data into train and test sets\n",
    "    X_train, X_test, y_train, y_test = train_test_split(X, y, test_size=0.2, random_state=42)\n",
    "\n",
    "    # Fit the model\n",
    "    model_top.fit(X_train, y_train)\n",
    "\n",
    "    # Predict on train and validation sets\n",
    "    y_pred_train_batch = model_top.predict(X_train)\n",
    "    y_true_train.extend(y_train)\n",
    "    y_pred_train.extend(y_pred_train_batch)\n",
    "\n",
    "    y_pred_val_batch = model_top.predict(X_test)\n",
    "    y_true_val.extend(y_test)\n",
    "    y_pred_val.extend(y_pred_val_batch)\n",
    "\n",
    "    # Calculate evaluation metrics\n",
    "    train_recall = recall_score(y_true_train, y_pred_train, average='weighted')\n",
    "    train_f1_score = f1_score(y_true_train, y_pred_train, average='weighted')\n",
    "    train_accuracy = accuracy_score(y_true_train, y_pred_train)\n",
    "\n",
    "    val_recall = recall_score(y_true_val, y_pred_val, average='weighted')\n",
    "    val_f1_score = f1_score(y_true_val, y_pred_val, average='weighted')\n",
    "    val_accuracy = accuracy_score(y_true_val, y_pred_val)\n",
    "    \n",
    "    # Update progress bar\n",
    "    pbar.update(1)\n",
    "    pbar.set_postfix({\"Train F1 Score\": train_f1_score, \"Val F1 Score\": val_f1_score})\n",
    "\n",
    "# Close the progress bar\n",
    "pbar.close()\n",
    "\n",
    "# Print final evaluation metrics\n",
    "print(\"Final Metrics:\")\n",
    "print(\"Train - Recall: {:.4f}, F1 Score: {:.4f}, Accuracy: {:.4f}\".format(train_recall, train_f1_score, train_accuracy))\n",
    "print(\"Val - Recall: {:.4f}, F1 Score: {:.4f}, Accuracy: {:.4f}\".format(val_recall, val_f1_score, val_accuracy))"
   ]
  },
  {
   "cell_type": "markdown",
   "id": "787a8ebf-2bff-482c-8d3d-632fd1798a5a",
   "metadata": {},
   "source": [
    "# KNN Classifier"
   ]
  },
  {
   "cell_type": "markdown",
   "id": "4c8b3399-20a9-42ed-99b1-23963fb6c228",
   "metadata": {},
   "source": [
    "### top_category_id"
   ]
  },
  {
   "cell_type": "code",
   "execution_count": 82,
   "id": "b96400b7-f03a-4319-b706-859047222a12",
   "metadata": {},
   "outputs": [
    {
     "name": "stderr",
     "output_type": "stream",
     "text": [
      "Training and Prediction Progress:  25%|███████▌                      | 3/12 [04:56<14:48, 98.68s/it, Val F1 Score=0.71]"
     ]
    },
    {
     "name": "stdout",
     "output_type": "stream",
     "text": [
      "Validation Metrics:\n",
      "Recall: 0.7079, F1 Score: 0.7099, Accuracy: 0.7079\n"
     ]
    },
    {
     "name": "stderr",
     "output_type": "stream",
     "text": [
      "\n"
     ]
    }
   ],
   "source": [
    "from sklearn.feature_extraction.text import CountVectorizer\n",
    "from sklearn.model_selection import train_test_split\n",
    "from sklearn.neighbors import KNeighborsClassifier\n",
    "from sklearn.metrics import f1_score, recall_score, accuracy_score\n",
    "from tqdm import tqdm\n",
    "\n",
    "# Define batch size and calculate the number of batches\n",
    "batch_size = 20000\n",
    "num_batches = len(df_train) // batch_size + int(len(df_train) % batch_size > 0)\n",
    "\n",
    "# Initialize KNN classifier\n",
    "model_top = KNeighborsClassifier(\n",
    "    n_neighbors=5,\n",
    "    n_jobs=-1  # Use all available CPU cores\n",
    ")\n",
    "\n",
    "# Initialize CountVectorizer\n",
    "vectorizer = CountVectorizer(max_features=10000)\n",
    "vectorizer.fit(df_train['combine'])  # Fit vectorizer on the entire dataset at once if possible\n",
    "\n",
    "# Initialize lists to store true and predicted values\n",
    "y_true_train = []\n",
    "y_pred_train = []\n",
    "y_true_val = []\n",
    "y_pred_val = []\n",
    "\n",
    "# Initialize progress bar\n",
    "pbar = tqdm(total=num_batches, desc=\"Training and Prediction Progress\")\n",
    "\n",
    "# Since KNN uses all the data for training, we will split the data first and then use batches for prediction\n",
    "X = vectorizer.transform(df_train['combine'])\n",
    "y = df_train['top_category_id']\n",
    "X_train, X_val, y_train, y_val = train_test_split(X, y, test_size=0.2, random_state=42)\n",
    "\n",
    "# Fit the model on the whole training set\n",
    "model_top.fit(X_train, y_train)\n",
    "\n",
    "# Predict in batches to manage memory usage\n",
    "for i in range(0, X_val.shape[0], batch_size):\n",
    "    end_idx = min(i + batch_size, X_val.shape[0])\n",
    "    \n",
    "    # Predict on validation set\n",
    "    y_pred_val_batch = model_top.predict(X_val[i:end_idx])\n",
    "    y_true_val.extend(y_val[i:end_idx].tolist())\n",
    "    y_pred_val.extend(y_pred_val_batch)\n",
    "\n",
    "    # Calculate evaluation metrics for the batch\n",
    "    val_recall = recall_score(y_true_val, y_pred_val, average='weighted')\n",
    "    val_f1_score = f1_score(y_true_val, y_pred_val, average='weighted')\n",
    "    val_accuracy = accuracy_score(y_true_val, y_pred_val)\n",
    "    \n",
    "    # Update progress bar\n",
    "    pbar.update(1)\n",
    "    pbar.set_postfix({\"Val F1 Score\": val_f1_score})\n",
    "\n",
    "# Close the progress bar\n",
    "pbar.close()\n",
    "\n",
    "# Print final evaluation metrics for the validation set\n",
    "print(\"Validation Metrics:\")\n",
    "print(\"Recall: {:.4f}, F1 Score: {:.4f}, Accuracy: {:.4f}\".format(val_recall, val_f1_score, val_accuracy))\n"
   ]
  },
  {
   "cell_type": "markdown",
   "id": "2137da3a-6340-4671-98e6-ad765a2d34a5",
   "metadata": {},
   "source": [
    "# bottom_category_id"
   ]
  },
  {
   "cell_type": "code",
   "execution_count": 84,
   "id": "c1a1af03-8d6f-459f-95ef-0f0d97f53906",
   "metadata": {},
   "outputs": [
    {
     "name": "stderr",
     "output_type": "stream",
     "text": [
      "Validation Batch: 100%|██████████████████████████████████████████████████████████████████| 3/3 [04:38<00:00, 92.90s/it]"
     ]
    },
    {
     "name": "stdout",
     "output_type": "stream",
     "text": [
      "Validation Metrics:\n",
      "Recall: 0.4076, F1 Score: 0.4278, Accuracy: 0.4076\n"
     ]
    },
    {
     "name": "stderr",
     "output_type": "stream",
     "text": [
      "\n"
     ]
    }
   ],
   "source": [
    "from sklearn.feature_extraction.text import CountVectorizer\n",
    "from sklearn.model_selection import train_test_split\n",
    "from sklearn.neighbors import KNeighborsClassifier\n",
    "from sklearn.metrics import f1_score, recall_score, accuracy_score\n",
    "from tqdm import tqdm\n",
    "\n",
    "# Define batch size\n",
    "batch_size = 20000\n",
    "\n",
    "# Load and prepare your dataset\n",
    "# df_train should be pre-loaded with appropriate text and labels\n",
    "\n",
    "# Initialize CountVectorizer\n",
    "vectorizer = CountVectorizer(max_features=10000)\n",
    "X = vectorizer.fit_transform(df_train['combine'])  # Vectorize text data\n",
    "y = df_train['bottom_category_id']\n",
    "\n",
    "# Split the dataset into training and validation sets\n",
    "X_train, X_val, y_train, y_val = train_test_split(X, y, test_size=0.2, random_state=42)\n",
    "\n",
    "# Initialize KNN classifier\n",
    "model = KNeighborsClassifier(n_neighbors=5, n_jobs=-1)\n",
    "\n",
    "# Fit the model on the training data\n",
    "model.fit(X_train, y_train)\n",
    "\n",
    "# Initialize lists to store predicted and true labels\n",
    "y_pred_val = []\n",
    "y_true_val = []\n",
    "\n",
    "# Initialize progress bar\n",
    "num_batches = (X_val.shape[0] + batch_size - 1) // batch_size  # Calculate the number of batches required\n",
    "pbar = tqdm(total=num_batches, desc=\"Validation Batch\")\n",
    "\n",
    "# Predict in batches to manage memory usage\n",
    "for i in range(0, X_val.shape[0], batch_size):\n",
    "    end_idx = min(i + batch_size, X_val.shape[0])\n",
    "    y_pred_val_batch = model.predict(X_val[i:end_idx])\n",
    "    y_true_val.extend(y_val[i:end_idx].tolist())\n",
    "    y_pred_val.extend(y_pred_val_batch)\n",
    "    pbar.update(1)  # Update progress bar after each batch\n",
    "\n",
    "pbar.close()  # Close the progress bar after all batches are processed\n",
    "\n",
    "# Calculate and print final evaluation metrics for the validation set\n",
    "val_recall = recall_score(y_true_val, y_pred_val, average='weighted', zero_division=1)\n",
    "val_f1_score = f1_score(y_true_val, y_pred_val, average='weighted', zero_division=1)\n",
    "val_accuracy = accuracy_score(y_true_val, y_pred_val)\n",
    "print(\"Validation Metrics:\")\n",
    "print(f\"Recall: {val_recall:.4f}, F1 Score: {val_f1_score:.4f}, Accuracy: {val_accuracy:.4f}\")\n"
   ]
  },
  {
   "cell_type": "markdown",
   "id": "f01ac683-adc9-4453-a46c-e8f692491d6f",
   "metadata": {},
   "source": [
    "### primary_color_id"
   ]
  },
  {
   "cell_type": "code",
   "execution_count": 85,
   "id": "8f37833c-2028-4de3-a3e7-195a7f2e1b53",
   "metadata": {},
   "outputs": [
    {
     "name": "stderr",
     "output_type": "stream",
     "text": [
      "Validation Batch: 100%|██████████████████████████████████████████████████████████████████| 3/3 [04:38<00:00, 92.94s/it]"
     ]
    },
    {
     "name": "stdout",
     "output_type": "stream",
     "text": [
      "Validation Metrics:\n",
      "Recall: 0.2761, F1 Score: 0.2672, Accuracy: 0.2761\n"
     ]
    },
    {
     "name": "stderr",
     "output_type": "stream",
     "text": [
      "\n"
     ]
    }
   ],
   "source": [
    "from sklearn.feature_extraction.text import CountVectorizer\n",
    "from sklearn.model_selection import train_test_split\n",
    "from sklearn.neighbors import KNeighborsClassifier\n",
    "from sklearn.metrics import f1_score, recall_score, accuracy_score\n",
    "from tqdm import tqdm\n",
    "\n",
    "# Define batch size\n",
    "batch_size = 20000\n",
    "\n",
    "# Load and prepare your dataset\n",
    "# df_train should be pre-loaded with appropriate text and labels\n",
    "\n",
    "# Initialize CountVectorizer\n",
    "vectorizer = CountVectorizer(max_features=10000)\n",
    "X = vectorizer.fit_transform(df_train['combine'])  # Vectorize text data\n",
    "y = df_train['primary_color_id']\n",
    "\n",
    "# Split the dataset into training and validation sets\n",
    "X_train, X_val, y_train, y_val = train_test_split(X, y, test_size=0.2, random_state=42)\n",
    "\n",
    "# Initialize KNN classifier\n",
    "model = KNeighborsClassifier(n_neighbors=5, n_jobs=-1)\n",
    "\n",
    "# Fit the model on the training data\n",
    "model.fit(X_train, y_train)\n",
    "\n",
    "# Initialize lists to store predicted and true labels\n",
    "y_pred_val = []\n",
    "y_true_val = []\n",
    "\n",
    "# Initialize progress bar\n",
    "num_batches = (X_val.shape[0] + batch_size - 1) // batch_size  # Calculate the number of batches required\n",
    "pbar = tqdm(total=num_batches, desc=\"Validation Batch\")\n",
    "\n",
    "# Predict in batches to manage memory usage\n",
    "for i in range(0, X_val.shape[0], batch_size):\n",
    "    end_idx = min(i + batch_size, X_val.shape[0])\n",
    "    y_pred_val_batch = model.predict(X_val[i:end_idx])\n",
    "    y_true_val.extend(y_val[i:end_idx].tolist())\n",
    "    y_pred_val.extend(y_pred_val_batch)\n",
    "    pbar.update(1)  # Update progress bar after each batch\n",
    "\n",
    "pbar.close()  # Close the progress bar after all batches are processed\n",
    "\n",
    "# Calculate and print final evaluation metrics for the validation set\n",
    "val_recall = recall_score(y_true_val, y_pred_val, average='weighted', zero_division=1)\n",
    "val_f1_score = f1_score(y_true_val, y_pred_val, average='weighted', zero_division=1)\n",
    "val_accuracy = accuracy_score(y_true_val, y_pred_val)\n",
    "print(\"Validation Metrics:\")\n",
    "print(f\"Recall: {val_recall:.4f}, F1 Score: {val_f1_score:.4f}, Accuracy: {val_accuracy:.4f}\")\n"
   ]
  },
  {
   "cell_type": "markdown",
   "id": "161004df-a9a9-4f98-a857-ea4a7fd7e140",
   "metadata": {},
   "source": [
    "### secondary_color_id"
   ]
  },
  {
   "cell_type": "code",
   "execution_count": 86,
   "id": "ac98cfd3-785f-40da-b467-08eb82f775c3",
   "metadata": {},
   "outputs": [
    {
     "name": "stderr",
     "output_type": "stream",
     "text": [
      "Validation Batch: 100%|██████████████████████████████████████████████████████████████████| 3/3 [04:38<00:00, 93.00s/it]"
     ]
    },
    {
     "name": "stdout",
     "output_type": "stream",
     "text": [
      "Validation Metrics:\n",
      "Recall: 0.2354, F1 Score: 0.2289, Accuracy: 0.2354\n"
     ]
    },
    {
     "name": "stderr",
     "output_type": "stream",
     "text": [
      "\n"
     ]
    }
   ],
   "source": [
    "from sklearn.feature_extraction.text import CountVectorizer\n",
    "from sklearn.model_selection import train_test_split\n",
    "from sklearn.neighbors import KNeighborsClassifier\n",
    "from sklearn.metrics import f1_score, recall_score, accuracy_score\n",
    "from tqdm import tqdm\n",
    "\n",
    "# Define batch size\n",
    "batch_size = 20000\n",
    "\n",
    "# Load and prepare your dataset\n",
    "# df_train should be pre-loaded with appropriate text and labels\n",
    "\n",
    "# Initialize CountVectorizer\n",
    "vectorizer = CountVectorizer(max_features=10000)\n",
    "X = vectorizer.fit_transform(df_train['combine'])  # Vectorize text data\n",
    "y = df_train['secondary_color_id']\n",
    "\n",
    "# Split the dataset into training and validation sets\n",
    "X_train, X_val, y_train, y_val = train_test_split(X, y, test_size=0.2, random_state=42)\n",
    "\n",
    "# Initialize KNN classifier\n",
    "model = KNeighborsClassifier(n_neighbors=5, n_jobs=-1)\n",
    "\n",
    "# Fit the model on the training data\n",
    "model.fit(X_train, y_train)\n",
    "\n",
    "# Initialize lists to store predicted and true labels\n",
    "y_pred_val = []\n",
    "y_true_val = []\n",
    "\n",
    "# Initialize progress bar\n",
    "num_batches = (X_val.shape[0] + batch_size - 1) // batch_size  # Calculate the number of batches required\n",
    "pbar = tqdm(total=num_batches, desc=\"Validation Batch\")\n",
    "\n",
    "# Predict in batches to manage memory usage\n",
    "for i in range(0, X_val.shape[0], batch_size):\n",
    "    end_idx = min(i + batch_size, X_val.shape[0])\n",
    "    y_pred_val_batch = model.predict(X_val[i:end_idx])\n",
    "    y_true_val.extend(y_val[i:end_idx].tolist())\n",
    "    y_pred_val.extend(y_pred_val_batch)\n",
    "    pbar.update(1)  # Update progress bar after each batch\n",
    "\n",
    "pbar.close()  # Close the progress bar after all batches are processed\n",
    "\n",
    "# Calculate and print final evaluation metrics for the validation set\n",
    "val_recall = recall_score(y_true_val, y_pred_val, average='weighted', zero_division=1)\n",
    "val_f1_score = f1_score(y_true_val, y_pred_val, average='weighted', zero_division=1)\n",
    "val_accuracy = accuracy_score(y_true_val, y_pred_val)\n",
    "print(\"Validation Metrics:\")\n",
    "print(f\"Recall: {val_recall:.4f}, F1 Score: {val_f1_score:.4f}, Accuracy: {val_accuracy:.4f}\")\n"
   ]
  },
  {
   "cell_type": "markdown",
   "id": "7a86c2c6-c231-4769-9096-8e5f418a64a3",
   "metadata": {},
   "source": [
    "# RandomForest Classifier"
   ]
  },
  {
   "cell_type": "markdown",
   "id": "08951297-e063-44cf-b7d8-4cbb8a365013",
   "metadata": {},
   "source": [
    "### top_category_id"
   ]
  },
  {
   "cell_type": "code",
   "execution_count": 87,
   "id": "c93327eb-84ad-4e4a-872a-16266cc05cdb",
   "metadata": {},
   "outputs": [
    {
     "name": "stderr",
     "output_type": "stream",
     "text": [
      "Training Progress: 100%|█████████████████████| 12/12 [01:38<00:00,  8.17s/it, Train F1 Score=0.998, Val F1 Score=0.859]"
     ]
    },
    {
     "name": "stdout",
     "output_type": "stream",
     "text": [
      "Final Metrics:\n",
      "Train - Recall: 0.9977, F1 Score: 0.9977, Accuracy: 0.9977\n",
      "Val - Recall: 0.8615, F1 Score: 0.8594, Accuracy: 0.8615\n"
     ]
    },
    {
     "name": "stderr",
     "output_type": "stream",
     "text": [
      "\n"
     ]
    }
   ],
   "source": [
    "from sklearn.feature_extraction.text import CountVectorizer\n",
    "from sklearn.model_selection import train_test_split\n",
    "from sklearn.ensemble import RandomForestClassifier\n",
    "from sklearn.metrics import f1_score, recall_score, accuracy_score\n",
    "from tqdm import tqdm\n",
    "\n",
    "# Define batch size and calculate the number of batches\n",
    "batch_size = 20000\n",
    "num_batches = len(df_train) // batch_size + int(len(df_train) % batch_size > 0)\n",
    "\n",
    "# Initialize Random Forest classifier\n",
    "model_top = RandomForestClassifier(\n",
    "    n_estimators=100,\n",
    "    max_depth=None,  # You can adjust this based on the complexity of the data\n",
    "    random_state=42,\n",
    "    n_jobs=-1  # Utilize all cores for faster training\n",
    ")\n",
    "\n",
    "# Initialize CountVectorizer\n",
    "vectorizer = CountVectorizer(max_features=10000)\n",
    "\n",
    "# Initialize lists to store true and predicted values\n",
    "y_true_train = []\n",
    "y_pred_train = []\n",
    "y_true_val = []\n",
    "y_pred_val = []\n",
    "\n",
    "# Initialize progress bar\n",
    "pbar = tqdm(total=num_batches, desc=\"Training Progress\")\n",
    "\n",
    "# Iterate over batches\n",
    "for i in range(num_batches):\n",
    "    start_idx = i * batch_size\n",
    "    end_idx = min(start_idx + batch_size, len(df_train))\n",
    "    \n",
    "    # Extract features and target for this batch\n",
    "    X_text = df_train['combine'][start_idx:end_idx]\n",
    "    y = df_train['top_category_id'][start_idx:end_idx]\n",
    "\n",
    "    # Vectorize text data\n",
    "    X = vectorizer.fit_transform(X_text)\n",
    "    \n",
    "    # Split data into train and validation sets\n",
    "    X_train, X_test, y_train, y_test = train_test_split(X, y, test_size=0.2, random_state=42)\n",
    "\n",
    "    # Fit the model\n",
    "    model_top.fit(X_train, y_train)\n",
    "\n",
    "    # Predict on train and validation sets\n",
    "    y_pred_train_batch = model_top.predict(X_train)\n",
    "    y_true_train.extend(y_train)\n",
    "    y_pred_train.extend(y_pred_train_batch)\n",
    "\n",
    "    y_pred_val_batch = model_top.predict(X_test)\n",
    "    y_true_val.extend(y_test)\n",
    "    y_pred_val.extend(y_pred_val_batch)\n",
    "\n",
    "    # Calculate evaluation metrics\n",
    "    train_recall = recall_score(y_true_train, y_pred_train, average='weighted')\n",
    "    train_f1_score = f1_score(y_true_train, y_pred_train, average='weighted')\n",
    "    train_accuracy = accuracy_score(y_true_train, y_pred_train)\n",
    "\n",
    "    val_recall = recall_score(y_true_val, y_pred_val, average='weighted')\n",
    "    val_f1_score = f1_score(y_true_val, y_pred_val, average='weighted')\n",
    "    val_accuracy = accuracy_score(y_true_val, y_pred_val)\n",
    "    \n",
    "    # Update progress bar\n",
    "    pbar.update(1)\n",
    "    pbar.set_postfix({\"Train F1 Score\": train_f1_score, \"Val F1 Score\": val_f1_score})\n",
    "\n",
    "# Close the progress bar\n",
    "pbar.close()\n",
    "\n",
    "# Print final evaluation metrics\n",
    "print(\"Final Metrics:\")\n",
    "print(\"Train - Recall: {:.4f}, F1 Score: {:.4f}, Accuracy: {:.4f}\".format(train_recall, train_f1_score, train_accuracy))\n",
    "print(\"Val - Recall: {:.4f}, F1 Score: {:.4f}, Accuracy: {:.4f}\".format(val_recall, val_f1_score, val_accuracy))\n"
   ]
  },
  {
   "cell_type": "code",
   "execution_count": 80,
   "id": "b4235d3a-f225-4c9d-b18b-fe4015dcdffc",
   "metadata": {},
   "outputs": [
    {
     "name": "stdout",
     "output_type": "stream",
     "text": [
      "Validation Metrics:\n",
      "Recall: 0.7456, F1 Score: 0.7459, Accuracy: 0.7456\n"
     ]
    }
   ],
   "source": [
    "from sklearn.feature_extraction.text import CountVectorizer\n",
    "from sklearn.model_selection import train_test_split\n",
    "from sklearn.naive_bayes import MultinomialNB\n",
    "from sklearn.metrics import f1_score, recall_score, accuracy_score\n",
    "from tqdm import tqdm\n",
    "\n",
    "# Initialize CountVectorizer\n",
    "vectorizer = CountVectorizer(max_features=10000)\n",
    "vectorizer.fit(df_train['combine'])  # Assuming 'combine' is your text data\n",
    "\n",
    "X = vectorizer.transform(df_train['combine'])\n",
    "y = df_train['top_category_id']\n",
    "\n",
    "# Split data\n",
    "X_train, X_val, y_train, y_val = train_test_split(X, y, test_size=0.2, random_state=42)\n",
    "\n",
    "# Initialize Naive Bayes classifier\n",
    "model_top = MultinomialNB()\n",
    "\n",
    "# Train model\n",
    "model_top.fit(X_train, y_train)\n",
    "\n",
    "# Evaluate model\n",
    "y_pred_val = model_top.predict(X_val)\n",
    "val_recall = recall_score(y_val, y_pred_val, average='weighted')\n",
    "val_f1_score = f1_score(y_val, y_pred_val, average='weighted')\n",
    "val_accuracy = accuracy_score(y_val, y_pred_val)\n",
    "\n",
    "# Output metrics\n",
    "print(\"Validation Metrics:\")\n",
    "print(f\"Recall: {val_recall:.4f}, F1 Score: {val_f1_score:.4f}, Accuracy: {val_accuracy:.4f}\")\n"
   ]
  },
  {
   "cell_type": "code",
   "execution_count": 83,
   "id": "c6c0f4ed-ad6b-4a1c-a3ac-035072ce4acd",
   "metadata": {},
   "outputs": [
    {
     "name": "stdout",
     "output_type": "stream",
     "text": [
      "Validation Metrics:\n",
      "Recall: 0.6971, F1 Score: 0.6957, Accuracy: 0.6971\n"
     ]
    }
   ],
   "source": [
    "from sklearn.feature_extraction.text import CountVectorizer\n",
    "from sklearn.model_selection import train_test_split\n",
    "from sklearn.tree import DecisionTreeClassifier\n",
    "from sklearn.metrics import f1_score, recall_score, accuracy_score\n",
    "from tqdm import tqdm\n",
    "\n",
    "# Load or define your dataset\n",
    "# df_train should be a DataFrame containing at least two columns: one with the text data and one with the target labels\n",
    "# Example: df_train = pd.DataFrame({'text': [\"your text data here\"], 'label': [0, 1, etc]})\n",
    "\n",
    "# Initialize CountVectorizer\n",
    "vectorizer = CountVectorizer(max_features=10000)\n",
    "\n",
    "# Vectorize the text data\n",
    "X = vectorizer.fit_transform(df_train['combine'])  # Replace 'text' with the name of your text column\n",
    "y = df_train['top_category_id']  # Replace 'label' with the name of your target column\n",
    "\n",
    "# Split data into training and validation sets\n",
    "X_train, X_val, y_train, y_val = train_test_split(X, y, test_size=0.2, random_state=42)\n",
    "\n",
    "# Initialize the Decision Tree Classifier\n",
    "model = DecisionTreeClassifier(random_state=42)\n",
    "\n",
    "# Fit the model on the training data\n",
    "model.fit(X_train, y_train)\n",
    "\n",
    "# Predict on the validation set\n",
    "y_pred_val = model.predict(X_val)\n",
    "\n",
    "# Evaluate the model\n",
    "val_recall = recall_score(y_val, y_pred_val, average='weighted')\n",
    "val_f1_score = f1_score(y_val, y_pred_val, average='weighted')\n",
    "val_accuracy = accuracy_score(y_val, y_pred_val)\n",
    "\n",
    "# Output the evaluation metrics\n",
    "print(\"Validation Metrics:\")\n",
    "print(f\"Recall: {val_recall:.4f}, F1 Score: {val_f1_score:.4f}, Accuracy: {val_accuracy:.4f}\")\n"
   ]
  },
  {
   "cell_type": "code",
   "execution_count": 131,
   "id": "5096ff71-bdc2-49d0-99ef-a95a0f0fc5bb",
   "metadata": {},
   "outputs": [
    {
     "name": "stderr",
     "output_type": "stream",
     "text": [
      "Training Progress: 100%|███████████████████████████████████████████████████████████████| 12/12 [15:03<00:00, 75.33s/it]\n"
     ]
    },
    {
     "name": "stdout",
     "output_type": "stream",
     "text": [
      "Top Category - Train Recall: 0.9972, F1 Score: 0.9972, Accuracy: 0.9972\n",
      "Top Category - Val Recall: 0.9030, F1 Score: 0.9026, Accuracy: 0.9030\n",
      "Bottom Category - Train Recall: 0.9968, F1 Score: 0.9972, Accuracy: 0.9968\n",
      "Bottom Category - Val Recall: 0.8250, F1 Score: 0.8280, Accuracy: 0.8250\n",
      "Primary Category - Train Recall: 0.9831, F1 Score: 0.9832, Accuracy: 0.9831\n",
      "Primary Category - Val Recall: 0.4174, F1 Score: 0.4152, Accuracy: 0.4174\n",
      "Secondary Category - Train Recall: 0.9777, F1 Score: 0.9777, Accuracy: 0.9777\n",
      "Secondary Category - Val Recall: 0.2997, F1 Score: 0.2970, Accuracy: 0.2997\n"
     ]
    }
   ],
   "source": [
    "from sklearn.feature_extraction.text import CountVectorizer\n",
    "from sklearn.model_selection import train_test_split\n",
    "from sklearn.linear_model import LogisticRegression\n",
    "from sklearn.metrics import f1_score, recall_score, accuracy_score\n",
    "from tqdm import tqdm\n",
    "\n",
    "# Define batch size and calculate the number of batches\n",
    "batch_size = 20000\n",
    "num_batches = len(df_train) // batch_size + (len(df_train) % batch_size > 0)\n",
    "\n",
    "# Initialize CountVectorizer\n",
    "vectorizer = CountVectorizer(max_features=10000)\n",
    "\n",
    "# Initialize progress bar\n",
    "pbar = tqdm(total=num_batches, desc=\"Training Progress\")\n",
    "\n",
    "# Initialize lists to store true and predicted values for all categories\n",
    "y_true_train_top, y_pred_train_top = [], []\n",
    "y_true_val_top, y_pred_val_top = [], []\n",
    "y_true_train_bottom, y_pred_train_bottom = [], []\n",
    "y_true_val_bottom, y_pred_val_bottom = [], []\n",
    "y_true_train_primary, y_pred_train_primary = [], []\n",
    "y_true_val_primary, y_pred_val_primary = [], []\n",
    "y_true_train_secondary, y_pred_train_secondary = [], []\n",
    "y_true_val_secondary, y_pred_val_secondary = [], []\n",
    "\n",
    "# Loop over batches\n",
    "for i in range(num_batches):\n",
    "    start_idx = i * batch_size\n",
    "    end_idx = min(start_idx + batch_size, len(df_train))\n",
    "    \n",
    "    X_text = df_train['combine'][start_idx:end_idx]\n",
    "    y_top = df_train['top_category_id'][start_idx:end_idx]\n",
    "    y_bottom = df_train['bottom_category_id'][start_idx:end_idx]\n",
    "    y_primary = df_train['primary_color_id'][start_idx:end_idx]\n",
    "    y_secondary = df_train['secondary_color_id'][start_idx:end_idx]\n",
    "\n",
    "    X = vectorizer.fit_transform(X_text)\n",
    "    X_train, X_test, y_train_top, y_test_top = train_test_split(X, y_top, test_size=0.2, random_state=42)\n",
    "    _, _, y_train_bottom, y_test_bottom = train_test_split(X, y_bottom, test_size=0.2, random_state=42)\n",
    "    _, _, y_train_primary, y_test_primary = train_test_split(X, y_primary, test_size=0.2, random_state=42)\n",
    "    _, _, y_train_secondary, y_test_secondary = train_test_split(X, y_secondary, test_size=0.2, random_state=42)\n",
    "\n",
    "    # Initialize logistic regression models\n",
    "    model_top = LogisticRegression(max_iter=1000)\n",
    "    model_bottom = LogisticRegression(max_iter=1000)\n",
    "    model_primary = LogisticRegression(max_iter=1000)\n",
    "    model_secondary = LogisticRegression(max_iter=1000)\n",
    "\n",
    "    # Fit models\n",
    "    model_top.fit(X_train, y_train_top)\n",
    "    model_bottom.fit(X_train, y_train_bottom)\n",
    "    model_primary.fit(X_train, y_train_primary)\n",
    "    model_secondary.fit(X_train, y_train_secondary)\n",
    "\n",
    "    # Predictions for each category\n",
    "    y_pred_train_top_batch = model_top.predict(X_train)\n",
    "    y_true_train_top.extend(y_train_top)\n",
    "    y_pred_train_top.extend(y_pred_train_top_batch)\n",
    "\n",
    "    y_pred_val_top_batch = model_top.predict(X_test)\n",
    "    y_true_val_top.extend(y_test_top)\n",
    "    y_pred_val_top.extend(y_pred_val_top_batch)\n",
    "\n",
    "    y_pred_train_bottom_batch = model_bottom.predict(X_train)\n",
    "    y_true_train_bottom.extend(y_train_bottom)\n",
    "    y_pred_train_bottom.extend(y_pred_train_bottom_batch)\n",
    "\n",
    "    y_pred_val_bottom_batch = model_bottom.predict(X_test)\n",
    "    y_true_val_bottom.extend(y_test_bottom)\n",
    "    y_pred_val_bottom.extend(y_pred_val_bottom_batch)\n",
    "\n",
    "    y_pred_train_primary_batch = model_primary.predict(X_train)\n",
    "    y_true_train_primary.extend(y_train_primary)\n",
    "    y_pred_train_primary.extend(y_pred_train_primary_batch)\n",
    "\n",
    "    y_pred_val_primary_batch = model_primary.predict(X_test)\n",
    "    y_true_val_primary.extend(y_test_primary)\n",
    "    y_pred_val_primary.extend(y_pred_val_primary_batch)\n",
    "\n",
    "    y_pred_train_secondary_batch = model_secondary.predict(X_train)\n",
    "    y_true_train_secondary.extend(y_train_secondary)\n",
    "    y_pred_train_secondary.extend(y_pred_train_secondary_batch)\n",
    "\n",
    "    y_pred_val_secondary_batch = model_secondary.predict(X_test)\n",
    "    y_true_val_secondary.extend(y_test_secondary)\n",
    "    y_pred_val_secondary.extend(y_pred_val_secondary_batch)\n",
    "\n",
    "    # Update progress bar\n",
    "    pbar.update(1)\n",
    "\n",
    "# Close the progress bar\n",
    "pbar.close()\n",
    "\n",
    "# Calculate and print evaluation metrics for each category\n",
    "categories = ['Top', 'Bottom', 'Primary', 'Secondary']\n",
    "true_train_lists = [y_true_train_top, y_true_train_bottom, y_true_train_primary, y_true_train_secondary]\n",
    "pred_train_lists = [y_pred_train_top, y_pred_train_bottom, y_pred_train_primary, y_pred_train_secondary]\n",
    "true_val_lists = [y_true_val_top, y_true_val_bottom, y_true_val_primary, y_true_val_secondary]\n",
    "pred_val_lists = [y_pred_val_top, y_pred_val_bottom, y_pred_val_primary, y_pred_val_secondary]\n",
    "\n",
    "for category, y_true_train, y_pred_train, y_true_val, y_pred_val in zip(categories, true_train_lists, pred_train_lists, true_val_lists, pred_val_lists):\n",
    "    train_recall = recall_score(y_true_train, y_pred_train, average='weighted')\n",
    "    train_f1_score = f1_score(y_true_train, y_pred_train, average='weighted')\n",
    "    train_accuracy = accuracy_score(y_true_train, y_pred_train)\n",
    "\n",
    "    val_recall = recall_score(y_true_val, y_pred_val, average='weighted')\n",
    "    val_f1_score = f1_score(y_true_val, y_pred_val, average='weighted')\n",
    "    val_accuracy = accuracy_score(y_true_val, y_pred_val)\n",
    "\n",
    "    print(f\"{category} Category - Train Recall: {train_recall:.4f}, F1 Score: {train_f1_score:.4f}, Accuracy: {train_accuracy:.4f}\")\n",
    "    print(f\"{category} Category - Val Recall: {val_recall:.4f}, F1 Score: {val_f1_score:.4f}, Accuracy: {val_accuracy:.4f}\")\n"
   ]
  },
  {
   "cell_type": "markdown",
   "id": "b89dc1b8-547f-4a69-9cc6-c78cb26a9c9f",
   "metadata": {},
   "source": [
    "# Random Forest Multiple Regressor"
   ]
  },
  {
   "cell_type": "code",
   "execution_count": 118,
   "id": "4953c3af-5bd9-48f5-bb8c-607a70e1d58b",
   "metadata": {},
   "outputs": [
    {
     "name": "stderr",
     "output_type": "stream",
     "text": [
      "Training Progress: 100%|███████████████████████████████████████████████████████████████| 12/12 [08:54<00:00, 44.55s/it]\n"
     ]
    },
    {
     "name": "stdout",
     "output_type": "stream",
     "text": [
      "Top Category Category - Train Recall: 0.9977, F1 Score: 0.9977, Accuracy: 0.9977\n",
      "Top Category Category - Val Recall: 0.8609, F1 Score: 0.8588, Accuracy: 0.8609\n",
      "Bottom Category Category - Train Recall: 0.9971, F1 Score: 0.9974, Accuracy: 0.9971\n",
      "Bottom Category Category - Val Recall: 0.8126, F1 Score: 0.8088, Accuracy: 0.8126\n",
      "Primary Color Category - Train Recall: 0.9931, F1 Score: 0.9931, Accuracy: 0.9931\n",
      "Primary Color Category - Val Recall: 0.4702, F1 Score: 0.4622, Accuracy: 0.4702\n",
      "Secondary Color Category - Train Recall: 0.9932, F1 Score: 0.9933, Accuracy: 0.9932\n",
      "Secondary Color Category - Val Recall: 0.3589, F1 Score: 0.3446, Accuracy: 0.3589\n"
     ]
    }
   ],
   "source": [
    "from sklearn.feature_extraction.text import CountVectorizer\n",
    "from sklearn.model_selection import train_test_split\n",
    "from sklearn.ensemble import RandomForestClassifier\n",
    "from sklearn.metrics import f1_score, recall_score, accuracy_score\n",
    "from tqdm import tqdm\n",
    "\n",
    "# Define batch size and calculate the number of batches\n",
    "batch_size = 20000\n",
    "num_batches = len(df_train) // batch_size + (len(df_train) % batch_size > 0)\n",
    "\n",
    "# Initialize CountVectorizer\n",
    "vectorizer = CountVectorizer(max_features=10000)\n",
    "\n",
    "# Initialize progress bar\n",
    "pbar = tqdm(total=num_batches, desc=\"Training Progress\")\n",
    "\n",
    "# Initialize lists to store true and predicted values for all categories\n",
    "y_true_train_top, y_pred_train_top = [], []\n",
    "y_true_val_top, y_pred_val_top = [], []\n",
    "y_true_train_bottom, y_pred_train_bottom = [], []\n",
    "y_true_val_bottom, y_pred_val_bottom = [], []\n",
    "y_true_train_primary, y_pred_train_primary = [], []\n",
    "y_true_val_primary, y_pred_val_primary = [], []\n",
    "y_true_train_secondary, y_pred_train_secondary = [], []\n",
    "y_true_val_secondary, y_pred_val_secondary = [], []\n",
    "\n",
    "# Loop over batches\n",
    "for i in range(num_batches):\n",
    "    start_idx = i * batch_size\n",
    "    end_idx = min(start_idx + batch_size, len(df_train))\n",
    "    \n",
    "    X_text = df_train['combine'][start_idx:end_idx]\n",
    "    y_top = df_train['top_category_id'][start_idx:end_idx]\n",
    "    y_bottom = df_train['bottom_category_id'][start_idx:end_idx]\n",
    "    y_primary = df_train['primary_color_id'][start_idx:end_idx]\n",
    "    y_secondary = df_train['secondary_color_id'][start_idx:end_idx]\n",
    "\n",
    "    # Fit vectorizer only once before the loop if this line is inside the loop by mistake\n",
    "    X = vectorizer.fit_transform(X_text)\n",
    "    \n",
    "    X_train, X_test, y_train_top, y_test_top = train_test_split(X, y_top, test_size=0.2, random_state=42)\n",
    "    _, _, y_train_bottom, y_test_bottom = train_test_split(X, y_bottom, test_size=0.2, random_state=42)\n",
    "    _, _, y_train_primary, y_test_primary = train_test_split(X, y_primary, test_size=0.2, random_state=42)\n",
    "    _, _, y_train_secondary, y_test_secondary = train_test_split(X, y_secondary, test_size=0.2, random_state=42)\n",
    "\n",
    "    # Initialize random forest models\n",
    "    model_top_rf = RandomForestClassifier(n_estimators=100, n_jobs=-1)\n",
    "    model_bottom_rf = RandomForestClassifier(n_estimators=100, n_jobs=-1)\n",
    "    model_primary_rf = RandomForestClassifier(n_estimators=100, n_jobs=-1)\n",
    "    model_secondary_rf = RandomForestClassifier(n_estimators=100, n_jobs=-1)\n",
    "\n",
    "    # Fit models\n",
    "    model_top_rf.fit(X_train, y_train_top)\n",
    "    model_bottom_rf.fit(X_train, y_train_bottom)\n",
    "    model_primary_rf.fit(X_train, y_train_primary)\n",
    "    model_secondary_rf.fit(X_train, y_train_secondary)\n",
    "\n",
    "    # Predictions for each category\n",
    "    y_pred_train_top_batch = model_top_rf.predict(X_train)\n",
    "    y_true_train_top.extend(y_train_top)\n",
    "    y_pred_train_top.extend(y_pred_train_top_batch)\n",
    "\n",
    "    y_pred_val_top_batch = model_top_rf.predict(X_test)\n",
    "    y_true_val_top.extend(y_test_top)\n",
    "    y_pred_val_top.extend(y_pred_val_top_batch)\n",
    "\n",
    "    y_pred_train_bottom_batch = model_bottom_rf.predict(X_train)\n",
    "    y_true_train_bottom.extend(y_train_bottom)\n",
    "    y_pred_train_bottom.extend(y_pred_train_bottom_batch)\n",
    "\n",
    "    y_pred_val_bottom_batch = model_bottom_rf.predict(X_test)\n",
    "    y_true_val_bottom.extend(y_test_bottom)\n",
    "    y_pred_val_bottom.extend(y_pred_val_bottom_batch)\n",
    "\n",
    "    y_pred_train_primary_batch = model_primary_rf.predict(X_train)\n",
    "    y_true_train_primary.extend(y_train_primary)\n",
    "    y_pred_train_primary.extend(y_pred_train_primary_batch)\n",
    "\n",
    "    y_pred_val_primary_batch = model_primary_rf.predict(X_test)\n",
    "    y_true_val_primary.extend(y_test_primary)\n",
    "    y_pred_val_primary.extend(y_pred_val_primary_batch)\n",
    "\n",
    "    y_pred_train_secondary_batch = model_secondary_rf.predict(X_train)\n",
    "    y_true_train_secondary.extend(y_train_secondary)\n",
    "    y_pred_train_secondary.extend(y_pred_train_secondary_batch)\n",
    "\n",
    "    y_pred_val_secondary_batch = model_secondary_rf.predict(X_test)\n",
    "    y_true_val_secondary.extend(y_test_secondary)\n",
    "    y_pred_val_secondary.extend(y_pred_val_secondary_batch)\n",
    "\n",
    "    # Update progress bar\n",
    "    pbar.update(1)\n",
    "\n",
    "# Close the progress bar\n",
    "pbar.close()\n",
    "\n",
    "# Calculate and print evaluation metrics for each category\n",
    "categories = ['Top Category', 'Bottom Category', 'Primary Color', 'Secondary Color']\n",
    "true_train_lists = [y_true_train_top, y_true_train_bottom, y_true_train_primary, y_true_train_secondary]\n",
    "pred_train_lists = [y_pred_train_top, y_pred_train_bottom, y_pred_train_primary, y_pred_train_secondary]\n",
    "true_val_lists = [y_true_val_top, y_true_val_bottom, y_true_val_primary, y_true_val_secondary]\n",
    "pred_val_lists = [y_pred_val_top, y_pred_val_bottom, y_pred_val_primary, y_pred_val_secondary]\n",
    "\n",
    "for category, y_true_train, y_pred_train, y_true_val, y_pred_val in zip(categories, true_train_lists, pred_train_lists, true_val_lists, pred_val_lists):\n",
    "    train_recall = recall_score(y_true_train, y_pred_train, average='weighted', zero_division=1)\n",
    "    train_f1_score = f1_score(y_true_train, y_pred_train, average='weighted', zero_division=1)\n",
    "    train_accuracy = accuracy_score(y_true_train, y_pred_train)\n",
    "\n",
    "    val_recall = recall_score(y_true_val, y_pred_val, average='weighted', zero_division=1)\n",
    "    val_f1_score = f1_score(y_true_val, y_pred_val, average='weighted', zero_division=1)\n",
    "    val_accuracy = accuracy_score(y_true_val, y_pred_val)\n",
    "\n",
    "    print(f\"{category} Category - Train Recall: {train_recall:.4f}, F1 Score: {train_f1_score:.4f}, Accuracy: {train_accuracy:.4f}\")\n",
    "    print(f\"{category} Category - Val Recall: {val_recall:.4f}, F1 Score: {val_f1_score:.4f}, Accuracy: {val_accuracy:.4f}\")\n"
   ]
  },
  {
   "cell_type": "markdown",
   "id": "8549f41a-740b-4120-a580-37eb08840edb",
   "metadata": {},
   "source": [
    "# KMeans Clusttering"
   ]
  },
  {
   "cell_type": "code",
   "execution_count": 95,
   "id": "314b98af-f224-4f9d-9996-2121dfd5a1d3",
   "metadata": {},
   "outputs": [
    {
     "name": "stdout",
     "output_type": "stream",
     "text": [
      "Top Category MSE: 0.1819816304028025\n",
      "Bottom Category MSE: 104892.36272128193\n",
      "Primary Color MSE: 0.8467957303175823\n",
      "Secondary Color MSE: 1.115541628191076\n"
     ]
    }
   ],
   "source": [
    "from sklearn.feature_extraction.text import CountVectorizer\n",
    "from sklearn.cluster import KMeans\n",
    "from sklearn.tree import DecisionTreeRegressor\n",
    "from sklearn.model_selection import train_test_split\n",
    "from sklearn.metrics import mean_squared_error\n",
    "from tqdm import tqdm\n",
    "import numpy as np\n",
    "import pandas as pd\n",
    "\n",
    "# Define batch size and calculate the number of batches\n",
    "batch_size = 20000\n",
    "num_batches = len(df_train) // batch_size + (len(df_train) % batch_size > 0)\n",
    "\n",
    "# Initialize CountVectorizer\n",
    "vectorizer = CountVectorizer(max_features=10000)\n",
    "X = vectorizer.fit_transform(df_train['combine'])\n",
    "\n",
    "# Split data into train and test first\n",
    "X_train, X_test, y_train, y_test = train_test_split(X, df_train[['top_category_id', 'bottom_category_id', 'primary_color_id', 'secondary_color_id']], test_size=0.2, random_state=42)\n",
    "\n",
    "# Number of clusters for each target variable\n",
    "n_clusters = 5  # Example: adjust based on domain knowledge or experimentation\n",
    "\n",
    "# Initialize KMeans\n",
    "kmeans = KMeans(n_clusters=n_clusters, random_state=42)\n",
    "\n",
    "# Create a function to train and predict for each target variable\n",
    "def cluster_and_predict(X_train, X_test, y_train, y_test, target_name):\n",
    "    # Fit KMeans to the target variable\n",
    "    clusters_train = kmeans.fit_predict(y_train[target_name].values.reshape(-1, 1))\n",
    "    clusters_test = kmeans.predict(y_test[target_name].values.reshape(-1, 1))\n",
    "\n",
    "    # Initialize decision tree regressors for each cluster\n",
    "    models = [DecisionTreeRegressor(random_state=42) for _ in range(n_clusters)]\n",
    "\n",
    "    # Train Decision Tree Regressors for each cluster\n",
    "    for i in range(n_clusters):\n",
    "        cluster_indices = np.where(clusters_train == i)[0]\n",
    "        if len(cluster_indices) > 0:\n",
    "            models[i].fit(X_train[cluster_indices], y_train.iloc[cluster_indices][target_name])\n",
    "\n",
    "    # Predict and evaluate for each cluster using Decision Tree Regressor\n",
    "    predictions = np.zeros(y_test.shape[0])\n",
    "    for i in range(n_clusters):\n",
    "        cluster_indices = np.where(clusters_test == i)[0]\n",
    "        if len(cluster_indices) > 0:\n",
    "            predictions[cluster_indices] = models[i].predict(X_test[cluster_indices])\n",
    "\n",
    "    mse = mean_squared_error(y_test[target_name], predictions)\n",
    "    return mse\n",
    "\n",
    "# Calculate MSE for each category\n",
    "mse_top = cluster_and_predict(X_train, X_test, y_train, y_test, 'top_category_id')\n",
    "mse_bottom = cluster_and_predict(X_train, X_test, y_train, y_test, 'bottom_category_id')\n",
    "mse_primary = cluster_and_predict(X_train, X_test, y_train, y_test, 'primary_color_id')\n",
    "mse_secondary = cluster_and_predict(X_train, X_test, y_train, y_test, 'secondary_color_id')\n",
    "\n",
    "print(f\"Top Category MSE: {mse_top}\")\n",
    "print(f\"Bottom Category MSE: {mse_bottom}\")\n",
    "print(f\"Primary Color MSE: {mse_primary}\")\n",
    "print(f\"Secondary Color MSE: {mse_secondary}\")"
   ]
  },
  {
   "cell_type": "markdown",
   "id": "95c5bb05-56a1-4aeb-9f7e-1fa84466b116",
   "metadata": {},
   "source": [
    "# Test Dataset"
   ]
  },
  {
   "cell_type": "code",
   "execution_count": 5,
   "id": "d6cfe330-7b20-4e6f-ac84-e9e46fbbfcbc",
   "metadata": {},
   "outputs": [],
   "source": [
    "# Get a list of all Test Parquet files in the folder\n",
    "test_parquet_files = [file for file in os.listdir(par_test_folder_path) if file.endswith(\".parquet\")]\n",
    "\n",
    "# Loop through the Train Parquet files and read them into individual DataFrames\n",
    "par_test_df = []\n",
    "for file in test_parquet_files:\n",
    "    file_path = os.path.join(par_test_folder_path, file)\n",
    "    df = pd.read_parquet(file_path)\n",
    "    par_test_df.append(df)\n",
    "\n",
    "# Concatenate the individual DataFrames into a single DataFrame\n",
    "test_parquet_df = pd.concat(par_test_df, ignore_index=True)"
   ]
  },
  {
   "cell_type": "code",
   "execution_count": 6,
   "id": "7b455fff-e276-4c6c-8266-9aeb51a95553",
   "metadata": {},
   "outputs": [
    {
     "data": {
      "text/html": [
       "<div>\n",
       "<style scoped>\n",
       "    .dataframe tbody tr th:only-of-type {\n",
       "        vertical-align: middle;\n",
       "    }\n",
       "\n",
       "    .dataframe tbody tr th {\n",
       "        vertical-align: top;\n",
       "    }\n",
       "\n",
       "    .dataframe thead th {\n",
       "        text-align: right;\n",
       "    }\n",
       "</style>\n",
       "<table border=\"1\" class=\"dataframe\">\n",
       "  <thead>\n",
       "    <tr style=\"text-align: right;\">\n",
       "      <th></th>\n",
       "      <th>product_id</th>\n",
       "      <th>title</th>\n",
       "      <th>description</th>\n",
       "      <th>tags</th>\n",
       "      <th>type</th>\n",
       "      <th>room</th>\n",
       "      <th>craft_type</th>\n",
       "      <th>recipient</th>\n",
       "      <th>material</th>\n",
       "      <th>occasion</th>\n",
       "      <th>holiday</th>\n",
       "      <th>art_subject</th>\n",
       "      <th>style</th>\n",
       "      <th>shape</th>\n",
       "      <th>pattern</th>\n",
       "      <th>image/encoded</th>\n",
       "      <th>image/width</th>\n",
       "      <th>image/height</th>\n",
       "    </tr>\n",
       "  </thead>\n",
       "  <tbody>\n",
       "    <tr>\n",
       "      <th>0</th>\n",
       "      <td>661373440</td>\n",
       "      <td>Classroom Valentine Favors, Valentine Pencils,...</td>\n",
       "      <td>Valentine Favors, Robots of Love Vinyl Pencil ...</td>\n",
       "      <td>Valentines day favor,kindergarten treats,valen...</td>\n",
       "      <td>physical</td>\n",
       "      <td></td>\n",
       "      <td>kids' crafts</td>\n",
       "      <td></td>\n",
       "      <td></td>\n",
       "      <td></td>\n",
       "      <td>valentine's day</td>\n",
       "      <td></td>\n",
       "      <td></td>\n",
       "      <td></td>\n",
       "      <td></td>\n",
       "      <td>b'\\xff\\xd8\\xff\\xe0\\x00\\x10JFIF\\x00\\x01\\x01\\x00...</td>\n",
       "      <td>570</td>\n",
       "      <td>739</td>\n",
       "    </tr>\n",
       "    <tr>\n",
       "      <th>1</th>\n",
       "      <td>1501009290</td>\n",
       "      <td>5 Colour Slatepencils In One Pack Order NOw</td>\n",
       "      <td>5 Colour Slatepencils In One Pack Order NOw\\n\\...</td>\n",
       "      <td>slatepencils,clay,nakumatt,edibleclay</td>\n",
       "      <td>physical</td>\n",
       "      <td></td>\n",
       "      <td>drawing &amp; drafting</td>\n",
       "      <td></td>\n",
       "      <td></td>\n",
       "      <td></td>\n",
       "      <td></td>\n",
       "      <td></td>\n",
       "      <td></td>\n",
       "      <td></td>\n",
       "      <td></td>\n",
       "      <td>b'\\xff\\xd8\\xff\\xe0\\x00\\x10JFIF\\x00\\x01\\x01\\x00...</td>\n",
       "      <td>570</td>\n",
       "      <td>321</td>\n",
       "    </tr>\n",
       "    <tr>\n",
       "      <th>2</th>\n",
       "      <td>1105447030</td>\n",
       "      <td>No 2 Pencils by Associated Commercial,  #2 Wri...</td>\n",
       "      <td>This listing is for a dozen, unused pre sharpe...</td>\n",
       "      <td>Faber Castell,aw faber,Faber-Castell,antique p...</td>\n",
       "      <td>physical</td>\n",
       "      <td></td>\n",
       "      <td>drawing &amp; drafting</td>\n",
       "      <td></td>\n",
       "      <td></td>\n",
       "      <td></td>\n",
       "      <td></td>\n",
       "      <td></td>\n",
       "      <td></td>\n",
       "      <td></td>\n",
       "      <td></td>\n",
       "      <td>b'\\xff\\xd8\\xff\\xe0\\x00\\x10JFIF\\x00\\x01\\x01\\x00...</td>\n",
       "      <td>570</td>\n",
       "      <td>330</td>\n",
       "    </tr>\n",
       "    <tr>\n",
       "      <th>3</th>\n",
       "      <td>1140081090</td>\n",
       "      <td>Personalized Carpenter Pencils, Engraved Carpe...</td>\n",
       "      <td>EtchThisOut is now offering Carpenter Pencils ...</td>\n",
       "      <td>Personalized Pencils,Carpenter Pencils,Carpent...</td>\n",
       "      <td>physical</td>\n",
       "      <td></td>\n",
       "      <td>drawing &amp; drafting</td>\n",
       "      <td></td>\n",
       "      <td></td>\n",
       "      <td>birthday</td>\n",
       "      <td>valentine's day</td>\n",
       "      <td></td>\n",
       "      <td></td>\n",
       "      <td></td>\n",
       "      <td></td>\n",
       "      <td>b'\\xff\\xd8\\xff\\xe0\\x00\\x10JFIF\\x00\\x01\\x01\\x00...</td>\n",
       "      <td>570</td>\n",
       "      <td>570</td>\n",
       "    </tr>\n",
       "    <tr>\n",
       "      <th>4</th>\n",
       "      <td>793448890</td>\n",
       "      <td>Vintage 1960&amp;#39;s Autopoint mechanical pencil...</td>\n",
       "      <td>Vintage 1950&amp;#39;s Autopoint mechanical pencil...</td>\n",
       "      <td>Mechanical pencil,Autopoint pencil,Drafting pe...</td>\n",
       "      <td>physical</td>\n",
       "      <td></td>\n",
       "      <td>calligraphy</td>\n",
       "      <td></td>\n",
       "      <td></td>\n",
       "      <td></td>\n",
       "      <td></td>\n",
       "      <td></td>\n",
       "      <td></td>\n",
       "      <td></td>\n",
       "      <td></td>\n",
       "      <td>b'\\xff\\xd8\\xff\\xe0\\x00\\x10JFIF\\x00\\x01\\x01\\x00...</td>\n",
       "      <td>570</td>\n",
       "      <td>570</td>\n",
       "    </tr>\n",
       "  </tbody>\n",
       "</table>\n",
       "</div>"
      ],
      "text/plain": [
       "   product_id                                              title  \\\n",
       "0   661373440  Classroom Valentine Favors, Valentine Pencils,...   \n",
       "1  1501009290        5 Colour Slatepencils In One Pack Order NOw   \n",
       "2  1105447030  No 2 Pencils by Associated Commercial,  #2 Wri...   \n",
       "3  1140081090  Personalized Carpenter Pencils, Engraved Carpe...   \n",
       "4   793448890  Vintage 1960&#39;s Autopoint mechanical pencil...   \n",
       "\n",
       "                                         description  \\\n",
       "0  Valentine Favors, Robots of Love Vinyl Pencil ...   \n",
       "1  5 Colour Slatepencils In One Pack Order NOw\\n\\...   \n",
       "2  This listing is for a dozen, unused pre sharpe...   \n",
       "3  EtchThisOut is now offering Carpenter Pencils ...   \n",
       "4  Vintage 1950&#39;s Autopoint mechanical pencil...   \n",
       "\n",
       "                                                tags      type room  \\\n",
       "0  Valentines day favor,kindergarten treats,valen...  physical        \n",
       "1              slatepencils,clay,nakumatt,edibleclay  physical        \n",
       "2  Faber Castell,aw faber,Faber-Castell,antique p...  physical        \n",
       "3  Personalized Pencils,Carpenter Pencils,Carpent...  physical        \n",
       "4  Mechanical pencil,Autopoint pencil,Drafting pe...  physical        \n",
       "\n",
       "           craft_type recipient material  occasion          holiday  \\\n",
       "0        kids' crafts                               valentine's day   \n",
       "1  drawing & drafting                                                 \n",
       "2  drawing & drafting                                                 \n",
       "3  drawing & drafting                     birthday  valentine's day   \n",
       "4         calligraphy                                                 \n",
       "\n",
       "  art_subject style shape pattern  \\\n",
       "0                                   \n",
       "1                                   \n",
       "2                                   \n",
       "3                                   \n",
       "4                                   \n",
       "\n",
       "                                       image/encoded  image/width  \\\n",
       "0  b'\\xff\\xd8\\xff\\xe0\\x00\\x10JFIF\\x00\\x01\\x01\\x00...          570   \n",
       "1  b'\\xff\\xd8\\xff\\xe0\\x00\\x10JFIF\\x00\\x01\\x01\\x00...          570   \n",
       "2  b'\\xff\\xd8\\xff\\xe0\\x00\\x10JFIF\\x00\\x01\\x01\\x00...          570   \n",
       "3  b'\\xff\\xd8\\xff\\xe0\\x00\\x10JFIF\\x00\\x01\\x01\\x00...          570   \n",
       "4  b'\\xff\\xd8\\xff\\xe0\\x00\\x10JFIF\\x00\\x01\\x01\\x00...          570   \n",
       "\n",
       "   image/height  \n",
       "0           739  \n",
       "1           321  \n",
       "2           330  \n",
       "3           570  \n",
       "4           570  "
      ]
     },
     "execution_count": 6,
     "metadata": {},
     "output_type": "execute_result"
    }
   ],
   "source": [
    "# Display the merged DataFrame\n",
    "test_parquet_df.head()"
   ]
  },
  {
   "cell_type": "code",
   "execution_count": 7,
   "id": "6bd373ee-046e-430b-94d0-5898156dcdbd",
   "metadata": {},
   "outputs": [
    {
     "name": "stdout",
     "output_type": "stream",
     "text": [
      "<class 'pandas.core.frame.DataFrame'>\n"
     ]
    }
   ],
   "source": [
    "print(type(test_parquet_df))"
   ]
  },
  {
   "cell_type": "code",
   "execution_count": 8,
   "id": "913e6e86-2ea0-47ec-bd1d-862b1935f2ae",
   "metadata": {},
   "outputs": [
    {
     "name": "stdout",
     "output_type": "stream",
     "text": [
      "Index(['product_id', 'title', 'description', 'tags', 'type', 'room',\n",
      "       'craft_type', 'recipient', 'material', 'occasion', 'holiday',\n",
      "       'art_subject', 'style', 'shape', 'pattern', 'image/encoded',\n",
      "       'image/width', 'image/height'],\n",
      "      dtype='object')\n"
     ]
    }
   ],
   "source": [
    "print(test_parquet_df.columns)"
   ]
  },
  {
   "cell_type": "code",
   "execution_count": 9,
   "id": "e4574e51-35b8-42e1-89d2-2e949813d929",
   "metadata": {},
   "outputs": [
    {
     "data": {
      "text/plain": [
       "'Number of rows in test: 25,514'"
      ]
     },
     "execution_count": 9,
     "metadata": {},
     "output_type": "execute_result"
    }
   ],
   "source": [
    "f'Number of rows in test: {len(test_parquet_df):,}'"
   ]
  },
  {
   "cell_type": "code",
   "execution_count": 10,
   "id": "6d0a8c80-a237-4081-bd55-58814a4ff8bf",
   "metadata": {},
   "outputs": [
    {
     "data": {
      "text/plain": [
       "'Number of unique products in test: 25,514'"
      ]
     },
     "execution_count": 10,
     "metadata": {},
     "output_type": "execute_result"
    }
   ],
   "source": [
    "f\"Number of unique products in test: {len(test_parquet_df['product_id'].unique()):,}\""
   ]
  },
  {
   "cell_type": "code",
   "execution_count": 11,
   "id": "cf5bd319-3333-417d-823f-f918ebf0c911",
   "metadata": {},
   "outputs": [
    {
     "data": {
      "text/plain": [
       "'Number of columns in test: 18'"
      ]
     },
     "execution_count": 11,
     "metadata": {},
     "output_type": "execute_result"
    }
   ],
   "source": [
    "f\"Number of columns in test: {len(test_parquet_df.columns):,}\""
   ]
  },
  {
   "cell_type": "code",
   "execution_count": 12,
   "id": "6c5be252-068a-4c3a-a865-89c02f4f7542",
   "metadata": {},
   "outputs": [
    {
     "name": "stdout",
     "output_type": "stream",
     "text": [
      "<class 'pandas.core.frame.DataFrame'>\n"
     ]
    }
   ],
   "source": [
    "print(type(test_parquet_df))"
   ]
  },
  {
   "cell_type": "code",
   "execution_count": 117,
   "id": "4bb6920b-f3c3-46bf-97a3-2f6f85acaa0d",
   "metadata": {},
   "outputs": [
    {
     "data": {
      "text/plain": [
       "product_id                                               661373440\n",
       "title            Classroom Valentine Favors, Valentine Pencils,...\n",
       "description      Valentine Favors, Robots of Love Vinyl Pencil ...\n",
       "tags             Valentines day favor,kindergarten treats,valen...\n",
       "type                                                      physical\n",
       "room                                                              \n",
       "craft_type                                            kids' crafts\n",
       "recipient                                                         \n",
       "material                                                          \n",
       "occasion                                                          \n",
       "holiday                                            valentine's day\n",
       "art_subject                                                       \n",
       "style                                                             \n",
       "shape                                                             \n",
       "pattern                                                           \n",
       "image/encoded    b'\\xff\\xd8\\xff\\xe0\\x00\\x10JFIF\\x00\\x01\\x01\\x00...\n",
       "image/width                                                    570\n",
       "image/height                                                   739\n",
       "Name: 0, dtype: object"
      ]
     },
     "execution_count": 117,
     "metadata": {},
     "output_type": "execute_result"
    }
   ],
   "source": [
    "test_parquet_df.iloc[0]"
   ]
  },
  {
   "cell_type": "code",
   "execution_count": 13,
   "id": "ee538c6f-5cbe-4651-b180-00c9afdbed62",
   "metadata": {},
   "outputs": [],
   "source": [
    "columns_to_drop_2 = [\"type\", \"room\", \"craft_type\", \"recipient\", \"material\", \"occasion\", \"holiday\", \"art_subject\", \"style\", \"shape\", \"pattern\", \"image/encoded\", \"image/width\", \"image/height\"]"
   ]
  },
  {
   "cell_type": "code",
   "execution_count": 14,
   "id": "5d3c2e67-8a66-4ad1-b0b7-87cd2ef9f067",
   "metadata": {},
   "outputs": [],
   "source": [
    "df_test = test_parquet_df.copy()"
   ]
  },
  {
   "cell_type": "code",
   "execution_count": 15,
   "id": "d8a00cb9-abcc-4898-a994-e4a6800d2266",
   "metadata": {},
   "outputs": [],
   "source": [
    "df_test = df_test.drop(columns=columns_to_drop_2, errors='ignore')"
   ]
  },
  {
   "cell_type": "code",
   "execution_count": 16,
   "id": "b3064668-c98b-4fa8-ac09-fe18c1f96c4f",
   "metadata": {},
   "outputs": [
    {
     "data": {
      "text/html": [
       "<div>\n",
       "<style scoped>\n",
       "    .dataframe tbody tr th:only-of-type {\n",
       "        vertical-align: middle;\n",
       "    }\n",
       "\n",
       "    .dataframe tbody tr th {\n",
       "        vertical-align: top;\n",
       "    }\n",
       "\n",
       "    .dataframe thead th {\n",
       "        text-align: right;\n",
       "    }\n",
       "</style>\n",
       "<table border=\"1\" class=\"dataframe\">\n",
       "  <thead>\n",
       "    <tr style=\"text-align: right;\">\n",
       "      <th></th>\n",
       "      <th>product_id</th>\n",
       "      <th>title</th>\n",
       "      <th>description</th>\n",
       "      <th>tags</th>\n",
       "    </tr>\n",
       "  </thead>\n",
       "  <tbody>\n",
       "    <tr>\n",
       "      <th>0</th>\n",
       "      <td>661373440</td>\n",
       "      <td>Classroom Valentine Favors, Valentine Pencils,...</td>\n",
       "      <td>Valentine Favors, Robots of Love Vinyl Pencil ...</td>\n",
       "      <td>Valentines day favor,kindergarten treats,valen...</td>\n",
       "    </tr>\n",
       "    <tr>\n",
       "      <th>1</th>\n",
       "      <td>1501009290</td>\n",
       "      <td>5 Colour Slatepencils In One Pack Order NOw</td>\n",
       "      <td>5 Colour Slatepencils In One Pack Order NOw\\n\\...</td>\n",
       "      <td>slatepencils,clay,nakumatt,edibleclay</td>\n",
       "    </tr>\n",
       "    <tr>\n",
       "      <th>2</th>\n",
       "      <td>1105447030</td>\n",
       "      <td>No 2 Pencils by Associated Commercial,  #2 Wri...</td>\n",
       "      <td>This listing is for a dozen, unused pre sharpe...</td>\n",
       "      <td>Faber Castell,aw faber,Faber-Castell,antique p...</td>\n",
       "    </tr>\n",
       "    <tr>\n",
       "      <th>3</th>\n",
       "      <td>1140081090</td>\n",
       "      <td>Personalized Carpenter Pencils, Engraved Carpe...</td>\n",
       "      <td>EtchThisOut is now offering Carpenter Pencils ...</td>\n",
       "      <td>Personalized Pencils,Carpenter Pencils,Carpent...</td>\n",
       "    </tr>\n",
       "    <tr>\n",
       "      <th>4</th>\n",
       "      <td>793448890</td>\n",
       "      <td>Vintage 1960&amp;#39;s Autopoint mechanical pencil...</td>\n",
       "      <td>Vintage 1950&amp;#39;s Autopoint mechanical pencil...</td>\n",
       "      <td>Mechanical pencil,Autopoint pencil,Drafting pe...</td>\n",
       "    </tr>\n",
       "  </tbody>\n",
       "</table>\n",
       "</div>"
      ],
      "text/plain": [
       "   product_id                                              title  \\\n",
       "0   661373440  Classroom Valentine Favors, Valentine Pencils,...   \n",
       "1  1501009290        5 Colour Slatepencils In One Pack Order NOw   \n",
       "2  1105447030  No 2 Pencils by Associated Commercial,  #2 Wri...   \n",
       "3  1140081090  Personalized Carpenter Pencils, Engraved Carpe...   \n",
       "4   793448890  Vintage 1960&#39;s Autopoint mechanical pencil...   \n",
       "\n",
       "                                         description  \\\n",
       "0  Valentine Favors, Robots of Love Vinyl Pencil ...   \n",
       "1  5 Colour Slatepencils In One Pack Order NOw\\n\\...   \n",
       "2  This listing is for a dozen, unused pre sharpe...   \n",
       "3  EtchThisOut is now offering Carpenter Pencils ...   \n",
       "4  Vintage 1950&#39;s Autopoint mechanical pencil...   \n",
       "\n",
       "                                                tags  \n",
       "0  Valentines day favor,kindergarten treats,valen...  \n",
       "1              slatepencils,clay,nakumatt,edibleclay  \n",
       "2  Faber Castell,aw faber,Faber-Castell,antique p...  \n",
       "3  Personalized Pencils,Carpenter Pencils,Carpent...  \n",
       "4  Mechanical pencil,Autopoint pencil,Drafting pe...  "
      ]
     },
     "execution_count": 16,
     "metadata": {},
     "output_type": "execute_result"
    }
   ],
   "source": [
    "df_test.head()"
   ]
  },
  {
   "cell_type": "code",
   "execution_count": 125,
   "id": "8cf1b62e-97d2-45b9-9388-8fa75b32a1f8",
   "metadata": {},
   "outputs": [],
   "source": [
    "# List of columns to preprocess\n",
    "text_columns_2 = ['title', 'description', 'tags']\n",
    "\n",
    "for column in text_columns_2:\n",
    "    df_test[column] = df_test[column].astype(str).apply(clean_text).apply(process_text)"
   ]
  },
  {
   "cell_type": "code",
   "execution_count": 126,
   "id": "c26e2b3d-e15d-42ac-ac44-ba9c5c895b39",
   "metadata": {},
   "outputs": [],
   "source": [
    "df_test.to_csv(\"CleanedFinalTestData.csv\", index = False)"
   ]
  },
  {
   "cell_type": "code",
   "execution_count": 127,
   "id": "c0b1de2c-985e-4c54-918a-9ec14cbf7cfe",
   "metadata": {},
   "outputs": [],
   "source": [
    "df_test['combine'] = df_test['title'] + ' ' + df_test['description'] + ' ' + df_test['tags']"
   ]
  },
  {
   "cell_type": "code",
   "execution_count": 133,
   "id": "79ea722d-55a4-4356-bd25-1345ac480d23",
   "metadata": {},
   "outputs": [
    {
     "name": "stdout",
     "output_type": "stream",
     "text": [
      "[10  5  8 ...  6  8  6]\n",
      "[12426    30  2108 ...  1203  6730  6730]\n",
      "[17  1  1 ... 18  1  1]\n",
      "[14 17 17 ... 16 17 17]\n"
     ]
    }
   ],
   "source": [
    "vectorizer = CountVectorizer(max_features=10000)\n",
    "\n",
    "# Set the batch size\n",
    "batch_size = 20000\n",
    "\n",
    "# Calculate the number of batches\n",
    "num_batches = len(df_test) // batch_size + (len(df_test) % batch_size > 0)\n",
    "\n",
    "# List to store predictions\n",
    "test_pred = []\n",
    "\n",
    "# Process in batches\n",
    "for i in range(num_batches):\n",
    "    start_idx = i * batch_size\n",
    "    end_idx = min(start_idx + batch_size, len(df_test))\n",
    "\n",
    "    Y = df_test['combine'][start_idx:end_idx]\n",
    "    \n",
    "    # Fit and transform the data using CountVectorizer\n",
    "    Y = vectorizer.fit_transform(df_test['combine'])\n",
    "    \n",
    "    test_pred_top = model_top.predict(Y)\n",
    "    test_pred_bottom = model_bottom.predict(Y)\n",
    "    test_pred_primary = model_primary.predict(Y)\n",
    "    test_pred_secondary = model_secondary_rf.predict(Y)\n",
    "    \n",
    "# Now `test_pred` contains all the predictions\n",
    "print(test_pred_top)\n",
    "print(test_pred_bottom)\n",
    "print(test_pred_primary)\n",
    "print(test_pred_secondary)"
   ]
  },
  {
   "cell_type": "code",
   "execution_count": 141,
   "id": "81d11649-31ca-48cd-8296-03086f384b67",
   "metadata": {},
   "outputs": [],
   "source": [
    "import pandas as pd\n",
    "import numpy as np\n",
    "\n",
    "# Sample data simulating your variables, replace these with your actual data\n",
    "# For example, if test_pred_top is an ndarray, you would convert it like this:\n",
    "if isinstance(test_pred_top, np.ndarray):\n",
    "    test_pred_top = pd.DataFrame(test_pred_top, columns=[f'top_{i}' for i in range(test_pred_top.shape[1])])\n",
    "\n",
    "if isinstance(test_pred_bottom, np.ndarray):\n",
    "    test_pred_bottom = pd.DataFrame(test_pred_bottom, columns=[f'bottom_{i}' for i in range(test_pred_bottom.shape[1])])\n",
    "\n",
    "if isinstance(test_pred_primary, np.ndarray):\n",
    "    test_pred_primary = pd.DataFrame(test_pred_primary, columns=[f'primary_{i}' for i in range(test_pred_primary.shape[1])])\n",
    "\n",
    "if isinstance(test_pred_secondary, np.ndarray):\n",
    "    test_pred_secondary = pd.DataFrame(test_pred_secondary, columns=[f'secondary_{i}' for i in range(test_pred_secondary.shape[1])])\n",
    "\n",
    "# Concatenate horizontally\n",
    "combined_df = pd.concat([test_pred_top, test_pred_bottom, test_pred_primary, test_pred_secondary], axis=1)\n",
    "\n",
    "# Save to CSV\n",
    "combined_df.to_csv('LastFinal.csv', index=False)\n"
   ]
  },
  {
   "cell_type": "code",
   "execution_count": 136,
   "id": "1c354fe2-4f33-4a33-a3d6-7e0f4e03f674",
   "metadata": {},
   "outputs": [
    {
     "name": "stdout",
     "output_type": "stream",
     "text": [
      "<class 'numpy.ndarray'>\n"
     ]
    }
   ],
   "source": [
    "print(type(test_pred_top))"
   ]
  },
  {
   "cell_type": "code",
   "execution_count": 17,
   "id": "af5b0f8c-776b-4c06-b23a-f1bfe5cadd76",
   "metadata": {},
   "outputs": [
    {
     "name": "stdout",
     "output_type": "stream",
     "text": [
      "Index(['product_id', 'title', 'description', 'tags'], dtype='object')\n"
     ]
    }
   ],
   "source": [
    "print(df_test.columns)"
   ]
  },
  {
   "cell_type": "code",
   "execution_count": 19,
   "id": "4755adc3-9ae0-4f61-97f8-5c71b03ac178",
   "metadata": {},
   "outputs": [],
   "source": [
    "combined_df = pd.read_csv(\"LastFinal.csv\")"
   ]
  },
  {
   "cell_type": "code",
   "execution_count": 20,
   "id": "31585bc3-a36b-4d3d-947b-7158d3f6f18d",
   "metadata": {},
   "outputs": [
    {
     "name": "stdout",
     "output_type": "stream",
     "text": [
      "Index(['top', 'bottom', 'primary', 'secondary'], dtype='object')\n"
     ]
    }
   ],
   "source": [
    "print(combined_df.columns)"
   ]
  },
  {
   "cell_type": "code",
   "execution_count": 36,
   "id": "e5d19dca-0466-4e51-9fb3-88070c66fb34",
   "metadata": {},
   "outputs": [],
   "source": [
    "product_id_column = df_test['product_id']\n",
    "\n",
    "# Combine product_id_column with combined_df\n",
    "new_dataframe = pd.concat([product_id_column, combined_df], axis=1)"
   ]
  },
  {
   "cell_type": "code",
   "execution_count": 37,
   "id": "4cafb655-45b6-40ee-80f8-fb3d568fb90a",
   "metadata": {},
   "outputs": [
    {
     "name": "stdout",
     "output_type": "stream",
     "text": [
      "Index(['product_id', 'top', 'bottom', 'primary', 'secondary'], dtype='object')\n"
     ]
    }
   ],
   "source": [
    "print(new_dataframe.columns)"
   ]
  },
  {
   "cell_type": "code",
   "execution_count": 38,
   "id": "bdbe6e08-3249-41dd-a912-8b10186e042e",
   "metadata": {},
   "outputs": [
    {
     "data": {
      "text/html": [
       "<div>\n",
       "<style scoped>\n",
       "    .dataframe tbody tr th:only-of-type {\n",
       "        vertical-align: middle;\n",
       "    }\n",
       "\n",
       "    .dataframe tbody tr th {\n",
       "        vertical-align: top;\n",
       "    }\n",
       "\n",
       "    .dataframe thead th {\n",
       "        text-align: right;\n",
       "    }\n",
       "</style>\n",
       "<table border=\"1\" class=\"dataframe\">\n",
       "  <thead>\n",
       "    <tr style=\"text-align: right;\">\n",
       "      <th></th>\n",
       "      <th>product_id</th>\n",
       "      <th>top</th>\n",
       "      <th>bottom</th>\n",
       "      <th>primary</th>\n",
       "      <th>secondary</th>\n",
       "    </tr>\n",
       "  </thead>\n",
       "  <tbody>\n",
       "    <tr>\n",
       "      <th>0</th>\n",
       "      <td>661373440</td>\n",
       "      <td>10</td>\n",
       "      <td>12426</td>\n",
       "      <td>17</td>\n",
       "      <td>14</td>\n",
       "    </tr>\n",
       "    <tr>\n",
       "      <th>1</th>\n",
       "      <td>1501009290</td>\n",
       "      <td>5</td>\n",
       "      <td>30</td>\n",
       "      <td>1</td>\n",
       "      <td>17</td>\n",
       "    </tr>\n",
       "    <tr>\n",
       "      <th>2</th>\n",
       "      <td>1105447030</td>\n",
       "      <td>8</td>\n",
       "      <td>2108</td>\n",
       "      <td>1</td>\n",
       "      <td>17</td>\n",
       "    </tr>\n",
       "    <tr>\n",
       "      <th>3</th>\n",
       "      <td>1140081090</td>\n",
       "      <td>10</td>\n",
       "      <td>12426</td>\n",
       "      <td>18</td>\n",
       "      <td>17</td>\n",
       "    </tr>\n",
       "    <tr>\n",
       "      <th>4</th>\n",
       "      <td>793448890</td>\n",
       "      <td>5</td>\n",
       "      <td>443</td>\n",
       "      <td>2</td>\n",
       "      <td>17</td>\n",
       "    </tr>\n",
       "  </tbody>\n",
       "</table>\n",
       "</div>"
      ],
      "text/plain": [
       "   product_id  top  bottom  primary  secondary\n",
       "0   661373440   10   12426       17         14\n",
       "1  1501009290    5      30        1         17\n",
       "2  1105447030    8    2108        1         17\n",
       "3  1140081090   10   12426       18         17\n",
       "4   793448890    5     443        2         17"
      ]
     },
     "execution_count": 38,
     "metadata": {},
     "output_type": "execute_result"
    }
   ],
   "source": [
    "new_dataframe.head()"
   ]
  },
  {
   "cell_type": "code",
   "execution_count": 39,
   "id": "c98caa41-0925-4d81-9816-90c267e40183",
   "metadata": {},
   "outputs": [],
   "source": [
    "new_dataframe.to_parquet('predictions_23262297.parquet', index=False)"
   ]
  },
  {
   "cell_type": "code",
   "execution_count": 40,
   "id": "6905648c-950f-4cfc-961a-847485d9c7d5",
   "metadata": {},
   "outputs": [],
   "source": [
    "df3 =  pd.read_parquet('predictions_23262297.parquet')"
   ]
  },
  {
   "cell_type": "code",
   "execution_count": 41,
   "id": "88d25ef8-dfab-424f-8cda-f36d96d1395a",
   "metadata": {},
   "outputs": [
    {
     "data": {
      "text/html": [
       "<div>\n",
       "<style scoped>\n",
       "    .dataframe tbody tr th:only-of-type {\n",
       "        vertical-align: middle;\n",
       "    }\n",
       "\n",
       "    .dataframe tbody tr th {\n",
       "        vertical-align: top;\n",
       "    }\n",
       "\n",
       "    .dataframe thead th {\n",
       "        text-align: right;\n",
       "    }\n",
       "</style>\n",
       "<table border=\"1\" class=\"dataframe\">\n",
       "  <thead>\n",
       "    <tr style=\"text-align: right;\">\n",
       "      <th></th>\n",
       "      <th>product_id</th>\n",
       "      <th>top</th>\n",
       "      <th>bottom</th>\n",
       "      <th>primary</th>\n",
       "      <th>secondary</th>\n",
       "    </tr>\n",
       "  </thead>\n",
       "  <tbody>\n",
       "    <tr>\n",
       "      <th>0</th>\n",
       "      <td>661373440</td>\n",
       "      <td>10</td>\n",
       "      <td>12426</td>\n",
       "      <td>17</td>\n",
       "      <td>14</td>\n",
       "    </tr>\n",
       "    <tr>\n",
       "      <th>1</th>\n",
       "      <td>1501009290</td>\n",
       "      <td>5</td>\n",
       "      <td>30</td>\n",
       "      <td>1</td>\n",
       "      <td>17</td>\n",
       "    </tr>\n",
       "    <tr>\n",
       "      <th>2</th>\n",
       "      <td>1105447030</td>\n",
       "      <td>8</td>\n",
       "      <td>2108</td>\n",
       "      <td>1</td>\n",
       "      <td>17</td>\n",
       "    </tr>\n",
       "    <tr>\n",
       "      <th>3</th>\n",
       "      <td>1140081090</td>\n",
       "      <td>10</td>\n",
       "      <td>12426</td>\n",
       "      <td>18</td>\n",
       "      <td>17</td>\n",
       "    </tr>\n",
       "    <tr>\n",
       "      <th>4</th>\n",
       "      <td>793448890</td>\n",
       "      <td>5</td>\n",
       "      <td>443</td>\n",
       "      <td>2</td>\n",
       "      <td>17</td>\n",
       "    </tr>\n",
       "  </tbody>\n",
       "</table>\n",
       "</div>"
      ],
      "text/plain": [
       "   product_id  top  bottom  primary  secondary\n",
       "0   661373440   10   12426       17         14\n",
       "1  1501009290    5      30        1         17\n",
       "2  1105447030    8    2108        1         17\n",
       "3  1140081090   10   12426       18         17\n",
       "4   793448890    5     443        2         17"
      ]
     },
     "execution_count": 41,
     "metadata": {},
     "output_type": "execute_result"
    }
   ],
   "source": [
    "df3.head()"
   ]
  },
  {
   "cell_type": "code",
   "execution_count": null,
   "id": "ca2b66c6-65b6-41c2-a3c7-119511e7656f",
   "metadata": {},
   "outputs": [],
   "source": []
  }
 ],
 "metadata": {
  "kernelspec": {
   "display_name": "Python 3 (ipykernel)",
   "language": "python",
   "name": "python3"
  },
  "language_info": {
   "codemirror_mode": {
    "name": "ipython",
    "version": 3
   },
   "file_extension": ".py",
   "mimetype": "text/x-python",
   "name": "python",
   "nbconvert_exporter": "python",
   "pygments_lexer": "ipython3",
   "version": "3.11.9"
  }
 },
 "nbformat": 4,
 "nbformat_minor": 5
}
